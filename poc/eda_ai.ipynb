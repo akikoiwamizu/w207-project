{
 "cells": [
  {
   "cell_type": "markdown",
   "id": "aa1b160e",
   "metadata": {},
   "source": [
    "# W207 Group Project: Real vs Fake News \n",
    "#### Members: Akiko Iwamizu, Allison Fox, Jason Yang, Rohin Chabra"
   ]
  },
  {
   "cell_type": "markdown",
   "id": "ccc9b7f6",
   "metadata": {},
   "source": [
    "## Import & Clean Data"
   ]
  },
  {
   "cell_type": "code",
   "execution_count": 156,
   "id": "cc3286a2",
   "metadata": {
    "scrolled": true
   },
   "outputs": [],
   "source": [
    "# Load libraries.\n",
    "import pandas as pd\n",
    "import numpy as np\n",
    "import matplotlib.pyplot as plt\n",
    "import zipfile\n",
    "\n",
    "import time\n",
    "import re\n",
    "import nltk\n",
    "import string\n",
    "\n",
    "from nltk.corpus import stopwords\n",
    "from sklearn.model_selection import train_test_split"
   ]
  },
  {
   "cell_type": "code",
   "execution_count": 57,
   "id": "9ba8f82e",
   "metadata": {
    "collapsed": true,
    "scrolled": true
   },
   "outputs": [
    {
     "name": "stdout",
     "output_type": "stream",
     "text": [
      "/Users/akikoiwamizu/Documents/Documents - Akiko’s iMac 27\"/GitHub/w207-project\r\n"
     ]
    }
   ],
   "source": [
    "!pwd"
   ]
  },
  {
   "cell_type": "code",
   "execution_count": 15,
   "id": "62cbe2af",
   "metadata": {
    "collapsed": true,
    "scrolled": true
   },
   "outputs": [
    {
     "data": {
      "text/html": [
       "<div>\n",
       "<style scoped>\n",
       "    .dataframe tbody tr th:only-of-type {\n",
       "        vertical-align: middle;\n",
       "    }\n",
       "\n",
       "    .dataframe tbody tr th {\n",
       "        vertical-align: top;\n",
       "    }\n",
       "\n",
       "    .dataframe thead th {\n",
       "        text-align: right;\n",
       "    }\n",
       "</style>\n",
       "<table border=\"1\" class=\"dataframe\">\n",
       "  <thead>\n",
       "    <tr style=\"text-align: right;\">\n",
       "      <th></th>\n",
       "      <th>title</th>\n",
       "      <th>text</th>\n",
       "      <th>subject</th>\n",
       "      <th>date</th>\n",
       "    </tr>\n",
       "  </thead>\n",
       "  <tbody>\n",
       "    <tr>\n",
       "      <th>0</th>\n",
       "      <td>Donald Trump Sends Out Embarrassing New Year’...</td>\n",
       "      <td>Donald Trump just couldn t wish all Americans ...</td>\n",
       "      <td>News</td>\n",
       "      <td>December 31, 2017</td>\n",
       "    </tr>\n",
       "    <tr>\n",
       "      <th>1</th>\n",
       "      <td>Drunk Bragging Trump Staffer Started Russian ...</td>\n",
       "      <td>House Intelligence Committee Chairman Devin Nu...</td>\n",
       "      <td>News</td>\n",
       "      <td>December 31, 2017</td>\n",
       "    </tr>\n",
       "    <tr>\n",
       "      <th>2</th>\n",
       "      <td>Sheriff David Clarke Becomes An Internet Joke...</td>\n",
       "      <td>On Friday, it was revealed that former Milwauk...</td>\n",
       "      <td>News</td>\n",
       "      <td>December 30, 2017</td>\n",
       "    </tr>\n",
       "    <tr>\n",
       "      <th>3</th>\n",
       "      <td>Trump Is So Obsessed He Even Has Obama’s Name...</td>\n",
       "      <td>On Christmas day, Donald Trump announced that ...</td>\n",
       "      <td>News</td>\n",
       "      <td>December 29, 2017</td>\n",
       "    </tr>\n",
       "    <tr>\n",
       "      <th>4</th>\n",
       "      <td>Pope Francis Just Called Out Donald Trump Dur...</td>\n",
       "      <td>Pope Francis used his annual Christmas Day mes...</td>\n",
       "      <td>News</td>\n",
       "      <td>December 25, 2017</td>\n",
       "    </tr>\n",
       "  </tbody>\n",
       "</table>\n",
       "</div>"
      ],
      "text/plain": [
       "                                               title  \\\n",
       "0   Donald Trump Sends Out Embarrassing New Year’...   \n",
       "1   Drunk Bragging Trump Staffer Started Russian ...   \n",
       "2   Sheriff David Clarke Becomes An Internet Joke...   \n",
       "3   Trump Is So Obsessed He Even Has Obama’s Name...   \n",
       "4   Pope Francis Just Called Out Donald Trump Dur...   \n",
       "\n",
       "                                                text subject  \\\n",
       "0  Donald Trump just couldn t wish all Americans ...    News   \n",
       "1  House Intelligence Committee Chairman Devin Nu...    News   \n",
       "2  On Friday, it was revealed that former Milwauk...    News   \n",
       "3  On Christmas day, Donald Trump announced that ...    News   \n",
       "4  Pope Francis used his annual Christmas Day mes...    News   \n",
       "\n",
       "                date  \n",
       "0  December 31, 2017  \n",
       "1  December 31, 2017  \n",
       "2  December 30, 2017  \n",
       "3  December 29, 2017  \n",
       "4  December 25, 2017  "
      ]
     },
     "execution_count": 15,
     "metadata": {},
     "output_type": "execute_result"
    }
   ],
   "source": [
    "# Read in fake news data file.\n",
    "fake_zip = zipfile.ZipFile(\"input/fake-and-real-news-dataset/Fake.csv.zip\") \n",
    "fake = pd.read_csv(fake_zip.open(\"Fake.csv\"))\n",
    "fake.head()"
   ]
  },
  {
   "cell_type": "code",
   "execution_count": 16,
   "id": "5a481afc",
   "metadata": {
    "collapsed": true,
    "scrolled": true
   },
   "outputs": [
    {
     "data": {
      "text/html": [
       "<div>\n",
       "<style scoped>\n",
       "    .dataframe tbody tr th:only-of-type {\n",
       "        vertical-align: middle;\n",
       "    }\n",
       "\n",
       "    .dataframe tbody tr th {\n",
       "        vertical-align: top;\n",
       "    }\n",
       "\n",
       "    .dataframe thead th {\n",
       "        text-align: right;\n",
       "    }\n",
       "</style>\n",
       "<table border=\"1\" class=\"dataframe\">\n",
       "  <thead>\n",
       "    <tr style=\"text-align: right;\">\n",
       "      <th></th>\n",
       "      <th>title</th>\n",
       "      <th>text</th>\n",
       "      <th>subject</th>\n",
       "      <th>date</th>\n",
       "    </tr>\n",
       "  </thead>\n",
       "  <tbody>\n",
       "    <tr>\n",
       "      <th>0</th>\n",
       "      <td>As U.S. budget fight looms, Republicans flip t...</td>\n",
       "      <td>WASHINGTON (Reuters) - The head of a conservat...</td>\n",
       "      <td>politicsNews</td>\n",
       "      <td>December 31, 2017</td>\n",
       "    </tr>\n",
       "    <tr>\n",
       "      <th>1</th>\n",
       "      <td>U.S. military to accept transgender recruits o...</td>\n",
       "      <td>WASHINGTON (Reuters) - Transgender people will...</td>\n",
       "      <td>politicsNews</td>\n",
       "      <td>December 29, 2017</td>\n",
       "    </tr>\n",
       "    <tr>\n",
       "      <th>2</th>\n",
       "      <td>Senior U.S. Republican senator: 'Let Mr. Muell...</td>\n",
       "      <td>WASHINGTON (Reuters) - The special counsel inv...</td>\n",
       "      <td>politicsNews</td>\n",
       "      <td>December 31, 2017</td>\n",
       "    </tr>\n",
       "    <tr>\n",
       "      <th>3</th>\n",
       "      <td>FBI Russia probe helped by Australian diplomat...</td>\n",
       "      <td>WASHINGTON (Reuters) - Trump campaign adviser ...</td>\n",
       "      <td>politicsNews</td>\n",
       "      <td>December 30, 2017</td>\n",
       "    </tr>\n",
       "    <tr>\n",
       "      <th>4</th>\n",
       "      <td>Trump wants Postal Service to charge 'much mor...</td>\n",
       "      <td>SEATTLE/WASHINGTON (Reuters) - President Donal...</td>\n",
       "      <td>politicsNews</td>\n",
       "      <td>December 29, 2017</td>\n",
       "    </tr>\n",
       "  </tbody>\n",
       "</table>\n",
       "</div>"
      ],
      "text/plain": [
       "                                               title  \\\n",
       "0  As U.S. budget fight looms, Republicans flip t...   \n",
       "1  U.S. military to accept transgender recruits o...   \n",
       "2  Senior U.S. Republican senator: 'Let Mr. Muell...   \n",
       "3  FBI Russia probe helped by Australian diplomat...   \n",
       "4  Trump wants Postal Service to charge 'much mor...   \n",
       "\n",
       "                                                text       subject  \\\n",
       "0  WASHINGTON (Reuters) - The head of a conservat...  politicsNews   \n",
       "1  WASHINGTON (Reuters) - Transgender people will...  politicsNews   \n",
       "2  WASHINGTON (Reuters) - The special counsel inv...  politicsNews   \n",
       "3  WASHINGTON (Reuters) - Trump campaign adviser ...  politicsNews   \n",
       "4  SEATTLE/WASHINGTON (Reuters) - President Donal...  politicsNews   \n",
       "\n",
       "                 date  \n",
       "0  December 31, 2017   \n",
       "1  December 29, 2017   \n",
       "2  December 31, 2017   \n",
       "3  December 30, 2017   \n",
       "4  December 29, 2017   "
      ]
     },
     "execution_count": 16,
     "metadata": {},
     "output_type": "execute_result"
    }
   ],
   "source": [
    "# Read in true news data file.\n",
    "true_zip = zipfile.ZipFile(\"input/fake-and-real-news-dataset/True.csv.zip\") \n",
    "true = pd.read_csv(true_zip.open(\"True.csv\"))\n",
    "true.head()"
   ]
  },
  {
   "cell_type": "code",
   "execution_count": 87,
   "id": "08c70b6b",
   "metadata": {
    "collapsed": true,
    "scrolled": true
   },
   "outputs": [
    {
     "data": {
      "text/plain": [
       "(23481, 6)"
      ]
     },
     "execution_count": 87,
     "metadata": {},
     "output_type": "execute_result"
    }
   ],
   "source": [
    "# Create label columns for the fake news data set.\n",
    "fake[\"label\"] = \"false\"\n",
    "fake[\"label_bin\"] = 0\n",
    "fake.shape"
   ]
  },
  {
   "cell_type": "code",
   "execution_count": 88,
   "id": "c78ca812",
   "metadata": {
    "collapsed": true,
    "scrolled": true
   },
   "outputs": [
    {
     "data": {
      "text/plain": [
       "(21417, 6)"
      ]
     },
     "execution_count": 88,
     "metadata": {},
     "output_type": "execute_result"
    }
   ],
   "source": [
    "# Create label columns for the true news data set.\n",
    "true[\"label\"] = \"true\"\n",
    "true[\"label_bin\"] = 1\n",
    "true.shape"
   ]
  },
  {
   "cell_type": "code",
   "execution_count": 89,
   "id": "3504bef0",
   "metadata": {
    "collapsed": true,
    "scrolled": true
   },
   "outputs": [
    {
     "data": {
      "text/plain": [
       "(44898, 6)"
      ]
     },
     "execution_count": 89,
     "metadata": {},
     "output_type": "execute_result"
    }
   ],
   "source": [
    "# Merge + combine data sets into one.\n",
    "data = [fake, true]\n",
    "df = pd.concat(data, ignore_index=True)\n",
    "df.shape"
   ]
  },
  {
   "cell_type": "code",
   "execution_count": 90,
   "id": "6292cea8",
   "metadata": {
    "collapsed": true,
    "scrolled": true
   },
   "outputs": [],
   "source": [
    "# Set the randomizer seed so results are the same each time.\n",
    "np.random.seed(0)"
   ]
  },
  {
   "cell_type": "code",
   "execution_count": 91,
   "id": "2d91c9a9",
   "metadata": {
    "collapsed": true,
    "scrolled": true
   },
   "outputs": [
    {
     "name": "stdout",
     "output_type": "stream",
     "text": [
      "<class 'pandas.core.frame.DataFrame'>\n",
      "RangeIndex: 44898 entries, 0 to 44897\n",
      "Data columns (total 6 columns):\n",
      " #   Column     Non-Null Count  Dtype \n",
      "---  ------     --------------  ----- \n",
      " 0   title      44898 non-null  object\n",
      " 1   text       44898 non-null  object\n",
      " 2   subject    44898 non-null  object\n",
      " 3   date       44898 non-null  object\n",
      " 4   label      44898 non-null  object\n",
      " 5   label_bin  44898 non-null  int64 \n",
      "dtypes: int64(1), object(5)\n",
      "memory usage: 2.1+ MB\n"
     ]
    }
   ],
   "source": [
    "df.info()"
   ]
  },
  {
   "cell_type": "code",
   "execution_count": 92,
   "id": "f4c4d91c",
   "metadata": {
    "collapsed": true,
    "scrolled": true
   },
   "outputs": [
    {
     "name": "stdout",
     "output_type": "stream",
     "text": [
      "Empty records:\n",
      "title        0\n",
      "text         0\n",
      "subject      0\n",
      "date         0\n",
      "label        0\n",
      "label_bin    0\n",
      "dtype: int64\n"
     ]
    }
   ],
   "source": [
    "# Confirm the population of each column.\n",
    "print(f\"Empty records:\\n{df.isna().sum()}\")"
   ]
  },
  {
   "cell_type": "code",
   "execution_count": 101,
   "id": "4a88931f",
   "metadata": {
    "collapsed": true,
    "scrolled": true
   },
   "outputs": [],
   "source": [
    "# Pipeline for cleaning text inputs.\n",
    "def preprocess_text(text, lemmatizer, wordTokenizer, stop_words):\n",
    "    \"\"\"Use regex and other tools for pre-processing of the text.\"\"\"\n",
    "    text = str(text).lower()\n",
    "    text = re.sub(\"https?://\\S+|www\\.\\S+\", \"\", text)\n",
    "    text = re.sub(\" +\", \" \",text)\n",
    "    text = re.sub(\"[%s]\" % re.escape(string.punctuation), \"\", text)\n",
    "    text = re.sub(r\"[^a-zA-Z\\s]\", \" \", str(text))\n",
    "    text = re.sub(\"https?://\\S+|www\\.\\S+\", \"\", text)\n",
    "    text = re.sub(\"<.*?>+\", \"\", text)\n",
    "    text = re.sub(\"\\n\", \"\", text)\n",
    "    text = \" \".join([lemmatizer.lemmatize(w) for w in wordTokenizer.tokenize(text) if (w not in stop_words)])\n",
    "    return text"
   ]
  },
  {
   "cell_type": "code",
   "execution_count": 112,
   "id": "ab712e4e",
   "metadata": {
    "scrolled": true
   },
   "outputs": [
    {
     "name": "stderr",
     "output_type": "stream",
     "text": [
      "[nltk_data] Downloading package omw-1.4 to\n",
      "[nltk_data]     /Users/akikoiwamizu/nltk_data...\n",
      "[nltk_data]   Unzipping corpora/omw-1.4.zip.\n",
      "[nltk_data] Downloading package punkt to\n",
      "[nltk_data]     /Users/akikoiwamizu/nltk_data...\n",
      "[nltk_data]   Package punkt is already up-to-date!\n",
      "[nltk_data] Downloading package stopwords to\n",
      "[nltk_data]     /Users/akikoiwamizu/nltk_data...\n",
      "[nltk_data]   Package stopwords is already up-to-date!\n",
      "[nltk_data] Downloading package wordnet to\n",
      "[nltk_data]     /Users/akikoiwamizu/nltk_data...\n",
      "[nltk_data]   Package wordnet is already up-to-date!\n"
     ]
    },
    {
     "name": "stdout",
     "output_type": "stream",
     "text": [
      "47.015 seconds to execute pre-processing text inputs...\n"
     ]
    }
   ],
   "source": [
    "# Clean up text features.\n",
    "nltk.download(\"omw-1.4\")\n",
    "nltk.download(\"punkt\")\n",
    "nltk.download(\"stopwords\")\n",
    "nltk.download(\"wordnet\")\n",
    "\n",
    "start_time = time.time()\n",
    "stop_words = set(stopwords.words(\"english\"))\n",
    "lemmatizer = nltk.stem.WordNetLemmatizer()\n",
    "wordTokenizer = nltk.tokenize.WhitespaceTokenizer()\n",
    "\n",
    "df[\"clean_title\"] = df[\"title\"].apply(lambda text: preprocess_text(text, lemmatizer, wordTokenizer, stop_words))\n",
    "df[\"clean_text\"] = df[\"text\"].apply(lambda text: preprocess_text(text, lemmatizer, wordTokenizer, stop_words))\n",
    "\n",
    "print(f\"{(time.time() - start_time):0.3f} seconds to execute pre-processing text inputs...\")"
   ]
  },
  {
   "cell_type": "code",
   "execution_count": 113,
   "id": "18d66b68",
   "metadata": {
    "scrolled": true
   },
   "outputs": [
    {
     "data": {
      "text/html": [
       "<div>\n",
       "<style scoped>\n",
       "    .dataframe tbody tr th:only-of-type {\n",
       "        vertical-align: middle;\n",
       "    }\n",
       "\n",
       "    .dataframe tbody tr th {\n",
       "        vertical-align: top;\n",
       "    }\n",
       "\n",
       "    .dataframe thead th {\n",
       "        text-align: right;\n",
       "    }\n",
       "</style>\n",
       "<table border=\"1\" class=\"dataframe\">\n",
       "  <thead>\n",
       "    <tr style=\"text-align: right;\">\n",
       "      <th></th>\n",
       "      <th>title</th>\n",
       "      <th>text</th>\n",
       "      <th>subject</th>\n",
       "      <th>date</th>\n",
       "      <th>label</th>\n",
       "      <th>label_bin</th>\n",
       "      <th>clean_title</th>\n",
       "      <th>clean_text</th>\n",
       "    </tr>\n",
       "  </thead>\n",
       "  <tbody>\n",
       "    <tr>\n",
       "      <th>0</th>\n",
       "      <td>Donald Trump Sends Out Embarrassing New Year’...</td>\n",
       "      <td>Donald Trump just couldn t wish all Americans ...</td>\n",
       "      <td>News</td>\n",
       "      <td>December 31, 2017</td>\n",
       "      <td>false</td>\n",
       "      <td>0</td>\n",
       "      <td>donald trump sends embarrassing new year eve m...</td>\n",
       "      <td>donald trump wish american happy new year leav...</td>\n",
       "    </tr>\n",
       "    <tr>\n",
       "      <th>1</th>\n",
       "      <td>Drunk Bragging Trump Staffer Started Russian ...</td>\n",
       "      <td>House Intelligence Committee Chairman Devin Nu...</td>\n",
       "      <td>News</td>\n",
       "      <td>December 31, 2017</td>\n",
       "      <td>false</td>\n",
       "      <td>0</td>\n",
       "      <td>drunk bragging trump staffer started russian c...</td>\n",
       "      <td>house intelligence committee chairman devin nu...</td>\n",
       "    </tr>\n",
       "    <tr>\n",
       "      <th>2</th>\n",
       "      <td>Sheriff David Clarke Becomes An Internet Joke...</td>\n",
       "      <td>On Friday, it was revealed that former Milwauk...</td>\n",
       "      <td>News</td>\n",
       "      <td>December 30, 2017</td>\n",
       "      <td>false</td>\n",
       "      <td>0</td>\n",
       "      <td>sheriff david clarke becomes internet joke thr...</td>\n",
       "      <td>friday revealed former milwaukee sheriff david...</td>\n",
       "    </tr>\n",
       "    <tr>\n",
       "      <th>3</th>\n",
       "      <td>Trump Is So Obsessed He Even Has Obama’s Name...</td>\n",
       "      <td>On Christmas day, Donald Trump announced that ...</td>\n",
       "      <td>News</td>\n",
       "      <td>December 29, 2017</td>\n",
       "      <td>false</td>\n",
       "      <td>0</td>\n",
       "      <td>trump obsessed even obama name coded website i...</td>\n",
       "      <td>christmas day donald trump announced would bac...</td>\n",
       "    </tr>\n",
       "    <tr>\n",
       "      <th>4</th>\n",
       "      <td>Pope Francis Just Called Out Donald Trump Dur...</td>\n",
       "      <td>Pope Francis used his annual Christmas Day mes...</td>\n",
       "      <td>News</td>\n",
       "      <td>December 25, 2017</td>\n",
       "      <td>false</td>\n",
       "      <td>0</td>\n",
       "      <td>pope francis called donald trump christmas speech</td>\n",
       "      <td>pope francis used annual christmas day message...</td>\n",
       "    </tr>\n",
       "  </tbody>\n",
       "</table>\n",
       "</div>"
      ],
      "text/plain": [
       "                                               title  \\\n",
       "0   Donald Trump Sends Out Embarrassing New Year’...   \n",
       "1   Drunk Bragging Trump Staffer Started Russian ...   \n",
       "2   Sheriff David Clarke Becomes An Internet Joke...   \n",
       "3   Trump Is So Obsessed He Even Has Obama’s Name...   \n",
       "4   Pope Francis Just Called Out Donald Trump Dur...   \n",
       "\n",
       "                                                text subject  \\\n",
       "0  Donald Trump just couldn t wish all Americans ...    News   \n",
       "1  House Intelligence Committee Chairman Devin Nu...    News   \n",
       "2  On Friday, it was revealed that former Milwauk...    News   \n",
       "3  On Christmas day, Donald Trump announced that ...    News   \n",
       "4  Pope Francis used his annual Christmas Day mes...    News   \n",
       "\n",
       "                date  label  label_bin  \\\n",
       "0  December 31, 2017  false          0   \n",
       "1  December 31, 2017  false          0   \n",
       "2  December 30, 2017  false          0   \n",
       "3  December 29, 2017  false          0   \n",
       "4  December 25, 2017  false          0   \n",
       "\n",
       "                                         clean_title  \\\n",
       "0  donald trump sends embarrassing new year eve m...   \n",
       "1  drunk bragging trump staffer started russian c...   \n",
       "2  sheriff david clarke becomes internet joke thr...   \n",
       "3  trump obsessed even obama name coded website i...   \n",
       "4  pope francis called donald trump christmas speech   \n",
       "\n",
       "                                          clean_text  \n",
       "0  donald trump wish american happy new year leav...  \n",
       "1  house intelligence committee chairman devin nu...  \n",
       "2  friday revealed former milwaukee sheriff david...  \n",
       "3  christmas day donald trump announced would bac...  \n",
       "4  pope francis used annual christmas day message...  "
      ]
     },
     "execution_count": 113,
     "metadata": {},
     "output_type": "execute_result"
    }
   ],
   "source": [
    "df.head()"
   ]
  },
  {
   "cell_type": "code",
   "execution_count": 114,
   "id": "2d7776e7",
   "metadata": {
    "scrolled": true
   },
   "outputs": [
    {
     "data": {
      "text/plain": [
       "count                                         44898\n",
       "unique                                        38672\n",
       "top       factbox trump fill top job administration\n",
       "freq                                             14\n",
       "Name: clean_title, dtype: object"
      ]
     },
     "execution_count": 114,
     "metadata": {},
     "output_type": "execute_result"
    }
   ],
   "source": [
    "df[\"clean_title\"].describe()"
   ]
  },
  {
   "cell_type": "code",
   "execution_count": 115,
   "id": "d66a9222",
   "metadata": {
    "scrolled": true
   },
   "outputs": [
    {
     "data": {
      "text/plain": [
       "count     44898\n",
       "unique    38315\n",
       "top            \n",
       "freq        716\n",
       "Name: clean_text, dtype: object"
      ]
     },
     "execution_count": 115,
     "metadata": {},
     "output_type": "execute_result"
    }
   ],
   "source": [
    "df[\"clean_text\"].describe()"
   ]
  },
  {
   "cell_type": "code",
   "execution_count": 151,
   "id": "6babcc61",
   "metadata": {},
   "outputs": [
    {
     "data": {
      "text/html": [
       "<div>\n",
       "<style scoped>\n",
       "    .dataframe tbody tr th:only-of-type {\n",
       "        vertical-align: middle;\n",
       "    }\n",
       "\n",
       "    .dataframe tbody tr th {\n",
       "        vertical-align: top;\n",
       "    }\n",
       "\n",
       "    .dataframe thead th {\n",
       "        text-align: right;\n",
       "    }\n",
       "</style>\n",
       "<table border=\"1\" class=\"dataframe\">\n",
       "  <thead>\n",
       "    <tr style=\"text-align: right;\">\n",
       "      <th></th>\n",
       "      <th>title</th>\n",
       "      <th>text</th>\n",
       "      <th>subject</th>\n",
       "      <th>date</th>\n",
       "      <th>label</th>\n",
       "      <th>label_bin</th>\n",
       "      <th>clean_title</th>\n",
       "      <th>clean_text</th>\n",
       "    </tr>\n",
       "  </thead>\n",
       "  <tbody>\n",
       "    <tr>\n",
       "      <th>15840</th>\n",
       "      <td>https://fedup.wpengine.com/wp-content/uploads/...</td>\n",
       "      <td>https://fedup.wpengine.com/wp-content/uploads/...</td>\n",
       "      <td>politics</td>\n",
       "      <td>NaT</td>\n",
       "      <td>false</td>\n",
       "      <td>0</td>\n",
       "      <td></td>\n",
       "      <td></td>\n",
       "    </tr>\n",
       "    <tr>\n",
       "      <th>17432</th>\n",
       "      <td>https://fedup.wpengine.com/wp-content/uploads/...</td>\n",
       "      <td>https://fedup.wpengine.com/wp-content/uploads/...</td>\n",
       "      <td>Government News</td>\n",
       "      <td>NaT</td>\n",
       "      <td>false</td>\n",
       "      <td>0</td>\n",
       "      <td></td>\n",
       "      <td></td>\n",
       "    </tr>\n",
       "    <tr>\n",
       "      <th>17433</th>\n",
       "      <td>https://fedup.wpengine.com/wp-content/uploads/...</td>\n",
       "      <td>https://fedup.wpengine.com/wp-content/uploads/...</td>\n",
       "      <td>Government News</td>\n",
       "      <td>NaT</td>\n",
       "      <td>false</td>\n",
       "      <td>0</td>\n",
       "      <td></td>\n",
       "      <td></td>\n",
       "    </tr>\n",
       "    <tr>\n",
       "      <th>21869</th>\n",
       "      <td>https://fedup.wpengine.com/wp-content/uploads/...</td>\n",
       "      <td>https://fedup.wpengine.com/wp-content/uploads/...</td>\n",
       "      <td>left-news</td>\n",
       "      <td>NaT</td>\n",
       "      <td>false</td>\n",
       "      <td>0</td>\n",
       "      <td></td>\n",
       "      <td></td>\n",
       "    </tr>\n",
       "    <tr>\n",
       "      <th>21870</th>\n",
       "      <td>https://fedup.wpengine.com/wp-content/uploads/...</td>\n",
       "      <td>https://fedup.wpengine.com/wp-content/uploads/...</td>\n",
       "      <td>left-news</td>\n",
       "      <td>NaT</td>\n",
       "      <td>false</td>\n",
       "      <td>0</td>\n",
       "      <td></td>\n",
       "      <td></td>\n",
       "    </tr>\n",
       "  </tbody>\n",
       "</table>\n",
       "</div>"
      ],
      "text/plain": [
       "                                                   title  \\\n",
       "15840  https://fedup.wpengine.com/wp-content/uploads/...   \n",
       "17432  https://fedup.wpengine.com/wp-content/uploads/...   \n",
       "17433  https://fedup.wpengine.com/wp-content/uploads/...   \n",
       "21869  https://fedup.wpengine.com/wp-content/uploads/...   \n",
       "21870  https://fedup.wpengine.com/wp-content/uploads/...   \n",
       "\n",
       "                                                    text          subject  \\\n",
       "15840  https://fedup.wpengine.com/wp-content/uploads/...         politics   \n",
       "17432  https://fedup.wpengine.com/wp-content/uploads/...  Government News   \n",
       "17433  https://fedup.wpengine.com/wp-content/uploads/...  Government News   \n",
       "21869  https://fedup.wpengine.com/wp-content/uploads/...        left-news   \n",
       "21870  https://fedup.wpengine.com/wp-content/uploads/...        left-news   \n",
       "\n",
       "      date  label  label_bin clean_title clean_text  \n",
       "15840  NaT  false          0                         \n",
       "17432  NaT  false          0                         \n",
       "17433  NaT  false          0                         \n",
       "21869  NaT  false          0                         \n",
       "21870  NaT  false          0                         "
      ]
     },
     "execution_count": 151,
     "metadata": {},
     "output_type": "execute_result"
    }
   ],
   "source": [
    "df[df['clean_title'] == ''].head()"
   ]
  },
  {
   "cell_type": "code",
   "execution_count": 128,
   "id": "987f17d6",
   "metadata": {
    "scrolled": true
   },
   "outputs": [
    {
     "data": {
      "text/html": [
       "<div>\n",
       "<style scoped>\n",
       "    .dataframe tbody tr th:only-of-type {\n",
       "        vertical-align: middle;\n",
       "    }\n",
       "\n",
       "    .dataframe tbody tr th {\n",
       "        vertical-align: top;\n",
       "    }\n",
       "\n",
       "    .dataframe thead th {\n",
       "        text-align: right;\n",
       "    }\n",
       "</style>\n",
       "<table border=\"1\" class=\"dataframe\">\n",
       "  <thead>\n",
       "    <tr style=\"text-align: right;\">\n",
       "      <th></th>\n",
       "      <th>title</th>\n",
       "      <th>text</th>\n",
       "      <th>subject</th>\n",
       "      <th>date</th>\n",
       "      <th>label</th>\n",
       "      <th>label_bin</th>\n",
       "      <th>clean_title</th>\n",
       "      <th>clean_text</th>\n",
       "    </tr>\n",
       "  </thead>\n",
       "  <tbody>\n",
       "    <tr>\n",
       "      <th>9358</th>\n",
       "      <td>https://100percentfedup.com/served-roy-moore-v...</td>\n",
       "      <td>https://100percentfedup.com/served-roy-moore-v...</td>\n",
       "      <td>politics</td>\n",
       "      <td>https://100percentfedup.com/served-roy-moore-v...</td>\n",
       "      <td>false</td>\n",
       "      <td>0</td>\n",
       "      <td></td>\n",
       "      <td></td>\n",
       "    </tr>\n",
       "    <tr>\n",
       "      <th>10923</th>\n",
       "      <td>TAKE OUR POLL: Who Do You Think President Trum...</td>\n",
       "      <td></td>\n",
       "      <td>politics</td>\n",
       "      <td>May 10, 2017</td>\n",
       "      <td>false</td>\n",
       "      <td>0</td>\n",
       "      <td>take poll think president trump pick replace j...</td>\n",
       "      <td></td>\n",
       "    </tr>\n",
       "    <tr>\n",
       "      <th>11041</th>\n",
       "      <td>Joe Scarborough BERATES Mika Brzezinski Over “...</td>\n",
       "      <td></td>\n",
       "      <td>politics</td>\n",
       "      <td>Apr 26, 2017</td>\n",
       "      <td>false</td>\n",
       "      <td>0</td>\n",
       "      <td>joe scarborough berates mika brzezinski cheap ...</td>\n",
       "      <td></td>\n",
       "    </tr>\n",
       "    <tr>\n",
       "      <th>11190</th>\n",
       "      <td>WATCH TUCKER CARLSON Scorch Sanctuary City May...</td>\n",
       "      <td></td>\n",
       "      <td>politics</td>\n",
       "      <td>Apr 6, 2017</td>\n",
       "      <td>false</td>\n",
       "      <td>0</td>\n",
       "      <td>watch tucker carlson scorch sanctuary city may...</td>\n",
       "      <td></td>\n",
       "    </tr>\n",
       "    <tr>\n",
       "      <th>11225</th>\n",
       "      <td>MAYOR OF SANCTUARY CITY: Trump Trying To Make ...</td>\n",
       "      <td></td>\n",
       "      <td>politics</td>\n",
       "      <td>Apr 2, 2017</td>\n",
       "      <td>false</td>\n",
       "      <td>0</td>\n",
       "      <td>mayor sanctuary city trump trying make u fugit...</td>\n",
       "      <td></td>\n",
       "    </tr>\n",
       "  </tbody>\n",
       "</table>\n",
       "</div>"
      ],
      "text/plain": [
       "                                                   title  \\\n",
       "9358   https://100percentfedup.com/served-roy-moore-v...   \n",
       "10923  TAKE OUR POLL: Who Do You Think President Trum...   \n",
       "11041  Joe Scarborough BERATES Mika Brzezinski Over “...   \n",
       "11190  WATCH TUCKER CARLSON Scorch Sanctuary City May...   \n",
       "11225  MAYOR OF SANCTUARY CITY: Trump Trying To Make ...   \n",
       "\n",
       "                                                    text   subject  \\\n",
       "9358   https://100percentfedup.com/served-roy-moore-v...  politics   \n",
       "10923                                                     politics   \n",
       "11041                                                     politics   \n",
       "11190                                                     politics   \n",
       "11225                                                     politics   \n",
       "\n",
       "                                                    date  label  label_bin  \\\n",
       "9358   https://100percentfedup.com/served-roy-moore-v...  false          0   \n",
       "10923                                       May 10, 2017  false          0   \n",
       "11041                                       Apr 26, 2017  false          0   \n",
       "11190                                        Apr 6, 2017  false          0   \n",
       "11225                                        Apr 2, 2017  false          0   \n",
       "\n",
       "                                             clean_title clean_text  \n",
       "9358                                                                 \n",
       "10923  take poll think president trump pick replace j...             \n",
       "11041  joe scarborough berates mika brzezinski cheap ...             \n",
       "11190  watch tucker carlson scorch sanctuary city may...             \n",
       "11225  mayor sanctuary city trump trying make u fugit...             "
      ]
     },
     "execution_count": 128,
     "metadata": {},
     "output_type": "execute_result"
    }
   ],
   "source": [
    "df[df['clean_text'] == ''].head()"
   ]
  },
  {
   "cell_type": "code",
   "execution_count": 152,
   "id": "850e8f5d",
   "metadata": {
    "scrolled": true
   },
   "outputs": [
    {
     "data": {
      "text/html": [
       "<div>\n",
       "<style scoped>\n",
       "    .dataframe tbody tr th:only-of-type {\n",
       "        vertical-align: middle;\n",
       "    }\n",
       "\n",
       "    .dataframe tbody tr th {\n",
       "        vertical-align: top;\n",
       "    }\n",
       "\n",
       "    .dataframe thead th {\n",
       "        text-align: right;\n",
       "    }\n",
       "</style>\n",
       "<table border=\"1\" class=\"dataframe\">\n",
       "  <thead>\n",
       "    <tr style=\"text-align: right;\">\n",
       "      <th></th>\n",
       "      <th>title</th>\n",
       "      <th>text</th>\n",
       "      <th>subject</th>\n",
       "      <th>date</th>\n",
       "      <th>label</th>\n",
       "      <th>label_bin</th>\n",
       "      <th>clean_title</th>\n",
       "      <th>clean_text</th>\n",
       "    </tr>\n",
       "  </thead>\n",
       "  <tbody>\n",
       "    <tr>\n",
       "      <th>9358</th>\n",
       "      <td>https://100percentfedup.com/served-roy-moore-v...</td>\n",
       "      <td>https://100percentfedup.com/served-roy-moore-v...</td>\n",
       "      <td>politics</td>\n",
       "      <td>NaT</td>\n",
       "      <td>false</td>\n",
       "      <td>0</td>\n",
       "      <td></td>\n",
       "      <td></td>\n",
       "    </tr>\n",
       "    <tr>\n",
       "      <th>15507</th>\n",
       "      <td>https://100percentfedup.com/video-hillary-aske...</td>\n",
       "      <td>https://100percentfedup.com/video-hillary-aske...</td>\n",
       "      <td>politics</td>\n",
       "      <td>NaT</td>\n",
       "      <td>false</td>\n",
       "      <td>0</td>\n",
       "      <td></td>\n",
       "      <td></td>\n",
       "    </tr>\n",
       "    <tr>\n",
       "      <th>15508</th>\n",
       "      <td>https://100percentfedup.com/12-yr-old-black-co...</td>\n",
       "      <td>https://100percentfedup.com/12-yr-old-black-co...</td>\n",
       "      <td>politics</td>\n",
       "      <td>NaT</td>\n",
       "      <td>false</td>\n",
       "      <td>0</td>\n",
       "      <td></td>\n",
       "      <td></td>\n",
       "    </tr>\n",
       "    <tr>\n",
       "      <th>15839</th>\n",
       "      <td>https://fedup.wpengine.com/wp-content/uploads/...</td>\n",
       "      <td>https://fedup.wpengine.com/wp-content/uploads/...</td>\n",
       "      <td>politics</td>\n",
       "      <td>NaT</td>\n",
       "      <td>false</td>\n",
       "      <td>0</td>\n",
       "      <td></td>\n",
       "      <td></td>\n",
       "    </tr>\n",
       "    <tr>\n",
       "      <th>15840</th>\n",
       "      <td>https://fedup.wpengine.com/wp-content/uploads/...</td>\n",
       "      <td>https://fedup.wpengine.com/wp-content/uploads/...</td>\n",
       "      <td>politics</td>\n",
       "      <td>NaT</td>\n",
       "      <td>false</td>\n",
       "      <td>0</td>\n",
       "      <td></td>\n",
       "      <td></td>\n",
       "    </tr>\n",
       "    <tr>\n",
       "      <th>17432</th>\n",
       "      <td>https://fedup.wpengine.com/wp-content/uploads/...</td>\n",
       "      <td>https://fedup.wpengine.com/wp-content/uploads/...</td>\n",
       "      <td>Government News</td>\n",
       "      <td>NaT</td>\n",
       "      <td>false</td>\n",
       "      <td>0</td>\n",
       "      <td></td>\n",
       "      <td></td>\n",
       "    </tr>\n",
       "    <tr>\n",
       "      <th>17433</th>\n",
       "      <td>https://fedup.wpengine.com/wp-content/uploads/...</td>\n",
       "      <td>https://fedup.wpengine.com/wp-content/uploads/...</td>\n",
       "      <td>Government News</td>\n",
       "      <td>NaT</td>\n",
       "      <td>false</td>\n",
       "      <td>0</td>\n",
       "      <td></td>\n",
       "      <td></td>\n",
       "    </tr>\n",
       "    <tr>\n",
       "      <th>18933</th>\n",
       "      <td>Homepage</td>\n",
       "      <td>[vc_row][vc_column width= 1/1 ][td_block_trend...</td>\n",
       "      <td>left-news</td>\n",
       "      <td>NaT</td>\n",
       "      <td>false</td>\n",
       "      <td>0</td>\n",
       "      <td>homepage</td>\n",
       "      <td>vcrowvccolumn width tdblocktrendingnow limit t...</td>\n",
       "    </tr>\n",
       "    <tr>\n",
       "      <th>21869</th>\n",
       "      <td>https://fedup.wpengine.com/wp-content/uploads/...</td>\n",
       "      <td>https://fedup.wpengine.com/wp-content/uploads/...</td>\n",
       "      <td>left-news</td>\n",
       "      <td>NaT</td>\n",
       "      <td>false</td>\n",
       "      <td>0</td>\n",
       "      <td></td>\n",
       "      <td></td>\n",
       "    </tr>\n",
       "    <tr>\n",
       "      <th>21870</th>\n",
       "      <td>https://fedup.wpengine.com/wp-content/uploads/...</td>\n",
       "      <td>https://fedup.wpengine.com/wp-content/uploads/...</td>\n",
       "      <td>left-news</td>\n",
       "      <td>NaT</td>\n",
       "      <td>false</td>\n",
       "      <td>0</td>\n",
       "      <td></td>\n",
       "      <td></td>\n",
       "    </tr>\n",
       "  </tbody>\n",
       "</table>\n",
       "</div>"
      ],
      "text/plain": [
       "                                                   title  \\\n",
       "9358   https://100percentfedup.com/served-roy-moore-v...   \n",
       "15507  https://100percentfedup.com/video-hillary-aske...   \n",
       "15508  https://100percentfedup.com/12-yr-old-black-co...   \n",
       "15839  https://fedup.wpengine.com/wp-content/uploads/...   \n",
       "15840  https://fedup.wpengine.com/wp-content/uploads/...   \n",
       "17432  https://fedup.wpengine.com/wp-content/uploads/...   \n",
       "17433  https://fedup.wpengine.com/wp-content/uploads/...   \n",
       "18933                                           Homepage   \n",
       "21869  https://fedup.wpengine.com/wp-content/uploads/...   \n",
       "21870  https://fedup.wpengine.com/wp-content/uploads/...   \n",
       "\n",
       "                                                    text          subject  \\\n",
       "9358   https://100percentfedup.com/served-roy-moore-v...         politics   \n",
       "15507  https://100percentfedup.com/video-hillary-aske...         politics   \n",
       "15508  https://100percentfedup.com/12-yr-old-black-co...         politics   \n",
       "15839  https://fedup.wpengine.com/wp-content/uploads/...         politics   \n",
       "15840  https://fedup.wpengine.com/wp-content/uploads/...         politics   \n",
       "17432  https://fedup.wpengine.com/wp-content/uploads/...  Government News   \n",
       "17433  https://fedup.wpengine.com/wp-content/uploads/...  Government News   \n",
       "18933  [vc_row][vc_column width= 1/1 ][td_block_trend...        left-news   \n",
       "21869  https://fedup.wpengine.com/wp-content/uploads/...        left-news   \n",
       "21870  https://fedup.wpengine.com/wp-content/uploads/...        left-news   \n",
       "\n",
       "      date  label  label_bin clean_title  \\\n",
       "9358   NaT  false          0               \n",
       "15507  NaT  false          0               \n",
       "15508  NaT  false          0               \n",
       "15839  NaT  false          0               \n",
       "15840  NaT  false          0               \n",
       "17432  NaT  false          0               \n",
       "17433  NaT  false          0               \n",
       "18933  NaT  false          0    homepage   \n",
       "21869  NaT  false          0               \n",
       "21870  NaT  false          0               \n",
       "\n",
       "                                              clean_text  \n",
       "9358                                                      \n",
       "15507                                                     \n",
       "15508                                                     \n",
       "15839                                                     \n",
       "15840                                                     \n",
       "17432                                                     \n",
       "17433                                                     \n",
       "18933  vcrowvccolumn width tdblocktrendingnow limit t...  \n",
       "21869                                                     \n",
       "21870                                                     "
      ]
     },
     "execution_count": 152,
     "metadata": {},
     "output_type": "execute_result"
    }
   ],
   "source": [
    "# Find & remove records where date column values are URLs.\n",
    "df[\"date\"] = pd.to_datetime(df[\"date\"], errors=\"coerce\")\n",
    "df.loc[df[\"date\"].isnull()]\n",
    "#print(f\"Number of invalid date records: {len(df.loc[df['date'].isnull()])}\")\n",
    "#df = df.dropna(subset=[\"date\"])"
   ]
  },
  {
   "cell_type": "code",
   "execution_count": 137,
   "id": "302c6079",
   "metadata": {
    "scrolled": true
   },
   "outputs": [
    {
     "name": "stdout",
     "output_type": "stream",
     "text": [
      "Number of empty text records: 627\n"
     ]
    }
   ],
   "source": [
    "print(f\"Number of empty text records: {len(df[df['text'] == ' '])}\")"
   ]
  },
  {
   "cell_type": "code",
   "execution_count": 125,
   "id": "1bfde4cf",
   "metadata": {
    "scrolled": true
   },
   "outputs": [
    {
     "name": "stdout",
     "output_type": "stream",
     "text": [
      "Number of empty CLEANED text records: 716\n"
     ]
    }
   ],
   "source": [
    "print(f\"Number of empty CLEANED text records: {len(df[df['clean_text'] == ''])}\")"
   ]
  },
  {
   "cell_type": "code",
   "execution_count": 126,
   "id": "00df8d26",
   "metadata": {
    "scrolled": true
   },
   "outputs": [
    {
     "name": "stdout",
     "output_type": "stream",
     "text": [
      "Number of empty title records: 0\n"
     ]
    }
   ],
   "source": [
    "print(f\"Number of empty title records: {len(df[df['title'] == ''])}\")"
   ]
  },
  {
   "cell_type": "code",
   "execution_count": 127,
   "id": "d36de236",
   "metadata": {
    "scrolled": true
   },
   "outputs": [
    {
     "name": "stdout",
     "output_type": "stream",
     "text": [
      "Number of empty CLEANED title records: 9\n"
     ]
    }
   ],
   "source": [
    "print(f\"Number of empty CLEANED title records: {len(df[df['clean_title'] == ''])}\")"
   ]
  },
  {
   "cell_type": "code",
   "execution_count": 154,
   "id": "075eb075",
   "metadata": {},
   "outputs": [
    {
     "name": "stdout",
     "output_type": "stream",
     "text": [
      "5492\n"
     ]
    }
   ],
   "source": [
    "# Find & remove records where the cleaned text or title column values are empty or NULL.\n",
    "print(df[\"text\"].str.count(\"http|www\").sum())"
   ]
  },
  {
   "cell_type": "markdown",
   "id": "53d813ca",
   "metadata": {},
   "source": [
    "## Split & Export Data"
   ]
  },
  {
   "cell_type": "code",
   "execution_count": 93,
   "id": "2ef41266",
   "metadata": {
    "collapsed": true,
    "scrolled": true
   },
   "outputs": [
    {
     "name": "stdout",
     "output_type": "stream",
     "text": [
      "Train data shape: (31428, 6)\n",
      "Test data shape: (6735, 6)\n",
      "Dev data shape: (6735, 6)\n"
     ]
    }
   ],
   "source": [
    "# Split data sets into train (70%), test (15%), & dev (15%).\n",
    "# Use random_state param to reproduce shuffle outcomes.\n",
    "train, test = train_test_split(df, random_state=0, train_size=0.7, test_size=0.3, shuffle=True)\n",
    "num_test = int(len(test)/2)\n",
    "test = test[num_test:]\n",
    "dev = test[:num_test]\n",
    "\n",
    "print(\"Train data shape:\", train.shape)\n",
    "print(\"Test data shape:\", test.shape)\n",
    "print(\"Dev data shape:\", dev.shape)"
   ]
  },
  {
   "cell_type": "code",
   "execution_count": 95,
   "id": "2a8ceb62",
   "metadata": {
    "collapsed": true,
    "scrolled": true
   },
   "outputs": [],
   "source": [
    "# Export train, test, & dev data sets to dir.\n",
    "# Write a Pandas DataFrame as a zipped CSV file.\n",
    "train.to_csv(\"input/processed-datasets/train.csv\", index=False)\n",
    "test.to_csv(\"input/processed-datasets/test.csv\", index=False)\n",
    "dev.to_csv(\"input/processed-datasets/dev.csv\", index=False)"
   ]
  },
  {
   "cell_type": "code",
   "execution_count": 76,
   "id": "77098a05",
   "metadata": {
    "collapsed": true,
    "scrolled": true
   },
   "outputs": [
    {
     "name": "stdout",
     "output_type": "stream",
     "text": [
      "total 0\r\n"
     ]
    }
   ],
   "source": [
    "!ls -lrth input/processed-datasets/"
   ]
  },
  {
   "cell_type": "markdown",
   "id": "0200465d",
   "metadata": {},
   "source": [
    "## Exploratory Data Analysis: Test Data"
   ]
  },
  {
   "cell_type": "code",
   "execution_count": 63,
   "id": "f8485ee2",
   "metadata": {
    "collapsed": true,
    "scrolled": true
   },
   "outputs": [
    {
     "data": {
      "text/html": [
       "<div>\n",
       "<style scoped>\n",
       "    .dataframe tbody tr th:only-of-type {\n",
       "        vertical-align: middle;\n",
       "    }\n",
       "\n",
       "    .dataframe tbody tr th {\n",
       "        vertical-align: top;\n",
       "    }\n",
       "\n",
       "    .dataframe thead th {\n",
       "        text-align: right;\n",
       "    }\n",
       "</style>\n",
       "<table border=\"1\" class=\"dataframe\">\n",
       "  <thead>\n",
       "    <tr style=\"text-align: right;\">\n",
       "      <th></th>\n",
       "      <th>title</th>\n",
       "      <th>text</th>\n",
       "      <th>subject</th>\n",
       "      <th>date</th>\n",
       "      <th>label</th>\n",
       "      <th>label_bin</th>\n",
       "    </tr>\n",
       "  </thead>\n",
       "  <tbody>\n",
       "    <tr>\n",
       "      <th>26295</th>\n",
       "      <td>Senate may vote on revised healthcare bill nex...</td>\n",
       "      <td>WASHINGTON (Reuters) - U.S. Senate Republicans...</td>\n",
       "      <td>politicsNews</td>\n",
       "      <td>July 11, 2017</td>\n",
       "      <td>true</td>\n",
       "      <td>1</td>\n",
       "    </tr>\n",
       "    <tr>\n",
       "      <th>19917</th>\n",
       "      <td>LOL! Leftist CA Congresswoman On Tonight’s Deb...</td>\n",
       "      <td>The Democrats are in full panic-mode over Croo...</td>\n",
       "      <td>left-news</td>\n",
       "      <td>Sep 26, 2016</td>\n",
       "      <td>fake</td>\n",
       "      <td>0</td>\n",
       "    </tr>\n",
       "    <tr>\n",
       "      <th>2307</th>\n",
       "      <td>Trump Feels The Fury Of Twitter After Compari...</td>\n",
       "      <td>After Donald Trump s Saturday morning tweetsto...</td>\n",
       "      <td>News</td>\n",
       "      <td>March 4, 2017</td>\n",
       "      <td>fake</td>\n",
       "      <td>0</td>\n",
       "    </tr>\n",
       "    <tr>\n",
       "      <th>15936</th>\n",
       "      <td>Bye Bye Cowboys! Crowd Boos As Owner Jerry Jon...</td>\n",
       "      <td>The Dallas Cowboys tried to have it both ways ...</td>\n",
       "      <td>Government News</td>\n",
       "      <td>Sep 25, 2017</td>\n",
       "      <td>fake</td>\n",
       "      <td>0</td>\n",
       "    </tr>\n",
       "    <tr>\n",
       "      <th>31925</th>\n",
       "      <td>Clinton leads Trump by six points in latest Re...</td>\n",
       "      <td>NEW YORK (Reuters) - Democratic presidential n...</td>\n",
       "      <td>politicsNews</td>\n",
       "      <td>August 16, 2016</td>\n",
       "      <td>true</td>\n",
       "      <td>1</td>\n",
       "    </tr>\n",
       "  </tbody>\n",
       "</table>\n",
       "</div>"
      ],
      "text/plain": [
       "                                                   title  \\\n",
       "26295  Senate may vote on revised healthcare bill nex...   \n",
       "19917  LOL! Leftist CA Congresswoman On Tonight’s Deb...   \n",
       "2307    Trump Feels The Fury Of Twitter After Compari...   \n",
       "15936  Bye Bye Cowboys! Crowd Boos As Owner Jerry Jon...   \n",
       "31925  Clinton leads Trump by six points in latest Re...   \n",
       "\n",
       "                                                    text          subject  \\\n",
       "26295  WASHINGTON (Reuters) - U.S. Senate Republicans...     politicsNews   \n",
       "19917  The Democrats are in full panic-mode over Croo...        left-news   \n",
       "2307   After Donald Trump s Saturday morning tweetsto...             News   \n",
       "15936  The Dallas Cowboys tried to have it both ways ...  Government News   \n",
       "31925  NEW YORK (Reuters) - Democratic presidential n...     politicsNews   \n",
       "\n",
       "                   date label  label_bin  \n",
       "26295    July 11, 2017   true          1  \n",
       "19917      Sep 26, 2016  fake          0  \n",
       "2307      March 4, 2017  fake          0  \n",
       "15936      Sep 25, 2017  fake          0  \n",
       "31925  August 16, 2016   true          1  "
      ]
     },
     "execution_count": 63,
     "metadata": {},
     "output_type": "execute_result"
    }
   ],
   "source": [
    "# Look at a sample of the test data.\n",
    "test.head()"
   ]
  },
  {
   "cell_type": "code",
   "execution_count": 64,
   "id": "38e86243",
   "metadata": {
    "collapsed": true,
    "scrolled": true
   },
   "outputs": [
    {
     "name": "stdout",
     "output_type": "stream",
     "text": [
      "['title', 'text', 'subject', 'date']\n"
     ]
    }
   ],
   "source": [
    "# Create a list of features.\n",
    "features = [feature for feature in test.columns if feature not in [\"label\", \"label_bin\"]]\n",
    "print(features)"
   ]
  },
  {
   "cell_type": "code",
   "execution_count": 157,
   "id": "500288ad",
   "metadata": {
    "scrolled": true
   },
   "outputs": [
    {
     "data": {
      "image/png": "[encoded data removed]",
      "text/plain": [
       "<Figure size 432x288 with 1 Axes>"
      ]
     },
     "metadata": {
      "needs_background": "light"
     },
     "output_type": "display_data"
    }
   ],
   "source": [
    "df[[\"label_bin\"]].hist(bins = 3)\n",
    "plt.bar(np.arange(len([0,1])), df.groupby([\"label_bin\"]).size().values, 0.9)\n",
    "plt.xticks(np.arange(len([0,1])), [\"False News\", \"True News\"])\n",
    "plt.show()"
   ]
  },
  {
   "cell_type": "code",
   "execution_count": null,
   "id": "67ed191e",
   "metadata": {},
   "outputs": [],
   "source": []
  }
 ],
 "metadata": {
  "kernelspec": {
   "display_name": "Python 3 (ipykernel)",
   "language": "python",
   "name": "python3"
  },
  "language_info": {
   "codemirror_mode": {
    "name": "ipython",
    "version": 3
   },
   "file_extension": ".py",
   "mimetype": "text/x-python",
   "name": "python",
   "nbconvert_exporter": "python",
   "pygments_lexer": "ipython3",
   "version": "3.7.11"
  }
 },
 "nbformat": 4,
 "nbformat_minor": 5
}
