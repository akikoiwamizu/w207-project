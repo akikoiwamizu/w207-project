{
  "nbformat": 4,
  "nbformat_minor": 0,
  "metadata": {
    "colab": {
      "name": "w027_baseline_submission.ipynb",
      "provenance": [],
      "collapsed_sections": []
    },
    "kernelspec": {
      "name": "python3",
      "display_name": "Python 3"
    },
    "language_info": {
      "name": "python"
    }
  },
  "cells": [
    {
      "cell_type": "markdown",
      "source": [
        "# W207 Group Project: Real vs Fake News \n",
        "#### Members: Akiko Iwamizu, Allison Fox, Jason Yang, Rohin Chabra"
      ],
      "metadata": {
        "id": "2Zq3Li5EU7Qs"
      }
    },
    {
      "cell_type": "code",
      "execution_count": null,
      "metadata": {
        "id": "fhlqNFL4Uy55",
        "colab": {
          "base_uri": "https://localhost:8080/"
        },
        "outputId": "b52013c5-a6ab-47ca-effe-a0343c5e815c"
      },
      "outputs": [
        {
          "output_type": "stream",
          "name": "stdout",
          "text": [
            "Mounted at /content/drive\n"
          ]
        }
      ],
      "source": [
        "from google.colab import drive\n",
        "drive.mount('/content/drive', force_remount=True)"
      ]
    },
    {
      "cell_type": "code",
      "source": [
        "!pip install zipfile38"
      ],
      "metadata": {
        "colab": {
          "base_uri": "https://localhost:8080/"
        },
        "id": "t0oPYJohYd4K",
        "outputId": "5df22411-0527-42f3-d259-733f5215d3ae"
      },
      "execution_count": null,
      "outputs": [
        {
          "output_type": "stream",
          "name": "stdout",
          "text": [
            "Collecting zipfile38\n",
            "  Downloading zipfile38-0.0.3.tar.gz (22 kB)\n",
            "Building wheels for collected packages: zipfile38\n",
            "  Building wheel for zipfile38 (setup.py) ... \u001b[?25l\u001b[?25hdone\n",
            "  Created wheel for zipfile38: filename=zipfile38-0.0.3-py3-none-any.whl size=22758 sha256=281352c8f04cc3394b62a57f4613377dc450b80d3a902a9ec9755882d053c8fd\n",
            "  Stored in directory: /root/.cache/pip/wheels/5e/32/fb/4d734ca36a237b62bcc324351576a7fcc6e031b485211f014f\n",
            "Successfully built zipfile38\n",
            "Installing collected packages: zipfile38\n",
            "Successfully installed zipfile38-0.0.3\n"
          ]
        }
      ]
    },
    {
      "cell_type": "code",
      "source": [
        "# Load libraries.\n",
        "import pandas as pd\n",
        "import numpy as np\n",
        "import matplotlib.pyplot as plt\n",
        "import zipfile\n",
        "\n",
        "import time\n",
        "import re\n",
        "import nltk\n",
        "import string\n",
        "\n",
        "from nltk.corpus import stopwords\n",
        "from sklearn.model_selection import train_test_split"
      ],
      "metadata": {
        "id": "W7ddiTdNVI19"
      },
      "execution_count": null,
      "outputs": []
    },
    {
      "cell_type": "code",
      "source": [
        "# Read in fake news data file.\n",
        "fake_zip = zipfile.ZipFile(\"content/drive/MyDrive/MIDS/fake-and-real-news-dataset/Fake.csv.zip\") \n",
        "fake = pd.read_csv(fake_zip.open(\"Fake.csv\"))\n",
        "fake.head()"
      ],
      "metadata": {
        "id": "PnxjhDkcWntq"
      },
      "execution_count": null,
      "outputs": []
    },
    {
      "cell_type": "code",
      "source": [
        "!ls content/drive"
      ],
      "metadata": {
        "colab": {
          "base_uri": "https://localhost:8080/"
        },
        "id": "nzpONh3bXUKG",
        "outputId": "cb0375f4-8c4f-4b67-c702-c391c2c5fb1f"
      },
      "execution_count": null,
      "outputs": [
        {
          "output_type": "stream",
          "name": "stdout",
          "text": [
            "ls: cannot access 'content/drive': No such file or directory\n"
          ]
        }
      ]
    },
    {
      "cell_type": "code",
      "source": [
        ""
      ],
      "metadata": {
        "id": "a_guh7DfXUHP"
      },
      "execution_count": null,
      "outputs": []
    },
    {
      "cell_type": "markdown",
      "source": [
        "### Import Data "
      ],
      "metadata": {
        "id": "pfLCNw5EZFR5"
      }
    },
    {
      "cell_type": "code",
      "source": [
        ""
      ],
      "metadata": {
        "id": "qhmzq1xUXUEX"
      },
      "execution_count": null,
      "outputs": []
    },
    {
      "cell_type": "markdown",
      "source": [
        "## Clean & Process Data"
      ],
      "metadata": {
        "id": "AuzyHTkOZHiu"
      }
    },
    {
      "cell_type": "code",
      "source": [
        ""
      ],
      "metadata": {
        "id": "Xat76n9eXUBg"
      },
      "execution_count": null,
      "outputs": []
    },
    {
      "cell_type": "markdown",
      "source": [
        "##Exploratory Data Analysis"
      ],
      "metadata": {
        "id": "uq7PBSjgZKbZ"
      }
    },
    {
      "cell_type": "code",
      "source": [
        ""
      ],
      "metadata": {
        "id": "S-XI-2lvXT-Y"
      },
      "execution_count": null,
      "outputs": []
    },
    {
      "cell_type": "markdown",
      "source": [
        "## Splitting Data into Train, Test, & Dev"
      ],
      "metadata": {
        "id": "NubZdBN7ZNB2"
      }
    },
    {
      "cell_type": "code",
      "source": [
        ""
      ],
      "metadata": {
        "id": "nRUCDKjmXT7Q"
      },
      "execution_count": null,
      "outputs": []
    },
    {
      "cell_type": "code",
      "source": [
        ""
      ],
      "metadata": {
        "id": "gn7FRLMLXTuP"
      },
      "execution_count": null,
      "outputs": []
    }
  ]
}