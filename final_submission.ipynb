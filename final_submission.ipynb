{
 "cells": [
  {
   "cell_type": "markdown",
   "metadata": {
    "id": "2Zq3Li5EU7Qs"
   },
   "source": [
    "# W207 Group Project: True vs Fake News \n",
    "#### Members: Akiko Iwamizu, Allison Fox, Jason Yang, Rohin Chabra"
   ]
  },
  {
   "cell_type": "markdown",
   "metadata": {},
   "source": [
    "## Project Background\n",
    "\n",
    "Our goal for this project was to use labeled news datasets to make an algorithm that is able to determine if an article is fake news or real news. To build the model, we used a dataset provided by Kaggle. During the model development process, we explored performance of Logistic, Naive Bayes, and KNN models, along with unigram, bigram, and trigram feature vectors for text representation. To test the generalizability of the models, we then evaluated the models against a second dataset provided by Kaggle."
   ]
  },
  {
   "cell_type": "markdown",
   "metadata": {},
   "source": [
    "## Data Background\n",
    "\n",
    "### Dataset 1\n",
    "* Provided by Kaggle: https://www.kaggle.com/clmentbisaillon/fake-and-real-news-dataset\n",
    "* Contents: two data sets -- one that includes fake news and one that includes real news\n",
    "* primary focus of our analysis\n",
    "\n",
    "### Dataset 2\n",
    "* Provided by Kaggle: https://www.kaggle.com/c/fake-news/code\n",
    "* Contents: two data sets -- one that includes train data and one that includes test data\n",
    "* supplementary dataset to explore generalizability of the models"
   ]
  },
  {
   "cell_type": "code",
   "execution_count": 1,
   "metadata": {
    "id": "W7ddiTdNVI19"
   },
   "outputs": [],
   "source": [
    "# Load libraries.\n",
    "import pandas as pd\n",
    "import numpy as np\n",
    "import seaborn as sns\n",
    "import matplotlib.pyplot as plt\n",
    "import zipfile\n",
    "\n",
    "import time\n",
    "import re\n",
    "import string\n",
    "import nltk\n",
    "import unicodedata\n",
    "\n",
    "from nltk.corpus import stopwords\n",
    "from textblob import TextBlob\n",
    "\n",
    "from sklearn.preprocessing import PolynomialFeatures\n",
    "from sklearn.linear_model import LinearRegression\n",
    "from sklearn.feature_extraction import text\n",
    "from sklearn.pipeline import Pipeline\n",
    "from sklearn.model_selection import train_test_split\n",
    "from sklearn.metrics import classification_report, accuracy_score\n",
    "from sklearn.feature_extraction.text import CountVectorizer\n",
    "from sklearn.linear_model import LogisticRegression\n",
    "from sklearn.neighbors import KNeighborsClassifier\n",
    "from sklearn.naive_bayes import MultinomialNB\n",
    "from sklearn import metrics\n",
    "from wordcloud import WordCloud, STOPWORDS, ImageColorGenerator\n",
    "\n",
    "import warnings\n",
    "warnings.filterwarnings('ignore')"
   ]
  },
  {
   "cell_type": "markdown",
   "metadata": {
    "id": "pfLCNw5EZFR5"
   },
   "source": [
    "## Import Dataset 1 "
   ]
  },
  {
   "cell_type": "code",
   "execution_count": 2,
   "metadata": {
    "id": "PnxjhDkcWntq"
   },
   "outputs": [
    {
     "data": {
      "text/html": [
       "<div>\n",
       "<style scoped>\n",
       "    .dataframe tbody tr th:only-of-type {\n",
       "        vertical-align: middle;\n",
       "    }\n",
       "\n",
       "    .dataframe tbody tr th {\n",
       "        vertical-align: top;\n",
       "    }\n",
       "\n",
       "    .dataframe thead th {\n",
       "        text-align: right;\n",
       "    }\n",
       "</style>\n",
       "<table border=\"1\" class=\"dataframe\">\n",
       "  <thead>\n",
       "    <tr style=\"text-align: right;\">\n",
       "      <th></th>\n",
       "      <th>title</th>\n",
       "      <th>text</th>\n",
       "      <th>subject</th>\n",
       "      <th>date</th>\n",
       "    </tr>\n",
       "  </thead>\n",
       "  <tbody>\n",
       "    <tr>\n",
       "      <th>0</th>\n",
       "      <td>Donald Trump Sends Out Embarrassing New Year’...</td>\n",
       "      <td>Donald Trump just couldn t wish all Americans ...</td>\n",
       "      <td>News</td>\n",
       "      <td>December 31, 2017</td>\n",
       "    </tr>\n",
       "    <tr>\n",
       "      <th>1</th>\n",
       "      <td>Drunk Bragging Trump Staffer Started Russian ...</td>\n",
       "      <td>House Intelligence Committee Chairman Devin Nu...</td>\n",
       "      <td>News</td>\n",
       "      <td>December 31, 2017</td>\n",
       "    </tr>\n",
       "    <tr>\n",
       "      <th>2</th>\n",
       "      <td>Sheriff David Clarke Becomes An Internet Joke...</td>\n",
       "      <td>On Friday, it was revealed that former Milwauk...</td>\n",
       "      <td>News</td>\n",
       "      <td>December 30, 2017</td>\n",
       "    </tr>\n",
       "    <tr>\n",
       "      <th>3</th>\n",
       "      <td>Trump Is So Obsessed He Even Has Obama’s Name...</td>\n",
       "      <td>On Christmas day, Donald Trump announced that ...</td>\n",
       "      <td>News</td>\n",
       "      <td>December 29, 2017</td>\n",
       "    </tr>\n",
       "    <tr>\n",
       "      <th>4</th>\n",
       "      <td>Pope Francis Just Called Out Donald Trump Dur...</td>\n",
       "      <td>Pope Francis used his annual Christmas Day mes...</td>\n",
       "      <td>News</td>\n",
       "      <td>December 25, 2017</td>\n",
       "    </tr>\n",
       "  </tbody>\n",
       "</table>\n",
       "</div>"
      ],
      "text/plain": [
       "                                               title  \\\n",
       "0   Donald Trump Sends Out Embarrassing New Year’...   \n",
       "1   Drunk Bragging Trump Staffer Started Russian ...   \n",
       "2   Sheriff David Clarke Becomes An Internet Joke...   \n",
       "3   Trump Is So Obsessed He Even Has Obama’s Name...   \n",
       "4   Pope Francis Just Called Out Donald Trump Dur...   \n",
       "\n",
       "                                                text subject  \\\n",
       "0  Donald Trump just couldn t wish all Americans ...    News   \n",
       "1  House Intelligence Committee Chairman Devin Nu...    News   \n",
       "2  On Friday, it was revealed that former Milwauk...    News   \n",
       "3  On Christmas day, Donald Trump announced that ...    News   \n",
       "4  Pope Francis used his annual Christmas Day mes...    News   \n",
       "\n",
       "                date  \n",
       "0  December 31, 2017  \n",
       "1  December 31, 2017  \n",
       "2  December 30, 2017  \n",
       "3  December 29, 2017  \n",
       "4  December 25, 2017  "
      ]
     },
     "execution_count": 2,
     "metadata": {},
     "output_type": "execute_result"
    }
   ],
   "source": [
    "# Read in fake news data file.\n",
    "fake_zip = zipfile.ZipFile(\"input/fake-and-real-news-dataset/Fake.csv.zip\") \n",
    "fake = pd.read_csv(fake_zip.open(\"Fake.csv\"))\n",
    "fake.head()"
   ]
  },
  {
   "cell_type": "code",
   "execution_count": 3,
   "metadata": {
    "colab": {
     "base_uri": "https://localhost:8080/"
    },
    "id": "nzpONh3bXUKG",
    "outputId": "cb0375f4-8c4f-4b67-c702-c391c2c5fb1f"
   },
   "outputs": [
    {
     "data": {
      "text/html": [
       "<div>\n",
       "<style scoped>\n",
       "    .dataframe tbody tr th:only-of-type {\n",
       "        vertical-align: middle;\n",
       "    }\n",
       "\n",
       "    .dataframe tbody tr th {\n",
       "        vertical-align: top;\n",
       "    }\n",
       "\n",
       "    .dataframe thead th {\n",
       "        text-align: right;\n",
       "    }\n",
       "</style>\n",
       "<table border=\"1\" class=\"dataframe\">\n",
       "  <thead>\n",
       "    <tr style=\"text-align: right;\">\n",
       "      <th></th>\n",
       "      <th>title</th>\n",
       "      <th>text</th>\n",
       "      <th>subject</th>\n",
       "      <th>date</th>\n",
       "    </tr>\n",
       "  </thead>\n",
       "  <tbody>\n",
       "    <tr>\n",
       "      <th>0</th>\n",
       "      <td>As U.S. budget fight looms, Republicans flip t...</td>\n",
       "      <td>WASHINGTON (Reuters) - The head of a conservat...</td>\n",
       "      <td>politicsNews</td>\n",
       "      <td>December 31, 2017</td>\n",
       "    </tr>\n",
       "    <tr>\n",
       "      <th>1</th>\n",
       "      <td>U.S. military to accept transgender recruits o...</td>\n",
       "      <td>WASHINGTON (Reuters) - Transgender people will...</td>\n",
       "      <td>politicsNews</td>\n",
       "      <td>December 29, 2017</td>\n",
       "    </tr>\n",
       "    <tr>\n",
       "      <th>2</th>\n",
       "      <td>Senior U.S. Republican senator: 'Let Mr. Muell...</td>\n",
       "      <td>WASHINGTON (Reuters) - The special counsel inv...</td>\n",
       "      <td>politicsNews</td>\n",
       "      <td>December 31, 2017</td>\n",
       "    </tr>\n",
       "    <tr>\n",
       "      <th>3</th>\n",
       "      <td>FBI Russia probe helped by Australian diplomat...</td>\n",
       "      <td>WASHINGTON (Reuters) - Trump campaign adviser ...</td>\n",
       "      <td>politicsNews</td>\n",
       "      <td>December 30, 2017</td>\n",
       "    </tr>\n",
       "    <tr>\n",
       "      <th>4</th>\n",
       "      <td>Trump wants Postal Service to charge 'much mor...</td>\n",
       "      <td>SEATTLE/WASHINGTON (Reuters) - President Donal...</td>\n",
       "      <td>politicsNews</td>\n",
       "      <td>December 29, 2017</td>\n",
       "    </tr>\n",
       "  </tbody>\n",
       "</table>\n",
       "</div>"
      ],
      "text/plain": [
       "                                               title  \\\n",
       "0  As U.S. budget fight looms, Republicans flip t...   \n",
       "1  U.S. military to accept transgender recruits o...   \n",
       "2  Senior U.S. Republican senator: 'Let Mr. Muell...   \n",
       "3  FBI Russia probe helped by Australian diplomat...   \n",
       "4  Trump wants Postal Service to charge 'much mor...   \n",
       "\n",
       "                                                text       subject  \\\n",
       "0  WASHINGTON (Reuters) - The head of a conservat...  politicsNews   \n",
       "1  WASHINGTON (Reuters) - Transgender people will...  politicsNews   \n",
       "2  WASHINGTON (Reuters) - The special counsel inv...  politicsNews   \n",
       "3  WASHINGTON (Reuters) - Trump campaign adviser ...  politicsNews   \n",
       "4  SEATTLE/WASHINGTON (Reuters) - President Donal...  politicsNews   \n",
       "\n",
       "                 date  \n",
       "0  December 31, 2017   \n",
       "1  December 29, 2017   \n",
       "2  December 31, 2017   \n",
       "3  December 30, 2017   \n",
       "4  December 29, 2017   "
      ]
     },
     "execution_count": 3,
     "metadata": {},
     "output_type": "execute_result"
    }
   ],
   "source": [
    "# Read in true news data file.\n",
    "true_zip = zipfile.ZipFile(\"input/fake-and-real-news-dataset/True.csv.zip\") \n",
    "true = pd.read_csv(true_zip.open(\"True.csv\"))\n",
    "true.head()"
   ]
  },
  {
   "cell_type": "code",
   "execution_count": 4,
   "metadata": {
    "id": "a_guh7DfXUHP"
   },
   "outputs": [
    {
     "data": {
      "text/plain": [
       "(23481, 6)"
      ]
     },
     "execution_count": 4,
     "metadata": {},
     "output_type": "execute_result"
    }
   ],
   "source": [
    "# Create label columns for the fake news data set.\n",
    "fake[\"label\"] = \"false\"\n",
    "fake[\"label_bin\"] = 0\n",
    "fake.shape"
   ]
  },
  {
   "cell_type": "code",
   "execution_count": 5,
   "metadata": {},
   "outputs": [
    {
     "data": {
      "text/plain": [
       "News               9050\n",
       "politics           6841\n",
       "left-news          4459\n",
       "Government News    1570\n",
       "US_News             783\n",
       "Middle-east         778\n",
       "Name: subject, dtype: int64"
      ]
     },
     "execution_count": 5,
     "metadata": {},
     "output_type": "execute_result"
    }
   ],
   "source": [
    "# Print the count of fake records by subject. \n",
    "fake['subject'].value_counts()"
   ]
  },
  {
   "cell_type": "code",
   "execution_count": 6,
   "metadata": {},
   "outputs": [
    {
     "data": {
      "text/plain": [
       "(21417, 6)"
      ]
     },
     "execution_count": 6,
     "metadata": {},
     "output_type": "execute_result"
    }
   ],
   "source": [
    "# Create label columns for the true news data set.\n",
    "true[\"label\"] = \"true\"\n",
    "true[\"label_bin\"] = 1\n",
    "true.shape"
   ]
  },
  {
   "cell_type": "code",
   "execution_count": 7,
   "metadata": {},
   "outputs": [
    {
     "data": {
      "text/plain": [
       "politicsNews    11272\n",
       "worldnews       10145\n",
       "Name: subject, dtype: int64"
      ]
     },
     "execution_count": 7,
     "metadata": {},
     "output_type": "execute_result"
    }
   ],
   "source": [
    "# Print the count of true records by subject.\n",
    "true['subject'].value_counts()"
   ]
  },
  {
   "cell_type": "code",
   "execution_count": 8,
   "metadata": {},
   "outputs": [
    {
     "data": {
      "text/plain": [
       "(44898, 6)"
      ]
     },
     "execution_count": 8,
     "metadata": {},
     "output_type": "execute_result"
    }
   ],
   "source": [
    "# Merge + combine data sets into one.\n",
    "data = [fake, true]\n",
    "df = pd.concat(data, ignore_index=True)\n",
    "df.shape"
   ]
  },
  {
   "cell_type": "markdown",
   "metadata": {
    "id": "AuzyHTkOZHiu"
   },
   "source": [
    "## Clean & Process Dataset 1"
   ]
  },
  {
   "cell_type": "code",
   "execution_count": 9,
   "metadata": {},
   "outputs": [
    {
     "name": "stdout",
     "output_type": "stream",
     "text": [
      "<class 'pandas.core.frame.DataFrame'>\n",
      "RangeIndex: 44898 entries, 0 to 44897\n",
      "Data columns (total 6 columns):\n",
      " #   Column     Non-Null Count  Dtype \n",
      "---  ------     --------------  ----- \n",
      " 0   title      44898 non-null  object\n",
      " 1   text       44898 non-null  object\n",
      " 2   subject    44898 non-null  object\n",
      " 3   date       44898 non-null  object\n",
      " 4   label      44898 non-null  object\n",
      " 5   label_bin  44898 non-null  int64 \n",
      "dtypes: int64(1), object(5)\n",
      "memory usage: 2.1+ MB\n"
     ]
    }
   ],
   "source": [
    "df.info()"
   ]
  },
  {
   "cell_type": "code",
   "execution_count": 10,
   "metadata": {},
   "outputs": [
    {
     "name": "stdout",
     "output_type": "stream",
     "text": [
      "Null records:\n",
      "title        0\n",
      "text         0\n",
      "subject      0\n",
      "date         0\n",
      "label        0\n",
      "label_bin    0\n",
      "dtype: int64\n",
      "\n",
      "Empty text records: 627\n",
      "\n",
      "Empty title records: 0\n"
     ]
    }
   ],
   "source": [
    "# Confirm the population of each column.\n",
    "print(f\"Null records:\\n{df.isna().sum()}\\n\")\n",
    "print(f\"Empty text records: {len(df[df['text'] == ' '])}\\n\")\n",
    "print(f\"Empty title records: {len(df[df['title'] == ''])}\")"
   ]
  },
  {
   "cell_type": "code",
   "execution_count": 11,
   "metadata": {},
   "outputs": [
    {
     "name": "stdout",
     "output_type": "stream",
     "text": [
      "Number of text records with a URL: 5492\n",
      "Number of title records with a URL: 9\n",
      "Number of date records with a URL: 9\n"
     ]
    }
   ],
   "source": [
    "# Find & remove records where the cleaned text or title column values are empty or NULL.\n",
    "print(f\"Number of text records with a URL: {df['text'].str.count('http|www').sum()}\")\n",
    "print(f\"Number of title records with a URL: {df['title'].str.count('http|www').sum()}\")\n",
    "print(f\"Number of date records with a URL: {df['date'].str.count('http|www').sum()}\")"
   ]
  },
  {
   "cell_type": "code",
   "execution_count": 12,
   "metadata": {
    "id": "S-XI-2lvXT-Y"
   },
   "outputs": [
    {
     "name": "stdout",
     "output_type": "stream",
     "text": [
      "Number of invalid date records: 10\n"
     ]
    },
    {
     "data": {
      "text/html": [
       "<div>\n",
       "<style scoped>\n",
       "    .dataframe tbody tr th:only-of-type {\n",
       "        vertical-align: middle;\n",
       "    }\n",
       "\n",
       "    .dataframe tbody tr th {\n",
       "        vertical-align: top;\n",
       "    }\n",
       "\n",
       "    .dataframe thead th {\n",
       "        text-align: right;\n",
       "    }\n",
       "</style>\n",
       "<table border=\"1\" class=\"dataframe\">\n",
       "  <thead>\n",
       "    <tr style=\"text-align: right;\">\n",
       "      <th></th>\n",
       "      <th>title</th>\n",
       "      <th>text</th>\n",
       "      <th>subject</th>\n",
       "      <th>date</th>\n",
       "      <th>label</th>\n",
       "      <th>label_bin</th>\n",
       "    </tr>\n",
       "  </thead>\n",
       "  <tbody>\n",
       "    <tr>\n",
       "      <th>9358</th>\n",
       "      <td>https://100percentfedup.com/served-roy-moore-v...</td>\n",
       "      <td>https://100percentfedup.com/served-roy-moore-v...</td>\n",
       "      <td>politics</td>\n",
       "      <td>NaT</td>\n",
       "      <td>false</td>\n",
       "      <td>0</td>\n",
       "    </tr>\n",
       "    <tr>\n",
       "      <th>15507</th>\n",
       "      <td>https://100percentfedup.com/video-hillary-aske...</td>\n",
       "      <td>https://100percentfedup.com/video-hillary-aske...</td>\n",
       "      <td>politics</td>\n",
       "      <td>NaT</td>\n",
       "      <td>false</td>\n",
       "      <td>0</td>\n",
       "    </tr>\n",
       "    <tr>\n",
       "      <th>15508</th>\n",
       "      <td>https://100percentfedup.com/12-yr-old-black-co...</td>\n",
       "      <td>https://100percentfedup.com/12-yr-old-black-co...</td>\n",
       "      <td>politics</td>\n",
       "      <td>NaT</td>\n",
       "      <td>false</td>\n",
       "      <td>0</td>\n",
       "    </tr>\n",
       "    <tr>\n",
       "      <th>15839</th>\n",
       "      <td>https://fedup.wpengine.com/wp-content/uploads/...</td>\n",
       "      <td>https://fedup.wpengine.com/wp-content/uploads/...</td>\n",
       "      <td>politics</td>\n",
       "      <td>NaT</td>\n",
       "      <td>false</td>\n",
       "      <td>0</td>\n",
       "    </tr>\n",
       "    <tr>\n",
       "      <th>15840</th>\n",
       "      <td>https://fedup.wpengine.com/wp-content/uploads/...</td>\n",
       "      <td>https://fedup.wpengine.com/wp-content/uploads/...</td>\n",
       "      <td>politics</td>\n",
       "      <td>NaT</td>\n",
       "      <td>false</td>\n",
       "      <td>0</td>\n",
       "    </tr>\n",
       "    <tr>\n",
       "      <th>17432</th>\n",
       "      <td>https://fedup.wpengine.com/wp-content/uploads/...</td>\n",
       "      <td>https://fedup.wpengine.com/wp-content/uploads/...</td>\n",
       "      <td>Government News</td>\n",
       "      <td>NaT</td>\n",
       "      <td>false</td>\n",
       "      <td>0</td>\n",
       "    </tr>\n",
       "    <tr>\n",
       "      <th>17433</th>\n",
       "      <td>https://fedup.wpengine.com/wp-content/uploads/...</td>\n",
       "      <td>https://fedup.wpengine.com/wp-content/uploads/...</td>\n",
       "      <td>Government News</td>\n",
       "      <td>NaT</td>\n",
       "      <td>false</td>\n",
       "      <td>0</td>\n",
       "    </tr>\n",
       "    <tr>\n",
       "      <th>18933</th>\n",
       "      <td>Homepage</td>\n",
       "      <td>[vc_row][vc_column width= 1/1 ][td_block_trend...</td>\n",
       "      <td>left-news</td>\n",
       "      <td>NaT</td>\n",
       "      <td>false</td>\n",
       "      <td>0</td>\n",
       "    </tr>\n",
       "    <tr>\n",
       "      <th>21869</th>\n",
       "      <td>https://fedup.wpengine.com/wp-content/uploads/...</td>\n",
       "      <td>https://fedup.wpengine.com/wp-content/uploads/...</td>\n",
       "      <td>left-news</td>\n",
       "      <td>NaT</td>\n",
       "      <td>false</td>\n",
       "      <td>0</td>\n",
       "    </tr>\n",
       "    <tr>\n",
       "      <th>21870</th>\n",
       "      <td>https://fedup.wpengine.com/wp-content/uploads/...</td>\n",
       "      <td>https://fedup.wpengine.com/wp-content/uploads/...</td>\n",
       "      <td>left-news</td>\n",
       "      <td>NaT</td>\n",
       "      <td>false</td>\n",
       "      <td>0</td>\n",
       "    </tr>\n",
       "  </tbody>\n",
       "</table>\n",
       "</div>"
      ],
      "text/plain": [
       "                                                   title  \\\n",
       "9358   https://100percentfedup.com/served-roy-moore-v...   \n",
       "15507  https://100percentfedup.com/video-hillary-aske...   \n",
       "15508  https://100percentfedup.com/12-yr-old-black-co...   \n",
       "15839  https://fedup.wpengine.com/wp-content/uploads/...   \n",
       "15840  https://fedup.wpengine.com/wp-content/uploads/...   \n",
       "17432  https://fedup.wpengine.com/wp-content/uploads/...   \n",
       "17433  https://fedup.wpengine.com/wp-content/uploads/...   \n",
       "18933                                           Homepage   \n",
       "21869  https://fedup.wpengine.com/wp-content/uploads/...   \n",
       "21870  https://fedup.wpengine.com/wp-content/uploads/...   \n",
       "\n",
       "                                                    text          subject  \\\n",
       "9358   https://100percentfedup.com/served-roy-moore-v...         politics   \n",
       "15507  https://100percentfedup.com/video-hillary-aske...         politics   \n",
       "15508  https://100percentfedup.com/12-yr-old-black-co...         politics   \n",
       "15839  https://fedup.wpengine.com/wp-content/uploads/...         politics   \n",
       "15840  https://fedup.wpengine.com/wp-content/uploads/...         politics   \n",
       "17432  https://fedup.wpengine.com/wp-content/uploads/...  Government News   \n",
       "17433  https://fedup.wpengine.com/wp-content/uploads/...  Government News   \n",
       "18933  [vc_row][vc_column width= 1/1 ][td_block_trend...        left-news   \n",
       "21869  https://fedup.wpengine.com/wp-content/uploads/...        left-news   \n",
       "21870  https://fedup.wpengine.com/wp-content/uploads/...        left-news   \n",
       "\n",
       "      date  label  label_bin  \n",
       "9358   NaT  false          0  \n",
       "15507  NaT  false          0  \n",
       "15508  NaT  false          0  \n",
       "15839  NaT  false          0  \n",
       "15840  NaT  false          0  \n",
       "17432  NaT  false          0  \n",
       "17433  NaT  false          0  \n",
       "18933  NaT  false          0  \n",
       "21869  NaT  false          0  \n",
       "21870  NaT  false          0  "
      ]
     },
     "execution_count": 12,
     "metadata": {},
     "output_type": "execute_result"
    }
   ],
   "source": [
    "# Find records where date column values are invalid.\n",
    "df[\"date\"] = pd.to_datetime(df[\"date\"], errors=\"coerce\").dt.date\n",
    "print(f\"Number of invalid date records: {len(df.loc[df['date'].isnull()])}\")\n",
    "df.loc[df['date'].isnull()].head(20)"
   ]
  },
  {
   "cell_type": "code",
   "execution_count": 13,
   "metadata": {},
   "outputs": [
    {
     "data": {
      "text/plain": [
       "(44888, 6)"
      ]
     },
     "execution_count": 13,
     "metadata": {},
     "output_type": "execute_result"
    }
   ],
   "source": [
    "# Remove records where date column values are invalid.\n",
    "df = df.dropna(subset=[\"date\"])\n",
    "df.shape"
   ]
  },
  {
   "cell_type": "code",
   "execution_count": 14,
   "metadata": {},
   "outputs": [
    {
     "data": {
      "text/plain": [
       "count          44888\n",
       "unique          1010\n",
       "top       2017-12-20\n",
       "freq             197\n",
       "Name: date, dtype: object"
      ]
     },
     "execution_count": 14,
     "metadata": {},
     "output_type": "execute_result"
    }
   ],
   "source": [
    "# Explore the date column.\n",
    "df[\"date\"].describe()"
   ]
  },
  {
   "cell_type": "code",
   "execution_count": 15,
   "metadata": {},
   "outputs": [
    {
     "data": {
      "text/html": [
       "<div>\n",
       "<style scoped>\n",
       "    .dataframe tbody tr th:only-of-type {\n",
       "        vertical-align: middle;\n",
       "    }\n",
       "\n",
       "    .dataframe tbody tr th {\n",
       "        vertical-align: top;\n",
       "    }\n",
       "\n",
       "    .dataframe thead th {\n",
       "        text-align: right;\n",
       "    }\n",
       "</style>\n",
       "<table border=\"1\" class=\"dataframe\">\n",
       "  <thead>\n",
       "    <tr style=\"text-align: right;\">\n",
       "      <th></th>\n",
       "      <th>title</th>\n",
       "      <th>text</th>\n",
       "      <th>subject</th>\n",
       "      <th>date</th>\n",
       "      <th>label</th>\n",
       "      <th>label_bin</th>\n",
       "      <th>titletext</th>\n",
       "    </tr>\n",
       "  </thead>\n",
       "  <tbody>\n",
       "    <tr>\n",
       "      <th>0</th>\n",
       "      <td>Donald Trump Sends Out Embarrassing New Year’...</td>\n",
       "      <td>Donald Trump just couldn t wish all Americans ...</td>\n",
       "      <td>News</td>\n",
       "      <td>2017-12-31</td>\n",
       "      <td>false</td>\n",
       "      <td>0</td>\n",
       "      <td>Donald Trump Sends Out Embarrassing New Year’...</td>\n",
       "    </tr>\n",
       "    <tr>\n",
       "      <th>1</th>\n",
       "      <td>Drunk Bragging Trump Staffer Started Russian ...</td>\n",
       "      <td>House Intelligence Committee Chairman Devin Nu...</td>\n",
       "      <td>News</td>\n",
       "      <td>2017-12-31</td>\n",
       "      <td>false</td>\n",
       "      <td>0</td>\n",
       "      <td>Drunk Bragging Trump Staffer Started Russian ...</td>\n",
       "    </tr>\n",
       "    <tr>\n",
       "      <th>2</th>\n",
       "      <td>Sheriff David Clarke Becomes An Internet Joke...</td>\n",
       "      <td>On Friday, it was revealed that former Milwauk...</td>\n",
       "      <td>News</td>\n",
       "      <td>2017-12-30</td>\n",
       "      <td>false</td>\n",
       "      <td>0</td>\n",
       "      <td>Sheriff David Clarke Becomes An Internet Joke...</td>\n",
       "    </tr>\n",
       "    <tr>\n",
       "      <th>3</th>\n",
       "      <td>Trump Is So Obsessed He Even Has Obama’s Name...</td>\n",
       "      <td>On Christmas day, Donald Trump announced that ...</td>\n",
       "      <td>News</td>\n",
       "      <td>2017-12-29</td>\n",
       "      <td>false</td>\n",
       "      <td>0</td>\n",
       "      <td>Trump Is So Obsessed He Even Has Obama’s Name...</td>\n",
       "    </tr>\n",
       "    <tr>\n",
       "      <th>4</th>\n",
       "      <td>Pope Francis Just Called Out Donald Trump Dur...</td>\n",
       "      <td>Pope Francis used his annual Christmas Day mes...</td>\n",
       "      <td>News</td>\n",
       "      <td>2017-12-25</td>\n",
       "      <td>false</td>\n",
       "      <td>0</td>\n",
       "      <td>Pope Francis Just Called Out Donald Trump Dur...</td>\n",
       "    </tr>\n",
       "  </tbody>\n",
       "</table>\n",
       "</div>"
      ],
      "text/plain": [
       "                                               title  \\\n",
       "0   Donald Trump Sends Out Embarrassing New Year’...   \n",
       "1   Drunk Bragging Trump Staffer Started Russian ...   \n",
       "2   Sheriff David Clarke Becomes An Internet Joke...   \n",
       "3   Trump Is So Obsessed He Even Has Obama’s Name...   \n",
       "4   Pope Francis Just Called Out Donald Trump Dur...   \n",
       "\n",
       "                                                text subject        date  \\\n",
       "0  Donald Trump just couldn t wish all Americans ...    News  2017-12-31   \n",
       "1  House Intelligence Committee Chairman Devin Nu...    News  2017-12-31   \n",
       "2  On Friday, it was revealed that former Milwauk...    News  2017-12-30   \n",
       "3  On Christmas day, Donald Trump announced that ...    News  2017-12-29   \n",
       "4  Pope Francis used his annual Christmas Day mes...    News  2017-12-25   \n",
       "\n",
       "   label  label_bin                                          titletext  \n",
       "0  false          0   Donald Trump Sends Out Embarrassing New Year’...  \n",
       "1  false          0   Drunk Bragging Trump Staffer Started Russian ...  \n",
       "2  false          0   Sheriff David Clarke Becomes An Internet Joke...  \n",
       "3  false          0   Trump Is So Obsessed He Even Has Obama’s Name...  \n",
       "4  false          0   Pope Francis Just Called Out Donald Trump Dur...  "
      ]
     },
     "execution_count": 15,
     "metadata": {},
     "output_type": "execute_result"
    }
   ],
   "source": [
    "# Combine the title and text columns into one column.\n",
    "df['titletext'] = df['title'] + ' ' + df['text']\n",
    "df.head()"
   ]
  },
  {
   "cell_type": "code",
   "execution_count": 16,
   "metadata": {},
   "outputs": [
    {
     "name": "stdout",
     "output_type": "stream",
     "text": [
      "Number of times titletext records contain '@' or '#': 37616\n"
     ]
    }
   ],
   "source": [
    "# Check for special characters in the the title and text columns that look like social posts.\n",
    "print(f\"Number of times titletext records contain '@' or '#': {df['text'].str.count('#|@').sum()}\")"
   ]
  },
  {
   "cell_type": "code",
   "execution_count": 17,
   "metadata": {},
   "outputs": [
    {
     "data": {
      "text/html": [
       "<div>\n",
       "<style scoped>\n",
       "    .dataframe tbody tr th:only-of-type {\n",
       "        vertical-align: middle;\n",
       "    }\n",
       "\n",
       "    .dataframe tbody tr th {\n",
       "        vertical-align: top;\n",
       "    }\n",
       "\n",
       "    .dataframe thead th {\n",
       "        text-align: right;\n",
       "    }\n",
       "</style>\n",
       "<table border=\"1\" class=\"dataframe\">\n",
       "  <thead>\n",
       "    <tr style=\"text-align: right;\">\n",
       "      <th></th>\n",
       "      <th>title</th>\n",
       "      <th>text</th>\n",
       "      <th>subject</th>\n",
       "      <th>date</th>\n",
       "      <th>label</th>\n",
       "      <th>label_bin</th>\n",
       "      <th>titletext</th>\n",
       "    </tr>\n",
       "  </thead>\n",
       "  <tbody>\n",
       "    <tr>\n",
       "      <th>0</th>\n",
       "      <td>Donald Trump Sends Out Embarrassing New Year’...</td>\n",
       "      <td>Donald Trump just couldn t wish all Americans ...</td>\n",
       "      <td>News</td>\n",
       "      <td>2017-12-31</td>\n",
       "      <td>false</td>\n",
       "      <td>0</td>\n",
       "      <td>Donald Trump Sends Out Embarrassing New Year’...</td>\n",
       "    </tr>\n",
       "    <tr>\n",
       "      <th>2</th>\n",
       "      <td>Sheriff David Clarke Becomes An Internet Joke...</td>\n",
       "      <td>On Friday, it was revealed that former Milwauk...</td>\n",
       "      <td>News</td>\n",
       "      <td>2017-12-30</td>\n",
       "      <td>false</td>\n",
       "      <td>0</td>\n",
       "      <td>Sheriff David Clarke Becomes An Internet Joke...</td>\n",
       "    </tr>\n",
       "    <tr>\n",
       "      <th>3</th>\n",
       "      <td>Trump Is So Obsessed He Even Has Obama’s Name...</td>\n",
       "      <td>On Christmas day, Donald Trump announced that ...</td>\n",
       "      <td>News</td>\n",
       "      <td>2017-12-29</td>\n",
       "      <td>false</td>\n",
       "      <td>0</td>\n",
       "      <td>Trump Is So Obsessed He Even Has Obama’s Name...</td>\n",
       "    </tr>\n",
       "    <tr>\n",
       "      <th>6</th>\n",
       "      <td>Fresh Off The Golf Course, Trump Lashes Out A...</td>\n",
       "      <td>Donald Trump spent a good portion of his day a...</td>\n",
       "      <td>News</td>\n",
       "      <td>2017-12-23</td>\n",
       "      <td>false</td>\n",
       "      <td>0</td>\n",
       "      <td>Fresh Off The Golf Course, Trump Lashes Out A...</td>\n",
       "    </tr>\n",
       "    <tr>\n",
       "      <th>8</th>\n",
       "      <td>Former CIA Director Slams Trump Over UN Bully...</td>\n",
       "      <td>Many people have raised the alarm regarding th...</td>\n",
       "      <td>News</td>\n",
       "      <td>2017-12-22</td>\n",
       "      <td>false</td>\n",
       "      <td>0</td>\n",
       "      <td>Former CIA Director Slams Trump Over UN Bully...</td>\n",
       "    </tr>\n",
       "    <tr>\n",
       "      <th>...</th>\n",
       "      <td>...</td>\n",
       "      <td>...</td>\n",
       "      <td>...</td>\n",
       "      <td>...</td>\n",
       "      <td>...</td>\n",
       "      <td>...</td>\n",
       "      <td>...</td>\n",
       "    </tr>\n",
       "    <tr>\n",
       "      <th>43706</th>\n",
       "      <td>More than 50 arrested for looting in Miami dur...</td>\n",
       "      <td>MIAMI (Reuters) - Miami area police arrested m...</td>\n",
       "      <td>worldnews</td>\n",
       "      <td>2017-09-12</td>\n",
       "      <td>true</td>\n",
       "      <td>1</td>\n",
       "      <td>More than 50 arrested for looting in Miami dur...</td>\n",
       "    </tr>\n",
       "    <tr>\n",
       "      <th>44341</th>\n",
       "      <td>Hashtag politics: Merkel tries to get in with ...</td>\n",
       "      <td>BERLIN (Reuters) - After 12 years in power, Ch...</td>\n",
       "      <td>worldnews</td>\n",
       "      <td>2017-09-06</td>\n",
       "      <td>true</td>\n",
       "      <td>1</td>\n",
       "      <td>Hashtag politics: Merkel tries to get in with ...</td>\n",
       "    </tr>\n",
       "    <tr>\n",
       "      <th>44438</th>\n",
       "      <td>Spain pushes EU to adopt restrictive measures ...</td>\n",
       "      <td>MADRID (Reuters) - Spain is pushing for the Eu...</td>\n",
       "      <td>worldnews</td>\n",
       "      <td>2017-09-05</td>\n",
       "      <td>true</td>\n",
       "      <td>1</td>\n",
       "      <td>Spain pushes EU to adopt restrictive measures ...</td>\n",
       "    </tr>\n",
       "    <tr>\n",
       "      <th>44636</th>\n",
       "      <td>Exclusive: Displaced Rohingya in camps face ai...</td>\n",
       "      <td>SITTWE, Myanmar (Reuters) - Around 120,000 dis...</td>\n",
       "      <td>worldnews</td>\n",
       "      <td>2017-09-01</td>\n",
       "      <td>true</td>\n",
       "      <td>1</td>\n",
       "      <td>Exclusive: Displaced Rohingya in camps face ai...</td>\n",
       "    </tr>\n",
       "    <tr>\n",
       "      <th>44824</th>\n",
       "      <td>In their best red stilettos, German transvesti...</td>\n",
       "      <td>BERLIN (Reuters) - German drag queens are usin...</td>\n",
       "      <td>worldnews</td>\n",
       "      <td>2017-08-25</td>\n",
       "      <td>true</td>\n",
       "      <td>1</td>\n",
       "      <td>In their best red stilettos, German transvesti...</td>\n",
       "    </tr>\n",
       "  </tbody>\n",
       "</table>\n",
       "<p>7736 rows × 7 columns</p>\n",
       "</div>"
      ],
      "text/plain": [
       "                                                   title  \\\n",
       "0       Donald Trump Sends Out Embarrassing New Year’...   \n",
       "2       Sheriff David Clarke Becomes An Internet Joke...   \n",
       "3       Trump Is So Obsessed He Even Has Obama’s Name...   \n",
       "6       Fresh Off The Golf Course, Trump Lashes Out A...   \n",
       "8       Former CIA Director Slams Trump Over UN Bully...   \n",
       "...                                                  ...   \n",
       "43706  More than 50 arrested for looting in Miami dur...   \n",
       "44341  Hashtag politics: Merkel tries to get in with ...   \n",
       "44438  Spain pushes EU to adopt restrictive measures ...   \n",
       "44636  Exclusive: Displaced Rohingya in camps face ai...   \n",
       "44824  In their best red stilettos, German transvesti...   \n",
       "\n",
       "                                                    text    subject  \\\n",
       "0      Donald Trump just couldn t wish all Americans ...       News   \n",
       "2      On Friday, it was revealed that former Milwauk...       News   \n",
       "3      On Christmas day, Donald Trump announced that ...       News   \n",
       "6      Donald Trump spent a good portion of his day a...       News   \n",
       "8      Many people have raised the alarm regarding th...       News   \n",
       "...                                                  ...        ...   \n",
       "43706  MIAMI (Reuters) - Miami area police arrested m...  worldnews   \n",
       "44341  BERLIN (Reuters) - After 12 years in power, Ch...  worldnews   \n",
       "44438  MADRID (Reuters) - Spain is pushing for the Eu...  worldnews   \n",
       "44636  SITTWE, Myanmar (Reuters) - Around 120,000 dis...  worldnews   \n",
       "44824  BERLIN (Reuters) - German drag queens are usin...  worldnews   \n",
       "\n",
       "             date  label  label_bin  \\\n",
       "0      2017-12-31  false          0   \n",
       "2      2017-12-30  false          0   \n",
       "3      2017-12-29  false          0   \n",
       "6      2017-12-23  false          0   \n",
       "8      2017-12-22  false          0   \n",
       "...           ...    ...        ...   \n",
       "43706  2017-09-12   true          1   \n",
       "44341  2017-09-06   true          1   \n",
       "44438  2017-09-05   true          1   \n",
       "44636  2017-09-01   true          1   \n",
       "44824  2017-08-25   true          1   \n",
       "\n",
       "                                               titletext  \n",
       "0       Donald Trump Sends Out Embarrassing New Year’...  \n",
       "2       Sheriff David Clarke Becomes An Internet Joke...  \n",
       "3       Trump Is So Obsessed He Even Has Obama’s Name...  \n",
       "6       Fresh Off The Golf Course, Trump Lashes Out A...  \n",
       "8       Former CIA Director Slams Trump Over UN Bully...  \n",
       "...                                                  ...  \n",
       "43706  More than 50 arrested for looting in Miami dur...  \n",
       "44341  Hashtag politics: Merkel tries to get in with ...  \n",
       "44438  Spain pushes EU to adopt restrictive measures ...  \n",
       "44636  Exclusive: Displaced Rohingya in camps face ai...  \n",
       "44824  In their best red stilettos, German transvesti...  \n",
       "\n",
       "[7736 rows x 7 columns]"
      ]
     },
     "execution_count": 17,
     "metadata": {},
     "output_type": "execute_result"
    }
   ],
   "source": [
    "df[df[\"titletext\"].str.contains(\"#|@\")]"
   ]
  },
  {
   "cell_type": "code",
   "execution_count": 18,
   "metadata": {
    "id": "Xat76n9eXUBg"
   },
   "outputs": [],
   "source": [
    "# Function for cleaning text inputs.\n",
    "def preprocess_text(text_1):\n",
    "    \"\"\"Use regex and other tools for pre-processing of the text.\"\"\"\n",
    "    # Apply lowercasing.\n",
    "    text = text_1.lower()\n",
    "    \n",
    "    # Replace stop words with empty strings.\n",
    "    pattern = re.compile(r\"\\b(\" + r\"|\".join(stopwords.words('english')) + r')\\b\\s*')\n",
    "    text = pattern.sub(\"\", text)\n",
    "    \n",
    "    # Replace punctuation with empty strings.\n",
    "    text = re.sub(f\"[{re.escape(string.punctuation)}]\", \"\", text)\n",
    "    \n",
    "    # Replace all non-alphanumeric characters with a single space.\n",
    "    text = re.sub(r\"[^a-z0-9]+\", \" \", text)\n",
    "    \n",
    "    # Replace large, consecutive amounts of whitespace with a single space.\n",
    "    text = re.sub(r\"[\\s]+\", \" \", text)\n",
    "    \n",
    "    # Remove leading and trailing whitespace.\n",
    "    text = text.strip()\n",
    "    \n",
    "    return text"
   ]
  },
  {
   "cell_type": "code",
   "execution_count": 19,
   "metadata": {},
   "outputs": [
    {
     "name": "stderr",
     "output_type": "stream",
     "text": [
      "[nltk_data] Downloading package stopwords to C:\\Users\\Allison\n",
      "[nltk_data]     Fox\\AppData\\Roaming\\nltk_data...\n",
      "[nltk_data]   Package stopwords is already up-to-date!\n"
     ]
    },
    {
     "name": "stdout",
     "output_type": "stream",
     "text": [
      "85.939 seconds to execute pre-processing text inputs...\n"
     ]
    }
   ],
   "source": [
    "# Clean up text features.\n",
    "nltk.download(\"stopwords\")\n",
    "\n",
    "start_time = time.time()\n",
    "stop_words = set(stopwords.words(\"english\"))\n",
    "\n",
    "df[\"clean_title\"] = df[\"title\"].apply(lambda text: preprocess_text(text))\n",
    "df[\"clean_text\"] = df[\"text\"].apply(lambda text: preprocess_text(text))\n",
    "df[\"clean_titletext\"] = df[\"titletext\"].apply(lambda text: preprocess_text(text))\n",
    "\n",
    "print(f\"{(time.time() - start_time):0.3f} seconds to execute pre-processing text inputs...\")"
   ]
  },
  {
   "cell_type": "code",
   "execution_count": 20,
   "metadata": {},
   "outputs": [],
   "source": [
    "# Remove single character words.\n",
    "pd.options.display.max_colwidth = 500\n",
    "def singlecharacter(text):\n",
    "    final_text = []\n",
    "    words = text.split()\n",
    "    for i in words:\n",
    "        if len(i) > 1:\n",
    "            final_text.append(i)\n",
    "    return \" \".join(final_text)\n",
    "\n",
    "df['clean_text'] = df['clean_text'].apply(singlecharacter)"
   ]
  },
  {
   "cell_type": "code",
   "execution_count": 21,
   "metadata": {},
   "outputs": [
    {
     "data": {
      "text/html": [
       "<div>\n",
       "<style scoped>\n",
       "    .dataframe tbody tr th:only-of-type {\n",
       "        vertical-align: middle;\n",
       "    }\n",
       "\n",
       "    .dataframe tbody tr th {\n",
       "        vertical-align: top;\n",
       "    }\n",
       "\n",
       "    .dataframe thead th {\n",
       "        text-align: right;\n",
       "    }\n",
       "</style>\n",
       "<table border=\"1\" class=\"dataframe\">\n",
       "  <thead>\n",
       "    <tr style=\"text-align: right;\">\n",
       "      <th></th>\n",
       "      <th>title</th>\n",
       "      <th>text</th>\n",
       "      <th>subject</th>\n",
       "      <th>date</th>\n",
       "      <th>label</th>\n",
       "      <th>label_bin</th>\n",
       "      <th>titletext</th>\n",
       "      <th>clean_title</th>\n",
       "      <th>clean_text</th>\n",
       "      <th>clean_titletext</th>\n",
       "    </tr>\n",
       "  </thead>\n",
       "  <tbody>\n",
       "    <tr>\n",
       "      <th>0</th>\n",
       "      <td>Donald Trump Sends Out Embarrassing New Year’s Eve Message; This is Disturbing</td>\n",
       "      <td>Donald Trump just couldn t wish all Americans a Happy New Year and leave it at that. Instead, he had to give a shout out to his enemies, haters and  the very dishonest fake news media.  The former reality show star had just one job to do and he couldn t do it. As our Country rapidly grows stronger and smarter, I want to wish all of my friends, supporters, enemies, haters, and even the very dishonest Fake News Media, a Happy and Healthy New Year,  President Angry Pants tweeted.  2018 will be ...</td>\n",
       "      <td>News</td>\n",
       "      <td>2017-12-31</td>\n",
       "      <td>false</td>\n",
       "      <td>0</td>\n",
       "      <td>Donald Trump Sends Out Embarrassing New Year’s Eve Message; This is Disturbing Donald Trump just couldn t wish all Americans a Happy New Year and leave it at that. Instead, he had to give a shout out to his enemies, haters and  the very dishonest fake news media.  The former reality show star had just one job to do and he couldn t do it. As our Country rapidly grows stronger and smarter, I want to wish all of my friends, supporters, enemies, haters, and even the very dishonest Fake News Med...</td>\n",
       "      <td>donald trump sends embarrassing new year eve message disturbing</td>\n",
       "      <td>donald trump wish americans happy new year leave instead give shout enemies haters dishonest fake news media former reality show star one job country rapidly grows stronger smarter want wish friends supporters enemies haters even dishonest fake news media happy healthy new year president angry pants tweeted 2018 great year america country rapidly grows stronger smarter want wish friends supporters enemies haters even dishonest fake news media happy healthy new year 2018 great year america do...</td>\n",
       "      <td>donald trump sends embarrassing new year eve message disturbing donald trump wish americans happy new year leave instead give shout enemies haters dishonest fake news media former reality show star one job country rapidly grows stronger smarter want wish friends supporters enemies haters even dishonest fake news media happy healthy new year president angry pants tweeted 2018 great year america country rapidly grows stronger smarter want wish friends supporters enemies haters even dishonest f...</td>\n",
       "    </tr>\n",
       "    <tr>\n",
       "      <th>1</th>\n",
       "      <td>Drunk Bragging Trump Staffer Started Russian Collusion Investigation</td>\n",
       "      <td>House Intelligence Committee Chairman Devin Nunes is going to have a bad day. He s been under the assumption, like many of us, that the Christopher Steele-dossier was what prompted the Russia investigation so he s been lashing out at the Department of Justice and the FBI in order to protect Trump. As it happens, the dossier is not what started the investigation, according to documents obtained by the New York Times.Former Trump campaign adviser George Papadopoulos was drunk in a wine bar whe...</td>\n",
       "      <td>News</td>\n",
       "      <td>2017-12-31</td>\n",
       "      <td>false</td>\n",
       "      <td>0</td>\n",
       "      <td>Drunk Bragging Trump Staffer Started Russian Collusion Investigation House Intelligence Committee Chairman Devin Nunes is going to have a bad day. He s been under the assumption, like many of us, that the Christopher Steele-dossier was what prompted the Russia investigation so he s been lashing out at the Department of Justice and the FBI in order to protect Trump. As it happens, the dossier is not what started the investigation, according to documents obtained by the New York Times.Former ...</td>\n",
       "      <td>drunk bragging trump staffer started russian collusion investigation</td>\n",
       "      <td>house intelligence committee chairman devin nunes going bad day assumption like many us christopher steeledossier prompted russia investigation lashing department justice fbi order protect trump happens dossier started investigation according documents obtained new york timesformer trump campaign adviser george papadopoulos drunk wine bar revealed knowledge russian opposition research hillary clintontop papadopoulos covfefe boy trump administration alleged much larger role none damning drunk...</td>\n",
       "      <td>drunk bragging trump staffer started russian collusion investigation house intelligence committee chairman devin nunes going bad day assumption like many us christopher steeledossier prompted russia investigation lashing department justice fbi order protect trump happens dossier started investigation according documents obtained new york timesformer trump campaign adviser george papadopoulos drunk wine bar revealed knowledge russian opposition research hillary clintontop papadopoulos covfefe...</td>\n",
       "    </tr>\n",
       "    <tr>\n",
       "      <th>2</th>\n",
       "      <td>Sheriff David Clarke Becomes An Internet Joke For Threatening To Poke People ‘In The Eye’</td>\n",
       "      <td>On Friday, it was revealed that former Milwaukee Sheriff David Clarke, who was being considered for Homeland Security Secretary in Donald Trump s administration, has an email scandal of his own.In January, there was a brief run-in on a plane between Clarke and fellow passenger Dan Black, who he later had detained by the police for no reason whatsoever, except that maybe his feelings were hurt. Clarke messaged the police to stop Black after he deplaned, and now, a search warrant has been exec...</td>\n",
       "      <td>News</td>\n",
       "      <td>2017-12-30</td>\n",
       "      <td>false</td>\n",
       "      <td>0</td>\n",
       "      <td>Sheriff David Clarke Becomes An Internet Joke For Threatening To Poke People ‘In The Eye’ On Friday, it was revealed that former Milwaukee Sheriff David Clarke, who was being considered for Homeland Security Secretary in Donald Trump s administration, has an email scandal of his own.In January, there was a brief run-in on a plane between Clarke and fellow passenger Dan Black, who he later had detained by the police for no reason whatsoever, except that maybe his feelings were hurt. Clarke m...</td>\n",
       "      <td>sheriff david clarke becomes internet joke threatening poke people eye</td>\n",
       "      <td>friday revealed former milwaukee sheriff david clarke considered homeland security secretary donald trump administration email scandal january brief runplane clarke fellow passenger dan black later detained police reason whatsoever except maybe feelings hurt clarke messaged police stop black deplaned search warrant executed fbi see exchangesclarke calling fake news even though copies search warrant internet unintimidated lib media attempts smear discredit fake news reports designed silence f...</td>\n",
       "      <td>sheriff david clarke becomes internet joke threatening poke people eye friday revealed former milwaukee sheriff david clarke considered homeland security secretary donald trump administration email scandal january brief runplane clarke fellow passenger dan black later detained police reason whatsoever except maybe feelings hurt clarke messaged police stop black deplaned search warrant executed fbi see exchangesclarke calling fake news even though copies search warrant internet unintimidated ...</td>\n",
       "    </tr>\n",
       "    <tr>\n",
       "      <th>3</th>\n",
       "      <td>Trump Is So Obsessed He Even Has Obama’s Name Coded Into His Website (IMAGES)</td>\n",
       "      <td>On Christmas day, Donald Trump announced that he would  be back to work  the following day, but he is golfing for the fourth day in a row. The former reality show star blasted former President Barack Obama for playing golf and now Trump is on track to outpace the number of golf games his predecessor played.Updated my tracker of Trump s appearances at Trump properties.71 rounds of golf including today s. At this pace, he ll pass Obama s first-term total by July 24 next year. https://t.co/Fg7V...</td>\n",
       "      <td>News</td>\n",
       "      <td>2017-12-29</td>\n",
       "      <td>false</td>\n",
       "      <td>0</td>\n",
       "      <td>Trump Is So Obsessed He Even Has Obama’s Name Coded Into His Website (IMAGES) On Christmas day, Donald Trump announced that he would  be back to work  the following day, but he is golfing for the fourth day in a row. The former reality show star blasted former President Barack Obama for playing golf and now Trump is on track to outpace the number of golf games his predecessor played.Updated my tracker of Trump s appearances at Trump properties.71 rounds of golf including today s. At this pa...</td>\n",
       "      <td>trump obsessed even obama name coded website images</td>\n",
       "      <td>christmas day donald trump announced would back work following day golfing fourth day row former reality show star blasted former president barack obama playing golf trump track outpace number golf games predecessor playedupdated tracker trump appearances trump properties71 rounds golf including today pace pass obama firstterm total july 24 next year httpscofg7vacxrtj pictwittercom5gemcjqtbh philip bump pbump december 29 2017 makes washington post reporter discovered trump website really wei...</td>\n",
       "      <td>trump obsessed even obama name coded website images christmas day donald trump announced would back work following day golfing fourth day row former reality show star blasted former president barack obama playing golf trump track outpace number golf games predecessor playedupdated tracker trump appearances trump properties71 rounds golf including today pace pass obama firstterm total july 24 next year httpscofg7vacxrtj pictwittercom5gemcjqtbh philip bump pbump december 29 2017 makes washingt...</td>\n",
       "    </tr>\n",
       "    <tr>\n",
       "      <th>4</th>\n",
       "      <td>Pope Francis Just Called Out Donald Trump During His Christmas Speech</td>\n",
       "      <td>Pope Francis used his annual Christmas Day message to rebuke Donald Trump without even mentioning his name. The Pope delivered his message just days after members of the United Nations condemned Trump s move to recognize Jerusalem as the capital of Israel. The Pontiff prayed on Monday for the  peaceful coexistence of two states within mutually agreed and internationally recognized borders. We see Jesus in the children of the Middle East who continue to suffer because of growing tensions betw...</td>\n",
       "      <td>News</td>\n",
       "      <td>2017-12-25</td>\n",
       "      <td>false</td>\n",
       "      <td>0</td>\n",
       "      <td>Pope Francis Just Called Out Donald Trump During His Christmas Speech Pope Francis used his annual Christmas Day message to rebuke Donald Trump without even mentioning his name. The Pope delivered his message just days after members of the United Nations condemned Trump s move to recognize Jerusalem as the capital of Israel. The Pontiff prayed on Monday for the  peaceful coexistence of two states within mutually agreed and internationally recognized borders. We see Jesus in the children of ...</td>\n",
       "      <td>pope francis called donald trump christmas speech</td>\n",
       "      <td>pope francis used annual christmas day message rebuke donald trump without even mentioning name pope delivered message days members united nations condemned trump move recognize jerusalem capital israel pontiff prayed monday peaceful coexistence two states within mutually agreed internationally recognized borders see jesus children middle east continue suffer growing tensions israelis palestinians francis said festive day let us ask lord peace jerusalem holy land let us pray resume dialogue ...</td>\n",
       "      <td>pope francis called donald trump christmas speech pope francis used annual christmas day message rebuke donald trump without even mentioning name pope delivered message days members united nations condemned trump move recognize jerusalem capital israel pontiff prayed monday peaceful coexistence two states within mutually agreed internationally recognized borders see jesus children middle east continue suffer growing tensions israelis palestinians francis said festive day let us ask lord peac...</td>\n",
       "    </tr>\n",
       "  </tbody>\n",
       "</table>\n",
       "</div>"
      ],
      "text/plain": [
       "                                                                                        title  \\\n",
       "0              Donald Trump Sends Out Embarrassing New Year’s Eve Message; This is Disturbing   \n",
       "1                        Drunk Bragging Trump Staffer Started Russian Collusion Investigation   \n",
       "2   Sheriff David Clarke Becomes An Internet Joke For Threatening To Poke People ‘In The Eye’   \n",
       "3               Trump Is So Obsessed He Even Has Obama’s Name Coded Into His Website (IMAGES)   \n",
       "4                       Pope Francis Just Called Out Donald Trump During His Christmas Speech   \n",
       "\n",
       "                                                                                                                                                                                                                                                                                                                                                                                                                                                                                                                  text  \\\n",
       "0  Donald Trump just couldn t wish all Americans a Happy New Year and leave it at that. Instead, he had to give a shout out to his enemies, haters and  the very dishonest fake news media.  The former reality show star had just one job to do and he couldn t do it. As our Country rapidly grows stronger and smarter, I want to wish all of my friends, supporters, enemies, haters, and even the very dishonest Fake News Media, a Happy and Healthy New Year,  President Angry Pants tweeted.  2018 will be ...   \n",
       "1  House Intelligence Committee Chairman Devin Nunes is going to have a bad day. He s been under the assumption, like many of us, that the Christopher Steele-dossier was what prompted the Russia investigation so he s been lashing out at the Department of Justice and the FBI in order to protect Trump. As it happens, the dossier is not what started the investigation, according to documents obtained by the New York Times.Former Trump campaign adviser George Papadopoulos was drunk in a wine bar whe...   \n",
       "2  On Friday, it was revealed that former Milwaukee Sheriff David Clarke, who was being considered for Homeland Security Secretary in Donald Trump s administration, has an email scandal of his own.In January, there was a brief run-in on a plane between Clarke and fellow passenger Dan Black, who he later had detained by the police for no reason whatsoever, except that maybe his feelings were hurt. Clarke messaged the police to stop Black after he deplaned, and now, a search warrant has been exec...   \n",
       "3  On Christmas day, Donald Trump announced that he would  be back to work  the following day, but he is golfing for the fourth day in a row. The former reality show star blasted former President Barack Obama for playing golf and now Trump is on track to outpace the number of golf games his predecessor played.Updated my tracker of Trump s appearances at Trump properties.71 rounds of golf including today s. At this pace, he ll pass Obama s first-term total by July 24 next year. https://t.co/Fg7V...   \n",
       "4  Pope Francis used his annual Christmas Day message to rebuke Donald Trump without even mentioning his name. The Pope delivered his message just days after members of the United Nations condemned Trump s move to recognize Jerusalem as the capital of Israel. The Pontiff prayed on Monday for the  peaceful coexistence of two states within mutually agreed and internationally recognized borders. We see Jesus in the children of the Middle East who continue to suffer because of growing tensions betw...   \n",
       "\n",
       "  subject        date  label  label_bin  \\\n",
       "0    News  2017-12-31  false          0   \n",
       "1    News  2017-12-31  false          0   \n",
       "2    News  2017-12-30  false          0   \n",
       "3    News  2017-12-29  false          0   \n",
       "4    News  2017-12-25  false          0   \n",
       "\n",
       "                                                                                                                                                                                                                                                                                                                                                                                                                                                                                                             titletext  \\\n",
       "0   Donald Trump Sends Out Embarrassing New Year’s Eve Message; This is Disturbing Donald Trump just couldn t wish all Americans a Happy New Year and leave it at that. Instead, he had to give a shout out to his enemies, haters and  the very dishonest fake news media.  The former reality show star had just one job to do and he couldn t do it. As our Country rapidly grows stronger and smarter, I want to wish all of my friends, supporters, enemies, haters, and even the very dishonest Fake News Med...   \n",
       "1   Drunk Bragging Trump Staffer Started Russian Collusion Investigation House Intelligence Committee Chairman Devin Nunes is going to have a bad day. He s been under the assumption, like many of us, that the Christopher Steele-dossier was what prompted the Russia investigation so he s been lashing out at the Department of Justice and the FBI in order to protect Trump. As it happens, the dossier is not what started the investigation, according to documents obtained by the New York Times.Former ...   \n",
       "2   Sheriff David Clarke Becomes An Internet Joke For Threatening To Poke People ‘In The Eye’ On Friday, it was revealed that former Milwaukee Sheriff David Clarke, who was being considered for Homeland Security Secretary in Donald Trump s administration, has an email scandal of his own.In January, there was a brief run-in on a plane between Clarke and fellow passenger Dan Black, who he later had detained by the police for no reason whatsoever, except that maybe his feelings were hurt. Clarke m...   \n",
       "3   Trump Is So Obsessed He Even Has Obama’s Name Coded Into His Website (IMAGES) On Christmas day, Donald Trump announced that he would  be back to work  the following day, but he is golfing for the fourth day in a row. The former reality show star blasted former President Barack Obama for playing golf and now Trump is on track to outpace the number of golf games his predecessor played.Updated my tracker of Trump s appearances at Trump properties.71 rounds of golf including today s. At this pa...   \n",
       "4   Pope Francis Just Called Out Donald Trump During His Christmas Speech Pope Francis used his annual Christmas Day message to rebuke Donald Trump without even mentioning his name. The Pope delivered his message just days after members of the United Nations condemned Trump s move to recognize Jerusalem as the capital of Israel. The Pontiff prayed on Monday for the  peaceful coexistence of two states within mutually agreed and internationally recognized borders. We see Jesus in the children of ...   \n",
       "\n",
       "                                                              clean_title  \\\n",
       "0         donald trump sends embarrassing new year eve message disturbing   \n",
       "1    drunk bragging trump staffer started russian collusion investigation   \n",
       "2  sheriff david clarke becomes internet joke threatening poke people eye   \n",
       "3                     trump obsessed even obama name coded website images   \n",
       "4                       pope francis called donald trump christmas speech   \n",
       "\n",
       "                                                                                                                                                                                                                                                                                                                                                                                                                                                                                                            clean_text  \\\n",
       "0  donald trump wish americans happy new year leave instead give shout enemies haters dishonest fake news media former reality show star one job country rapidly grows stronger smarter want wish friends supporters enemies haters even dishonest fake news media happy healthy new year president angry pants tweeted 2018 great year america country rapidly grows stronger smarter want wish friends supporters enemies haters even dishonest fake news media happy healthy new year 2018 great year america do...   \n",
       "1  house intelligence committee chairman devin nunes going bad day assumption like many us christopher steeledossier prompted russia investigation lashing department justice fbi order protect trump happens dossier started investigation according documents obtained new york timesformer trump campaign adviser george papadopoulos drunk wine bar revealed knowledge russian opposition research hillary clintontop papadopoulos covfefe boy trump administration alleged much larger role none damning drunk...   \n",
       "2  friday revealed former milwaukee sheriff david clarke considered homeland security secretary donald trump administration email scandal january brief runplane clarke fellow passenger dan black later detained police reason whatsoever except maybe feelings hurt clarke messaged police stop black deplaned search warrant executed fbi see exchangesclarke calling fake news even though copies search warrant internet unintimidated lib media attempts smear discredit fake news reports designed silence f...   \n",
       "3  christmas day donald trump announced would back work following day golfing fourth day row former reality show star blasted former president barack obama playing golf trump track outpace number golf games predecessor playedupdated tracker trump appearances trump properties71 rounds golf including today pace pass obama firstterm total july 24 next year httpscofg7vacxrtj pictwittercom5gemcjqtbh philip bump pbump december 29 2017 makes washington post reporter discovered trump website really wei...   \n",
       "4  pope francis used annual christmas day message rebuke donald trump without even mentioning name pope delivered message days members united nations condemned trump move recognize jerusalem capital israel pontiff prayed monday peaceful coexistence two states within mutually agreed internationally recognized borders see jesus children middle east continue suffer growing tensions israelis palestinians francis said festive day let us ask lord peace jerusalem holy land let us pray resume dialogue ...   \n",
       "\n",
       "                                                                                                                                                                                                                                                                                                                                                                                                                                                                                                       clean_titletext  \n",
       "0  donald trump sends embarrassing new year eve message disturbing donald trump wish americans happy new year leave instead give shout enemies haters dishonest fake news media former reality show star one job country rapidly grows stronger smarter want wish friends supporters enemies haters even dishonest fake news media happy healthy new year president angry pants tweeted 2018 great year america country rapidly grows stronger smarter want wish friends supporters enemies haters even dishonest f...  \n",
       "1  drunk bragging trump staffer started russian collusion investigation house intelligence committee chairman devin nunes going bad day assumption like many us christopher steeledossier prompted russia investigation lashing department justice fbi order protect trump happens dossier started investigation according documents obtained new york timesformer trump campaign adviser george papadopoulos drunk wine bar revealed knowledge russian opposition research hillary clintontop papadopoulos covfefe...  \n",
       "2  sheriff david clarke becomes internet joke threatening poke people eye friday revealed former milwaukee sheriff david clarke considered homeland security secretary donald trump administration email scandal january brief runplane clarke fellow passenger dan black later detained police reason whatsoever except maybe feelings hurt clarke messaged police stop black deplaned search warrant executed fbi see exchangesclarke calling fake news even though copies search warrant internet unintimidated ...  \n",
       "3  trump obsessed even obama name coded website images christmas day donald trump announced would back work following day golfing fourth day row former reality show star blasted former president barack obama playing golf trump track outpace number golf games predecessor playedupdated tracker trump appearances trump properties71 rounds golf including today pace pass obama firstterm total july 24 next year httpscofg7vacxrtj pictwittercom5gemcjqtbh philip bump pbump december 29 2017 makes washingt...  \n",
       "4  pope francis called donald trump christmas speech pope francis used annual christmas day message rebuke donald trump without even mentioning name pope delivered message days members united nations condemned trump move recognize jerusalem capital israel pontiff prayed monday peaceful coexistence two states within mutually agreed internationally recognized borders see jesus children middle east continue suffer growing tensions israelis palestinians francis said festive day let us ask lord peac...  "
      ]
     },
     "execution_count": 21,
     "metadata": {},
     "output_type": "execute_result"
    }
   ],
   "source": [
    "# View the cleaned dataset.\n",
    "df.head()"
   ]
  },
  {
   "cell_type": "code",
   "execution_count": 22,
   "metadata": {},
   "outputs": [
    {
     "data": {
      "text/plain": [
       "count     44888\n",
       "unique    38362\n",
       "top            \n",
       "freq        632\n",
       "Name: clean_text, dtype: object"
      ]
     },
     "execution_count": 22,
     "metadata": {},
     "output_type": "execute_result"
    }
   ],
   "source": [
    "df[\"clean_text\"].describe()"
   ]
  },
  {
   "cell_type": "code",
   "execution_count": 23,
   "metadata": {},
   "outputs": [
    {
     "data": {
      "text/plain": [
       "count                                           44888\n",
       "unique                                          38709\n",
       "top       factbox trump fills top jobs administration\n",
       "freq                                               14\n",
       "Name: clean_title, dtype: object"
      ]
     },
     "execution_count": 23,
     "metadata": {},
     "output_type": "execute_result"
    }
   ],
   "source": [
    "df[\"clean_title\"].describe()"
   ]
  },
  {
   "cell_type": "code",
   "execution_count": 24,
   "metadata": {},
   "outputs": [
    {
     "name": "stdout",
     "output_type": "stream",
     "text": [
      "Empty clean text records: 632\n"
     ]
    },
    {
     "data": {
      "text/html": [
       "<div>\n",
       "<style scoped>\n",
       "    .dataframe tbody tr th:only-of-type {\n",
       "        vertical-align: middle;\n",
       "    }\n",
       "\n",
       "    .dataframe tbody tr th {\n",
       "        vertical-align: top;\n",
       "    }\n",
       "\n",
       "    .dataframe thead th {\n",
       "        text-align: right;\n",
       "    }\n",
       "</style>\n",
       "<table border=\"1\" class=\"dataframe\">\n",
       "  <thead>\n",
       "    <tr style=\"text-align: right;\">\n",
       "      <th></th>\n",
       "      <th>title</th>\n",
       "      <th>text</th>\n",
       "      <th>subject</th>\n",
       "      <th>date</th>\n",
       "      <th>label</th>\n",
       "      <th>label_bin</th>\n",
       "      <th>titletext</th>\n",
       "      <th>clean_title</th>\n",
       "      <th>clean_text</th>\n",
       "      <th>clean_titletext</th>\n",
       "    </tr>\n",
       "  </thead>\n",
       "  <tbody>\n",
       "    <tr>\n",
       "      <th>10923</th>\n",
       "      <td>TAKE OUR POLL: Who Do You Think President Trump Should Pick To Replace James Comey?</td>\n",
       "      <td></td>\n",
       "      <td>politics</td>\n",
       "      <td>2017-05-10</td>\n",
       "      <td>false</td>\n",
       "      <td>0</td>\n",
       "      <td>TAKE OUR POLL: Who Do You Think President Trump Should Pick To Replace James Comey?</td>\n",
       "      <td>take poll think president trump pick replace james comey</td>\n",
       "      <td></td>\n",
       "      <td>take poll think president trump pick replace james comey</td>\n",
       "    </tr>\n",
       "    <tr>\n",
       "      <th>11041</th>\n",
       "      <td>Joe Scarborough BERATES Mika Brzezinski Over “Cheap Shot” At Ivanka Trump: “You don’t have to be so snotty!” [VIDEO]</td>\n",
       "      <td></td>\n",
       "      <td>politics</td>\n",
       "      <td>2017-04-26</td>\n",
       "      <td>false</td>\n",
       "      <td>0</td>\n",
       "      <td>Joe Scarborough BERATES Mika Brzezinski Over “Cheap Shot” At Ivanka Trump: “You don’t have to be so snotty!” [VIDEO]</td>\n",
       "      <td>joe scarborough berates mika brzezinski cheap shot ivanka trump snotty video</td>\n",
       "      <td></td>\n",
       "      <td>joe scarborough berates mika brzezinski cheap shot ivanka trump snotty video</td>\n",
       "    </tr>\n",
       "    <tr>\n",
       "      <th>11190</th>\n",
       "      <td>WATCH TUCKER CARLSON Scorch Sanctuary City Mayor: “Don’t you believe in laws?” [Video]</td>\n",
       "      <td></td>\n",
       "      <td>politics</td>\n",
       "      <td>2017-04-06</td>\n",
       "      <td>false</td>\n",
       "      <td>0</td>\n",
       "      <td>WATCH TUCKER CARLSON Scorch Sanctuary City Mayor: “Don’t you believe in laws?” [Video]</td>\n",
       "      <td>watch tucker carlson scorch sanctuary city mayor believe laws video</td>\n",
       "      <td></td>\n",
       "      <td>watch tucker carlson scorch sanctuary city mayor believe laws video</td>\n",
       "    </tr>\n",
       "    <tr>\n",
       "      <th>11225</th>\n",
       "      <td>MAYOR OF SANCTUARY CITY: Trump Trying To Make Us “Fugitive Slave Catchers” [Video]</td>\n",
       "      <td></td>\n",
       "      <td>politics</td>\n",
       "      <td>2017-04-02</td>\n",
       "      <td>false</td>\n",
       "      <td>0</td>\n",
       "      <td>MAYOR OF SANCTUARY CITY: Trump Trying To Make Us “Fugitive Slave Catchers” [Video]</td>\n",
       "      <td>mayor sanctuary city trump trying make us fugitive slave catchers video</td>\n",
       "      <td></td>\n",
       "      <td>mayor sanctuary city trump trying make us fugitive slave catchers video</td>\n",
       "    </tr>\n",
       "    <tr>\n",
       "      <th>11236</th>\n",
       "      <td>SHOCKER: Public School Turns Computer Lab Into Mosque…Bars Non-Muslim Students [Video]</td>\n",
       "      <td></td>\n",
       "      <td>politics</td>\n",
       "      <td>2017-04-01</td>\n",
       "      <td>false</td>\n",
       "      <td>0</td>\n",
       "      <td>SHOCKER: Public School Turns Computer Lab Into Mosque…Bars Non-Muslim Students [Video]</td>\n",
       "      <td>shocker public school turns computer lab mosque bars nonmuslim students video</td>\n",
       "      <td></td>\n",
       "      <td>shocker public school turns computer lab mosque bars nonmuslim students video</td>\n",
       "    </tr>\n",
       "  </tbody>\n",
       "</table>\n",
       "</div>"
      ],
      "text/plain": [
       "                                                                                                                      title  \\\n",
       "10923                                   TAKE OUR POLL: Who Do You Think President Trump Should Pick To Replace James Comey?   \n",
       "11041  Joe Scarborough BERATES Mika Brzezinski Over “Cheap Shot” At Ivanka Trump: “You don’t have to be so snotty!” [VIDEO]   \n",
       "11190                                WATCH TUCKER CARLSON Scorch Sanctuary City Mayor: “Don’t you believe in laws?” [Video]   \n",
       "11225                                    MAYOR OF SANCTUARY CITY: Trump Trying To Make Us “Fugitive Slave Catchers” [Video]   \n",
       "11236                                SHOCKER: Public School Turns Computer Lab Into Mosque…Bars Non-Muslim Students [Video]   \n",
       "\n",
       "      text   subject        date  label  label_bin  \\\n",
       "10923       politics  2017-05-10  false          0   \n",
       "11041       politics  2017-04-26  false          0   \n",
       "11190       politics  2017-04-06  false          0   \n",
       "11225       politics  2017-04-02  false          0   \n",
       "11236       politics  2017-04-01  false          0   \n",
       "\n",
       "                                                                                                                    titletext  \\\n",
       "10923                                   TAKE OUR POLL: Who Do You Think President Trump Should Pick To Replace James Comey?     \n",
       "11041  Joe Scarborough BERATES Mika Brzezinski Over “Cheap Shot” At Ivanka Trump: “You don’t have to be so snotty!” [VIDEO]     \n",
       "11190                                WATCH TUCKER CARLSON Scorch Sanctuary City Mayor: “Don’t you believe in laws?” [Video]     \n",
       "11225                                    MAYOR OF SANCTUARY CITY: Trump Trying To Make Us “Fugitive Slave Catchers” [Video]     \n",
       "11236                                SHOCKER: Public School Turns Computer Lab Into Mosque…Bars Non-Muslim Students [Video]     \n",
       "\n",
       "                                                                         clean_title  \\\n",
       "10923                       take poll think president trump pick replace james comey   \n",
       "11041   joe scarborough berates mika brzezinski cheap shot ivanka trump snotty video   \n",
       "11190            watch tucker carlson scorch sanctuary city mayor believe laws video   \n",
       "11225        mayor sanctuary city trump trying make us fugitive slave catchers video   \n",
       "11236  shocker public school turns computer lab mosque bars nonmuslim students video   \n",
       "\n",
       "      clean_text  \\\n",
       "10923              \n",
       "11041              \n",
       "11190              \n",
       "11225              \n",
       "11236              \n",
       "\n",
       "                                                                     clean_titletext  \n",
       "10923                       take poll think president trump pick replace james comey  \n",
       "11041   joe scarborough berates mika brzezinski cheap shot ivanka trump snotty video  \n",
       "11190            watch tucker carlson scorch sanctuary city mayor believe laws video  \n",
       "11225        mayor sanctuary city trump trying make us fugitive slave catchers video  \n",
       "11236  shocker public school turns computer lab mosque bars nonmuslim students video  "
      ]
     },
     "execution_count": 24,
     "metadata": {},
     "output_type": "execute_result"
    }
   ],
   "source": [
    "# Get count of empty clean text records.\n",
    "print(f\"Empty clean text records: {len(df[df['clean_text'] == ''])}\")\n",
    "df[df[\"clean_text\"] == \"\"].head()"
   ]
  },
  {
   "cell_type": "code",
   "execution_count": 25,
   "metadata": {},
   "outputs": [
    {
     "name": "stdout",
     "output_type": "stream",
     "text": [
      "Empty clean text records (after removal): 0\n",
      "Filtered df size: (44256, 10)\n"
     ]
    },
    {
     "data": {
      "text/html": [
       "<div>\n",
       "<style scoped>\n",
       "    .dataframe tbody tr th:only-of-type {\n",
       "        vertical-align: middle;\n",
       "    }\n",
       "\n",
       "    .dataframe tbody tr th {\n",
       "        vertical-align: top;\n",
       "    }\n",
       "\n",
       "    .dataframe thead th {\n",
       "        text-align: right;\n",
       "    }\n",
       "</style>\n",
       "<table border=\"1\" class=\"dataframe\">\n",
       "  <thead>\n",
       "    <tr style=\"text-align: right;\">\n",
       "      <th></th>\n",
       "      <th>title</th>\n",
       "      <th>text</th>\n",
       "      <th>subject</th>\n",
       "      <th>date</th>\n",
       "      <th>label</th>\n",
       "      <th>label_bin</th>\n",
       "      <th>titletext</th>\n",
       "      <th>clean_title</th>\n",
       "      <th>clean_text</th>\n",
       "      <th>clean_titletext</th>\n",
       "    </tr>\n",
       "  </thead>\n",
       "  <tbody>\n",
       "  </tbody>\n",
       "</table>\n",
       "</div>"
      ],
      "text/plain": [
       "Empty DataFrame\n",
       "Columns: [title, text, subject, date, label, label_bin, titletext, clean_title, clean_text, clean_titletext]\n",
       "Index: []"
      ]
     },
     "execution_count": 25,
     "metadata": {},
     "output_type": "execute_result"
    }
   ],
   "source": [
    "# Remove empty clean text records.\n",
    "df = df[df[\"clean_text\"] != \"\"]\n",
    "\n",
    "# Confirm count of empty clean text records.\n",
    "print(f\"Empty clean text records (after removal): {len(df[df['clean_text'] == ''])}\")\n",
    "print(f\"Filtered df size: {df.shape}\")\n",
    "df[df[\"clean_text\"] == \"\"].head()"
   ]
  },
  {
   "cell_type": "code",
   "execution_count": 26,
   "metadata": {},
   "outputs": [
    {
     "name": "stdout",
     "output_type": "stream",
     "text": [
      "Empty clean title records: 0\n"
     ]
    },
    {
     "data": {
      "text/html": [
       "<div>\n",
       "<style scoped>\n",
       "    .dataframe tbody tr th:only-of-type {\n",
       "        vertical-align: middle;\n",
       "    }\n",
       "\n",
       "    .dataframe tbody tr th {\n",
       "        vertical-align: top;\n",
       "    }\n",
       "\n",
       "    .dataframe thead th {\n",
       "        text-align: right;\n",
       "    }\n",
       "</style>\n",
       "<table border=\"1\" class=\"dataframe\">\n",
       "  <thead>\n",
       "    <tr style=\"text-align: right;\">\n",
       "      <th></th>\n",
       "      <th>title</th>\n",
       "      <th>text</th>\n",
       "      <th>subject</th>\n",
       "      <th>date</th>\n",
       "      <th>label</th>\n",
       "      <th>label_bin</th>\n",
       "      <th>titletext</th>\n",
       "      <th>clean_title</th>\n",
       "      <th>clean_text</th>\n",
       "      <th>clean_titletext</th>\n",
       "    </tr>\n",
       "  </thead>\n",
       "  <tbody>\n",
       "  </tbody>\n",
       "</table>\n",
       "</div>"
      ],
      "text/plain": [
       "Empty DataFrame\n",
       "Columns: [title, text, subject, date, label, label_bin, titletext, clean_title, clean_text, clean_titletext]\n",
       "Index: []"
      ]
     },
     "execution_count": 26,
     "metadata": {},
     "output_type": "execute_result"
    }
   ],
   "source": [
    "# Get count of empty clean title records.\n",
    "print(f\"Empty clean title records: {len(df[df['clean_title'] == ''])}\")\n",
    "df[df[\"clean_title\"] == \"\"].head()"
   ]
  },
  {
   "cell_type": "code",
   "execution_count": 27,
   "metadata": {},
   "outputs": [
    {
     "name": "stdout",
     "output_type": "stream",
     "text": [
      "Number of times clean_text records contain '@' or '#': 0\n"
     ]
    }
   ],
   "source": [
    "# Get count of special characters in the cleaned text column that look like social posts.\n",
    "print(f\"Number of times clean_text records contain '@' or '#': {df['clean_text'].str.count('#|@').sum()}\")"
   ]
  },
  {
   "cell_type": "code",
   "execution_count": 28,
   "metadata": {},
   "outputs": [
    {
     "name": "stdout",
     "output_type": "stream",
     "text": [
      "There are 36959949 words across all the articles.\n"
     ]
    },
    {
     "data": {
      "image/png": "[encoded data removed]",
      "text/plain": [
       "<Figure size 432x288 with 1 Axes>"
      ]
     },
     "metadata": {
      "needs_background": "light"
     },
     "output_type": "display_data"
    }
   ],
   "source": [
    "# Create a word cloud of all the true records.\n",
    "truefilt = df[(df['label_bin'] == 1)]\n",
    "text = \" \".join(article for article in truefilt.clean_text)\n",
    "\n",
    "# print the number of words across all the articles\n",
    "print (\"There are {} words across all the true articles.\".format(len(text)))\n",
    "\n",
    "# Create and generate a word cloud image\n",
    "wordcloud = WordCloud(max_words=100, background_color=\"white\").generate(text)\n",
    "\n",
    "# Display the wordcloud\n",
    "plt.imshow(wordcloud, interpolation='bilinear')\n",
    "plt.axis(\"off\")\n",
    "plt.show()"
   ]
  },
  {
   "cell_type": "code",
   "execution_count": 29,
   "metadata": {},
   "outputs": [
    {
     "name": "stdout",
     "output_type": "stream",
     "text": [
      "There are 40978019 words across all the articles.\n"
     ]
    },
    {
     "data": {
      "image/png": "[encoded data removed]",
      "text/plain": [
       "<Figure size 432x288 with 1 Axes>"
      ]
     },
     "metadata": {
      "needs_background": "light"
     },
     "output_type": "display_data"
    }
   ],
   "source": [
    "# Create a word cloud of all the fake records.\n",
    "fakefilt = df[(df['label_bin'] == 0)]\n",
    "text = \" \".join(article for article in fakefilt.clean_text)\n",
    "\n",
    "# print the number of words across all the articles\n",
    "print (\"There are {} words across all the fake articles.\".format(len(text)))\n",
    "\n",
    "# Create and generate a word cloud image\n",
    "wordcloud = WordCloud(max_words=100, background_color=\"white\").generate(text)\n",
    "\n",
    "# Display the wordcloud\n",
    "plt.imshow(wordcloud, interpolation='bilinear')\n",
    "plt.axis(\"off\")\n",
    "plt.show()"
   ]
  },
  {
   "cell_type": "markdown",
   "metadata": {},
   "source": [
    "As these wordclouds show, there are many similarities between the most popular words in the fake news articles and the most popular words in the real news articles. Further, the number of unique words is greater across the fake news articles than it is across the real news articles."
   ]
  },
  {
   "cell_type": "markdown",
   "metadata": {
    "id": "NubZdBN7ZNB2"
   },
   "source": [
    "## Split Train, Test, & Dev Data for Dataset 1"
   ]
  },
  {
   "cell_type": "code",
   "execution_count": 30,
   "metadata": {
    "id": "nRUCDKjmXT7Q"
   },
   "outputs": [
    {
     "name": "stdout",
     "output_type": "stream",
     "text": [
      "Train data shape: (30979, 10)\n",
      "Test data shape: (6639, 10)\n",
      "Dev data shape: (6638, 10)\n"
     ]
    }
   ],
   "source": [
    "# Split cleaned data set into train (70%), test (15%), & dev (15%).\n",
    "# Use random_state param to reproduce shuffle outcomes.\n",
    "train, test = train_test_split(df, random_state=0, train_size=0.7, test_size=0.3, shuffle=True)\n",
    "num_test = int(len(test)/2)\n",
    "test = test[num_test:]\n",
    "dev = test[:num_test]\n",
    "\n",
    "print(\"Train data shape:\", train.shape)\n",
    "print(\"Test data shape:\", test.shape)\n",
    "print(\"Dev data shape:\", dev.shape)"
   ]
  },
  {
   "cell_type": "code",
   "execution_count": 31,
   "metadata": {},
   "outputs": [
    {
     "data": {
      "text/plain": [
       "Index(['title', 'text', 'subject', 'date', 'label', 'label_bin', 'titletext',\n",
       "       'clean_title', 'clean_text', 'clean_titletext'],\n",
       "      dtype='object')"
      ]
     },
     "execution_count": 31,
     "metadata": {},
     "output_type": "execute_result"
    }
   ],
   "source": [
    "test.columns"
   ]
  },
  {
   "cell_type": "code",
   "execution_count": 32,
   "metadata": {
    "id": "gn7FRLMLXTuP"
   },
   "outputs": [],
   "source": [
    "# Export train, test, & dev data sets to dir.\n",
    "# Write a Pandas DataFrame as a zipped CSV file.\n",
    "# train.to_csv(\"input/processed-datasets/train.csv\", index=False)\n",
    "# test.to_csv(\"input/processed-datasets/test.csv\", index=False)\n",
    "# dev.to_csv(\"input/processed-datasets/dev.csv\", index=False)"
   ]
  },
  {
   "cell_type": "markdown",
   "metadata": {
    "id": "uq7PBSjgZKbZ"
   },
   "source": [
    "## Exploratory Data Analysis for Dataset 1"
   ]
  },
  {
   "cell_type": "code",
   "execution_count": 33,
   "metadata": {},
   "outputs": [
    {
     "data": {
      "text/plain": [
       "<seaborn.axisgrid.FacetGrid at 0x262378d8e20>"
      ]
     },
     "execution_count": 33,
     "metadata": {},
     "output_type": "execute_result"
    },
    {
     "data": {
      "image/png": "[encoded data removed]",
      "text/plain": [
       "<Figure size 360x360 with 1 Axes>"
      ]
     },
     "metadata": {
      "needs_background": "light"
     },
     "output_type": "display_data"
    }
   ],
   "source": [
    "# Histograms looking at the distribution of fake vs real news labels.\n",
    "g = sns.catplot(data=df, x=\"label\", kind=\"count\")\n",
    "g.set(xlabel=\"Label\", ylabel=\"# of Records\", title=\"Fake vs Real News Frequency\")\n",
    "g.set_xticklabels(rotation=45)"
   ]
  },
  {
   "cell_type": "code",
   "execution_count": 34,
   "metadata": {},
   "outputs": [
    {
     "data": {
      "text/plain": [
       "<seaborn.axisgrid.FacetGrid at 0x2623aaf18e0>"
      ]
     },
     "execution_count": 34,
     "metadata": {},
     "output_type": "execute_result"
    },
    {
     "data": {
      "image/png": "[encoded data removed]",
      "text/plain": [
       "<Figure size 720x360 with 1 Axes>"
      ]
     },
     "metadata": {
      "needs_background": "light"
     },
     "output_type": "display_data"
    }
   ],
   "source": [
    "# Histogram looking at the frequency of fake news subjects.\n",
    "g = sns.catplot(data=fake, x=\"subject\", col=\"label_bin\", kind=\"count\", aspect=2)\n",
    "g.set(xlabel=\"News Subject\", ylabel=\"Fake News Count\", title=\"Subject Frequency: Fake News\")\n",
    "g.set_xticklabels(rotation=45)"
   ]
  },
  {
   "cell_type": "code",
   "execution_count": 35,
   "metadata": {},
   "outputs": [
    {
     "data": {
      "text/plain": [
       "<seaborn.axisgrid.FacetGrid at 0x2620405cc70>"
      ]
     },
     "execution_count": 35,
     "metadata": {},
     "output_type": "execute_result"
    },
    {
     "data": {
      "image/png": "[encoded data removed]",
      "text/plain": [
       "<Figure size 720x360 with 1 Axes>"
      ]
     },
     "metadata": {
      "needs_background": "light"
     },
     "output_type": "display_data"
    }
   ],
   "source": [
    "# Histogram looking at the frequency of true news subjects.\n",
    "g = sns.catplot(data=true, x=\"subject\", col=\"label_bin\", kind=\"count\", aspect=2)\n",
    "g.set(xlabel=\"News Subject\", ylabel=\"True News Count\", title=\"Subject Frequency: True News\")\n",
    "g.set_xticklabels(rotation=45)"
   ]
  },
  {
   "cell_type": "markdown",
   "metadata": {},
   "source": [
    "Though there is no overlap in subjects between fake news and real news, we don't see this as something that will pose a concern since we are not including the subject of the article in the model."
   ]
  },
  {
   "cell_type": "code",
   "execution_count": 36,
   "metadata": {},
   "outputs": [
    {
     "data": {
      "image/png": "[encoded data removed]",
      "text/plain": [
       "<Figure size 360x360 with 1 Axes>"
      ]
     },
     "metadata": {
      "needs_background": "light"
     },
     "output_type": "display_data"
    }
   ],
   "source": [
    "# Distribution of the word count of the clean text values of the news data.\n",
    "df[\"word_count\"] = df[\"clean_text\"].apply(lambda x: len(str(x).split()))\n",
    "sns.displot(df[\"word_count\"], kde=True)\n",
    "fig = plt.gcf()"
   ]
  },
  {
   "cell_type": "code",
   "execution_count": 37,
   "metadata": {},
   "outputs": [
    {
     "data": {
      "image/png": "[encoded data removed]",
      "text/plain": [
       "<Figure size 360x360 with 1 Axes>"
      ]
     },
     "metadata": {
      "needs_background": "light"
     },
     "output_type": "display_data"
    }
   ],
   "source": [
    "# Distribution of the polarity of the clean text values of the news data. \n",
    "# Appears to be neutral on average.\n",
    "df[\"polarity\"] = df[\"clean_text\"].map(lambda text: TextBlob(text).sentiment.polarity)\n",
    "sns.displot(df[\"polarity\"], kde=True)\n",
    "fig = plt.gcf()"
   ]
  },
  {
   "cell_type": "code",
   "execution_count": 64,
   "metadata": {},
   "outputs": [
    {
     "name": "stdout",
     "output_type": "stream",
     "text": [
      "Word count in longest real article: 2392\n",
      "Average word count in real news articles: 228.17594322002242\n",
      "Word count in longest fake article: 4830\n",
      "Average word count in fake news articles: 237.142119089317\n"
     ]
    },
    {
     "data": {
      "image/png": "[encoded data removed]",
      "text/plain": [
       "<Figure size 864x576 with 2 Axes>"
      ]
     },
     "metadata": {
      "needs_background": "light"
     },
     "output_type": "display_data"
    }
   ],
   "source": [
    "# Histogram of word length in fake news vs. in real news.\n",
    "fig,(ax1,ax2) = plt.subplots(1, 2, figsize = (12, 8))\n",
    "ylim = [0, 12000]\n",
    "ax1.set_ylim(ylim)\n",
    "ax2.set_ylim(ylim)\n",
    "xlim = [0, 4000]\n",
    "ax1.set_xlim(xlim)\n",
    "ax2.set_xlim(xlim)\n",
    "text_length = df[df['label_bin'] == 1]['clean_text'].str.split().map(lambda x: len(x))\n",
    "print(\"Word count in longest real article:\", max(text_length))\n",
    "print(\"Average word count in real news articles:\", sum(text_length)/len(text_length))\n",
    "ax1.hist(text_length, color='green', bins = 25)\n",
    "ax1.set_title('Real Articles')\n",
    "text_length = df[df['label_bin'] == 0]['clean_text'].str.split().map(lambda x: len(x))\n",
    "print(\"Word count in longest fake article:\", max(text_length))\n",
    "print(\"Average word count in fake news articles:\", sum(text_length)/len(text_length))\n",
    "ax2.hist(text_length, color = 'blue', bins = 25)\n",
    "ax2.set_title('Fake Articles')\n",
    "fig.suptitle('Number of Words per Article')\n",
    "plt.show()"
   ]
  },
  {
   "cell_type": "markdown",
   "metadata": {},
   "source": [
    "The above histograms and calculations reveal that fake news articles are on average longer than real news articles, and the longest fake news article is over twice as long as the longest real news article."
   ]
  },
  {
   "cell_type": "code",
   "execution_count": 39,
   "metadata": {},
   "outputs": [
    {
     "name": "stdout",
     "output_type": "stream",
     "text": [
      "Character count in longest real article: 17958\n",
      "Character count in longest fake article: 38702\n"
     ]
    },
    {
     "data": {
      "image/png": "[encoded data removed]",
      "text/plain": [
       "<Figure size 864x576 with 2 Axes>"
      ]
     },
     "metadata": {
      "needs_background": "light"
     },
     "output_type": "display_data"
    }
   ],
   "source": [
    "# Histogram of character count in fake news vs. in real news.\n",
    "fig,(ax1,ax2) = plt.subplots(1, 2, figsize = (12, 8))\n",
    "ylim = [0, 15000]\n",
    "ax1.set_ylim(ylim)\n",
    "ax2.set_ylim(ylim)\n",
    "xlim = [0, 20000]\n",
    "ax1.set_xlim(xlim)\n",
    "ax2.set_xlim(xlim)\n",
    "text_length = df[df['label_bin'] == 1]['clean_text'].str.len()\n",
    "print(\"Character count in longest real article:\", max(text_length))\n",
    "ax1.hist(text_length, color='green', bins = 25)\n",
    "ax1.set_title('Real Articles')\n",
    "text_length = df[df['label_bin'] == 0]['clean_text'].str.len()\n",
    "print(\"Character count in longest fake article:\", max(text_length))\n",
    "ax2.hist(text_length, color = 'blue', bins = 25)\n",
    "ax2.set_title('Fake Articles')\n",
    "fig.suptitle('Number of Characters per Article')\n",
    "plt.show()"
   ]
  },
  {
   "cell_type": "markdown",
   "metadata": {},
   "source": [
    "Similarly, the fake news article with the highest character count has over twice as many characters as the real news article with the highest character count."
   ]
  },
  {
   "cell_type": "markdown",
   "metadata": {},
   "source": [
    "### Word Counts\n",
    "Get the Top 10 words for real and fake news datasets"
   ]
  },
  {
   "cell_type": "code",
   "execution_count": 40,
   "metadata": {},
   "outputs": [
    {
     "data": {
      "text/html": [
       "<div>\n",
       "<style scoped>\n",
       "    .dataframe tbody tr th:only-of-type {\n",
       "        vertical-align: middle;\n",
       "    }\n",
       "\n",
       "    .dataframe tbody tr th {\n",
       "        vertical-align: top;\n",
       "    }\n",
       "\n",
       "    .dataframe thead th {\n",
       "        text-align: right;\n",
       "    }\n",
       "</style>\n",
       "<table border=\"1\" class=\"dataframe\">\n",
       "  <thead>\n",
       "    <tr style=\"text-align: right;\">\n",
       "      <th></th>\n",
       "      <th>word</th>\n",
       "      <th>freq</th>\n",
       "    </tr>\n",
       "  </thead>\n",
       "  <tbody>\n",
       "    <tr>\n",
       "      <th>0</th>\n",
       "      <td>said</td>\n",
       "      <td>99010</td>\n",
       "    </tr>\n",
       "    <tr>\n",
       "      <th>1</th>\n",
       "      <td>trump</td>\n",
       "      <td>54265</td>\n",
       "    </tr>\n",
       "    <tr>\n",
       "      <th>2</th>\n",
       "      <td>would</td>\n",
       "      <td>31507</td>\n",
       "    </tr>\n",
       "    <tr>\n",
       "      <th>3</th>\n",
       "      <td>reuters</td>\n",
       "      <td>28402</td>\n",
       "    </tr>\n",
       "    <tr>\n",
       "      <th>4</th>\n",
       "      <td>president</td>\n",
       "      <td>26527</td>\n",
       "    </tr>\n",
       "    <tr>\n",
       "      <th>5</th>\n",
       "      <td>state</td>\n",
       "      <td>19773</td>\n",
       "    </tr>\n",
       "    <tr>\n",
       "      <th>6</th>\n",
       "      <td>government</td>\n",
       "      <td>18305</td>\n",
       "    </tr>\n",
       "    <tr>\n",
       "      <th>7</th>\n",
       "      <td>new</td>\n",
       "      <td>16778</td>\n",
       "    </tr>\n",
       "    <tr>\n",
       "      <th>8</th>\n",
       "      <td>states</td>\n",
       "      <td>16625</td>\n",
       "    </tr>\n",
       "    <tr>\n",
       "      <th>9</th>\n",
       "      <td>house</td>\n",
       "      <td>16552</td>\n",
       "    </tr>\n",
       "  </tbody>\n",
       "</table>\n",
       "</div>"
      ],
      "text/plain": [
       "         word   freq\n",
       "0        said  99010\n",
       "1       trump  54265\n",
       "2       would  31507\n",
       "3     reuters  28402\n",
       "4   president  26527\n",
       "5       state  19773\n",
       "6  government  18305\n",
       "7         new  16778\n",
       "8      states  16625\n",
       "9       house  16552"
      ]
     },
     "execution_count": 40,
     "metadata": {},
     "output_type": "execute_result"
    }
   ],
   "source": [
    "df_word_cnt_true = df[df['label']=='true']['clean_text'].str.split(expand=True).stack().value_counts().reset_index()\n",
    "df_word_cnt_true.columns = ['word', 'freq']\n",
    "df_word_cnt_true.head(10)"
   ]
  },
  {
   "cell_type": "code",
   "execution_count": 41,
   "metadata": {},
   "outputs": [
    {
     "data": {
      "text/html": [
       "<div>\n",
       "<style scoped>\n",
       "    .dataframe tbody tr th:only-of-type {\n",
       "        vertical-align: middle;\n",
       "    }\n",
       "\n",
       "    .dataframe tbody tr th {\n",
       "        vertical-align: top;\n",
       "    }\n",
       "\n",
       "    .dataframe thead th {\n",
       "        text-align: right;\n",
       "    }\n",
       "</style>\n",
       "<table border=\"1\" class=\"dataframe\">\n",
       "  <thead>\n",
       "    <tr style=\"text-align: right;\">\n",
       "      <th></th>\n",
       "      <th>word</th>\n",
       "      <th>freq</th>\n",
       "    </tr>\n",
       "  </thead>\n",
       "  <tbody>\n",
       "    <tr>\n",
       "      <th>0</th>\n",
       "      <td>trump</td>\n",
       "      <td>72947</td>\n",
       "    </tr>\n",
       "    <tr>\n",
       "      <th>1</th>\n",
       "      <td>said</td>\n",
       "      <td>30697</td>\n",
       "    </tr>\n",
       "    <tr>\n",
       "      <th>2</th>\n",
       "      <td>people</td>\n",
       "      <td>25760</td>\n",
       "    </tr>\n",
       "    <tr>\n",
       "      <th>3</th>\n",
       "      <td>president</td>\n",
       "      <td>25291</td>\n",
       "    </tr>\n",
       "    <tr>\n",
       "      <th>4</th>\n",
       "      <td>would</td>\n",
       "      <td>23222</td>\n",
       "    </tr>\n",
       "    <tr>\n",
       "      <th>5</th>\n",
       "      <td>one</td>\n",
       "      <td>22494</td>\n",
       "    </tr>\n",
       "    <tr>\n",
       "      <th>6</th>\n",
       "      <td>clinton</td>\n",
       "      <td>17814</td>\n",
       "    </tr>\n",
       "    <tr>\n",
       "      <th>7</th>\n",
       "      <td>obama</td>\n",
       "      <td>17547</td>\n",
       "    </tr>\n",
       "    <tr>\n",
       "      <th>8</th>\n",
       "      <td>like</td>\n",
       "      <td>17513</td>\n",
       "    </tr>\n",
       "    <tr>\n",
       "      <th>9</th>\n",
       "      <td>donald</td>\n",
       "      <td>16999</td>\n",
       "    </tr>\n",
       "  </tbody>\n",
       "</table>\n",
       "</div>"
      ],
      "text/plain": [
       "        word   freq\n",
       "0      trump  72947\n",
       "1       said  30697\n",
       "2     people  25760\n",
       "3  president  25291\n",
       "4      would  23222\n",
       "5        one  22494\n",
       "6    clinton  17814\n",
       "7      obama  17547\n",
       "8       like  17513\n",
       "9     donald  16999"
      ]
     },
     "execution_count": 41,
     "metadata": {},
     "output_type": "execute_result"
    }
   ],
   "source": [
    "df_word_cnt_false = df[df['label']=='false']['clean_text'].str.split(expand=True).stack().value_counts().reset_index()\n",
    "df_word_cnt_false.columns = ['word', 'freq']\n",
    "df_word_cnt_false.head(10)"
   ]
  },
  {
   "cell_type": "markdown",
   "metadata": {},
   "source": [
    "In looking at the top 10 words for fake and real datasets, we see that \"trump\" and \"said\" are the top to words for both. When we saw that \"reuters\" was the third most common word in real news datasets, and since this word also appeared in the word cloud for real news datasets, we decided to explore this further. In looking more closely at the text data for the real news dataset, we saw that many of the entries start with the publisher in the text string, so we decided to add both \"washington\" and \"reuters\" to the list of stop words so that the models are not overfit to the training dataset."
   ]
  },
  {
   "cell_type": "markdown",
   "metadata": {},
   "source": [
    "# Import Dataset 2"
   ]
  },
  {
   "cell_type": "code",
   "execution_count": 42,
   "metadata": {},
   "outputs": [
    {
     "data": {
      "text/html": [
       "<div>\n",
       "<style scoped>\n",
       "    .dataframe tbody tr th:only-of-type {\n",
       "        vertical-align: middle;\n",
       "    }\n",
       "\n",
       "    .dataframe tbody tr th {\n",
       "        vertical-align: top;\n",
       "    }\n",
       "\n",
       "    .dataframe thead th {\n",
       "        text-align: right;\n",
       "    }\n",
       "</style>\n",
       "<table border=\"1\" class=\"dataframe\">\n",
       "  <thead>\n",
       "    <tr style=\"text-align: right;\">\n",
       "      <th></th>\n",
       "      <th>id</th>\n",
       "      <th>title</th>\n",
       "      <th>author</th>\n",
       "      <th>text</th>\n",
       "    </tr>\n",
       "  </thead>\n",
       "  <tbody>\n",
       "    <tr>\n",
       "      <th>0</th>\n",
       "      <td>20800</td>\n",
       "      <td>Specter of Trump Loosens Tongues, if Not Purse Strings, in Silicon Valley - The New York Times</td>\n",
       "      <td>David Streitfeld</td>\n",
       "      <td>PALO ALTO, Calif.  —   After years of scorning the political process, Silicon Valley has leapt into the fray. The prospect of a President Donald J. Trump is pushing the tech community to move beyond its traditional role as donors and to embrace a new existence as agitators and activists. A distinguished venture capital firm emblazoned on its corporate home page an earthy   epithet. One prominent tech chieftain says the consequences of Mr. Trump’s election would “range between disastrous and ...</td>\n",
       "    </tr>\n",
       "    <tr>\n",
       "      <th>1</th>\n",
       "      <td>20801</td>\n",
       "      <td>Russian warships ready to strike terrorists near Aleppo</td>\n",
       "      <td>NaN</td>\n",
       "      <td>Russian warships ready to strike terrorists near Aleppo 08.11.2016 | Source: Source: Mil.ru Attack aircraft of the Russian aircraft carrier Admiral Kuznetsov get ready to strike terrorists' positions in the vicinity of Aleppo, sources at the Russian Defense Ministry said, RBC reports. \"Insurgents' attempts to break into Aleppo from outside are meaningless,\" the source said. The main task of the aircraft carrier aviation group is to strike missile and air blows on the terrorists , whose goal ...</td>\n",
       "    </tr>\n",
       "    <tr>\n",
       "      <th>2</th>\n",
       "      <td>20802</td>\n",
       "      <td>#NoDAPL: Native American Leaders Vow to Stay All Winter, File Lawsuit Against Police</td>\n",
       "      <td>Common Dreams</td>\n",
       "      <td>Videos #NoDAPL: Native American Leaders Vow to Stay All Winter, File Lawsuit Against Police Amnesty International are sending a delegation of human rights observers to monitor the response of law enforcement to the protests. Be Sociable, Share! (Rob Wilson photo) \\nNative American leaders vowed on Saturday to protest through the winter against a North Dakota oil pipeline they say threatens water resources and sacred lands and are planning lawsuits over police treatment of arrested protesters...</td>\n",
       "    </tr>\n",
       "    <tr>\n",
       "      <th>3</th>\n",
       "      <td>20803</td>\n",
       "      <td>Tim Tebow Will Attempt Another Comeback, This Time in Baseball - The New York Times</td>\n",
       "      <td>Daniel Victor</td>\n",
       "      <td>If at first you don’t succeed, try a different sport. Tim Tebow, who was a Heisman   quarterback at the University of Florida but was unable to hold an N. F. L. job, is pursuing a career in Major League Baseball. He will hold a workout for M. L. B. teams this month, his agents told ESPN and other news outlets. “This may sound like a publicity stunt, but nothing could be further from the truth,” said Brodie Van Wagenen,   of CAA Baseball, part of the sports agency CAA Sports, in the statement...</td>\n",
       "    </tr>\n",
       "    <tr>\n",
       "      <th>4</th>\n",
       "      <td>20804</td>\n",
       "      <td>Keiser Report: Meme Wars (E995)</td>\n",
       "      <td>Truth Broadcast Network</td>\n",
       "      <td>42 mins ago 1 Views 0 Comments 0 Likes 'For the first time in history, we’re filming a panoramic video from the station. It means you’ll see everything we see here, with your own eyes. That’s to say, you’ll be able to feel like real cosmonauts' - Borisenko to RT. Video presented by RT in collaboration with the Russian space agency Roscosmos and the rocket and space corporation Energia More on our project website: space360.rt.com   Subscribe   Like     Leave a Reply Login with your Social ID ...</td>\n",
       "    </tr>\n",
       "  </tbody>\n",
       "</table>\n",
       "</div>"
      ],
      "text/plain": [
       "      id  \\\n",
       "0  20800   \n",
       "1  20801   \n",
       "2  20802   \n",
       "3  20803   \n",
       "4  20804   \n",
       "\n",
       "                                                                                            title  \\\n",
       "0  Specter of Trump Loosens Tongues, if Not Purse Strings, in Silicon Valley - The New York Times   \n",
       "1                                         Russian warships ready to strike terrorists near Aleppo   \n",
       "2            #NoDAPL: Native American Leaders Vow to Stay All Winter, File Lawsuit Against Police   \n",
       "3             Tim Tebow Will Attempt Another Comeback, This Time in Baseball - The New York Times   \n",
       "4                                                                 Keiser Report: Meme Wars (E995)   \n",
       "\n",
       "                    author  \\\n",
       "0         David Streitfeld   \n",
       "1                      NaN   \n",
       "2            Common Dreams   \n",
       "3            Daniel Victor   \n",
       "4  Truth Broadcast Network   \n",
       "\n",
       "                                                                                                                                                                                                                                                                                                                                                                                                                                                                                                                  text  \n",
       "0  PALO ALTO, Calif.  —   After years of scorning the political process, Silicon Valley has leapt into the fray. The prospect of a President Donald J. Trump is pushing the tech community to move beyond its traditional role as donors and to embrace a new existence as agitators and activists. A distinguished venture capital firm emblazoned on its corporate home page an earthy   epithet. One prominent tech chieftain says the consequences of Mr. Trump’s election would “range between disastrous and ...  \n",
       "1  Russian warships ready to strike terrorists near Aleppo 08.11.2016 | Source: Source: Mil.ru Attack aircraft of the Russian aircraft carrier Admiral Kuznetsov get ready to strike terrorists' positions in the vicinity of Aleppo, sources at the Russian Defense Ministry said, RBC reports. \"Insurgents' attempts to break into Aleppo from outside are meaningless,\" the source said. The main task of the aircraft carrier aviation group is to strike missile and air blows on the terrorists , whose goal ...  \n",
       "2  Videos #NoDAPL: Native American Leaders Vow to Stay All Winter, File Lawsuit Against Police Amnesty International are sending a delegation of human rights observers to monitor the response of law enforcement to the protests. Be Sociable, Share! (Rob Wilson photo) \\nNative American leaders vowed on Saturday to protest through the winter against a North Dakota oil pipeline they say threatens water resources and sacred lands and are planning lawsuits over police treatment of arrested protesters...  \n",
       "3  If at first you don’t succeed, try a different sport. Tim Tebow, who was a Heisman   quarterback at the University of Florida but was unable to hold an N. F. L. job, is pursuing a career in Major League Baseball. He will hold a workout for M. L. B. teams this month, his agents told ESPN and other news outlets. “This may sound like a publicity stunt, but nothing could be further from the truth,” said Brodie Van Wagenen,   of CAA Baseball, part of the sports agency CAA Sports, in the statement...  \n",
       "4  42 mins ago 1 Views 0 Comments 0 Likes 'For the first time in history, we’re filming a panoramic video from the station. It means you’ll see everything we see here, with your own eyes. That’s to say, you’ll be able to feel like real cosmonauts' - Borisenko to RT. Video presented by RT in collaboration with the Russian space agency Roscosmos and the rocket and space corporation Energia More on our project website: space360.rt.com   Subscribe   Like     Leave a Reply Login with your Social ID ...  "
      ]
     },
     "execution_count": 42,
     "metadata": {},
     "output_type": "execute_result"
    }
   ],
   "source": [
    "# Read in test dataset. Test dataset does not have labels.\n",
    "test_zip = zipfile.ZipFile(\"./input/fake-news-dataset2/test.csv.zip\") \n",
    "test = pd.read_csv(test_zip.open(\"test.csv\"))\n",
    "test.head()"
   ]
  },
  {
   "cell_type": "code",
   "execution_count": 43,
   "metadata": {},
   "outputs": [
    {
     "data": {
      "text/html": [
       "<div>\n",
       "<style scoped>\n",
       "    .dataframe tbody tr th:only-of-type {\n",
       "        vertical-align: middle;\n",
       "    }\n",
       "\n",
       "    .dataframe tbody tr th {\n",
       "        vertical-align: top;\n",
       "    }\n",
       "\n",
       "    .dataframe thead th {\n",
       "        text-align: right;\n",
       "    }\n",
       "</style>\n",
       "<table border=\"1\" class=\"dataframe\">\n",
       "  <thead>\n",
       "    <tr style=\"text-align: right;\">\n",
       "      <th></th>\n",
       "      <th>id</th>\n",
       "      <th>title</th>\n",
       "      <th>author</th>\n",
       "      <th>text</th>\n",
       "      <th>label</th>\n",
       "    </tr>\n",
       "  </thead>\n",
       "  <tbody>\n",
       "    <tr>\n",
       "      <th>0</th>\n",
       "      <td>0</td>\n",
       "      <td>House Dem Aide: We Didn’t Even See Comey’s Letter Until Jason Chaffetz Tweeted It</td>\n",
       "      <td>Darrell Lucus</td>\n",
       "      <td>House Dem Aide: We Didn’t Even See Comey’s Letter Until Jason Chaffetz Tweeted It By Darrell Lucus on October 30, 2016 Subscribe Jason Chaffetz on the stump in American Fork, Utah ( image courtesy Michael Jolley, available under a Creative Commons-BY license) \\nWith apologies to Keith Olbermann, there is no doubt who the Worst Person in The World is this week–FBI Director James Comey. But according to a House Democratic aide, it looks like we also know who the second-worst person is as well....</td>\n",
       "      <td>1</td>\n",
       "    </tr>\n",
       "    <tr>\n",
       "      <th>1</th>\n",
       "      <td>1</td>\n",
       "      <td>FLYNN: Hillary Clinton, Big Woman on Campus - Breitbart</td>\n",
       "      <td>Daniel J. Flynn</td>\n",
       "      <td>Ever get the feeling your life circles the roundabout rather than heads in a straight line toward the intended destination? [Hillary Clinton remains the big woman on campus in leafy, liberal Wellesley, Massachusetts. Everywhere else votes her most likely to don her inauguration dress for the remainder of her days the way Miss Havisham forever wore that wedding dress.  Speaking of Great Expectations, Hillary Rodham overflowed with them 48 years ago when she first addressed a Wellesley graduat...</td>\n",
       "      <td>0</td>\n",
       "    </tr>\n",
       "    <tr>\n",
       "      <th>2</th>\n",
       "      <td>2</td>\n",
       "      <td>Why the Truth Might Get You Fired</td>\n",
       "      <td>Consortiumnews.com</td>\n",
       "      <td>Why the Truth Might Get You Fired October 29, 2016 \\nThe tension between intelligence analysts and political policymakers has always been between honest assessments and desired results, with the latter often overwhelming the former, as in the Iraq War, writes Lawrence Davidson. \\nBy Lawrence Davidson \\nFor those who might wonder why foreign policy makers repeatedly make bad choices, some insight might be drawn from the following analysis. The action here plays out in the United States, but t...</td>\n",
       "      <td>1</td>\n",
       "    </tr>\n",
       "    <tr>\n",
       "      <th>3</th>\n",
       "      <td>3</td>\n",
       "      <td>15 Civilians Killed In Single US Airstrike Have Been Identified</td>\n",
       "      <td>Jessica Purkiss</td>\n",
       "      <td>Videos 15 Civilians Killed In Single US Airstrike Have Been Identified The rate at which civilians are being killed by American airstrikes in Afghanistan is now higher than it was in 2014 when the US was engaged in active combat operations.   Photo of Hellfire missiles being loaded onto a US military Reaper drone in Afghanistan by Staff Sgt. Brian Ferguson/U.S. Air Force. \\nThe Bureau has been able to identify 15 civilians killed in a single US drone strike in Afghanistan last month – the bi...</td>\n",
       "      <td>1</td>\n",
       "    </tr>\n",
       "    <tr>\n",
       "      <th>4</th>\n",
       "      <td>4</td>\n",
       "      <td>Iranian woman jailed for fictional unpublished story about woman stoned to death for adultery</td>\n",
       "      <td>Howard Portnoy</td>\n",
       "      <td>Print \\nAn Iranian woman has been sentenced to six years in prison after Iran’s Revolutionary Guard searched her home and found a notebook that contained a fictional story she’d written about a woman who was stoned to death, according to the Eurasia Review . \\nGolrokh Ebrahimi Iraee, 35, is the wife of political prisoner Arash Sadeghi, 36, who is serving a 19-year prison sentence for being a human rights activist, the publication reported. \\n“When the intelligence unit of the Revolutionary G...</td>\n",
       "      <td>1</td>\n",
       "    </tr>\n",
       "  </tbody>\n",
       "</table>\n",
       "</div>"
      ],
      "text/plain": [
       "   id  \\\n",
       "0   0   \n",
       "1   1   \n",
       "2   2   \n",
       "3   3   \n",
       "4   4   \n",
       "\n",
       "                                                                                           title  \\\n",
       "0              House Dem Aide: We Didn’t Even See Comey’s Letter Until Jason Chaffetz Tweeted It   \n",
       "1                                        FLYNN: Hillary Clinton, Big Woman on Campus - Breitbart   \n",
       "2                                                              Why the Truth Might Get You Fired   \n",
       "3                                15 Civilians Killed In Single US Airstrike Have Been Identified   \n",
       "4  Iranian woman jailed for fictional unpublished story about woman stoned to death for adultery   \n",
       "\n",
       "               author  \\\n",
       "0       Darrell Lucus   \n",
       "1     Daniel J. Flynn   \n",
       "2  Consortiumnews.com   \n",
       "3     Jessica Purkiss   \n",
       "4      Howard Portnoy   \n",
       "\n",
       "                                                                                                                                                                                                                                                                                                                                                                                                                                                                                                                  text  \\\n",
       "0  House Dem Aide: We Didn’t Even See Comey’s Letter Until Jason Chaffetz Tweeted It By Darrell Lucus on October 30, 2016 Subscribe Jason Chaffetz on the stump in American Fork, Utah ( image courtesy Michael Jolley, available under a Creative Commons-BY license) \\nWith apologies to Keith Olbermann, there is no doubt who the Worst Person in The World is this week–FBI Director James Comey. But according to a House Democratic aide, it looks like we also know who the second-worst person is as well....   \n",
       "1  Ever get the feeling your life circles the roundabout rather than heads in a straight line toward the intended destination? [Hillary Clinton remains the big woman on campus in leafy, liberal Wellesley, Massachusetts. Everywhere else votes her most likely to don her inauguration dress for the remainder of her days the way Miss Havisham forever wore that wedding dress.  Speaking of Great Expectations, Hillary Rodham overflowed with them 48 years ago when she first addressed a Wellesley graduat...   \n",
       "2  Why the Truth Might Get You Fired October 29, 2016 \\nThe tension between intelligence analysts and political policymakers has always been between honest assessments and desired results, with the latter often overwhelming the former, as in the Iraq War, writes Lawrence Davidson. \\nBy Lawrence Davidson \\nFor those who might wonder why foreign policy makers repeatedly make bad choices, some insight might be drawn from the following analysis. The action here plays out in the United States, but t...   \n",
       "3  Videos 15 Civilians Killed In Single US Airstrike Have Been Identified The rate at which civilians are being killed by American airstrikes in Afghanistan is now higher than it was in 2014 when the US was engaged in active combat operations.   Photo of Hellfire missiles being loaded onto a US military Reaper drone in Afghanistan by Staff Sgt. Brian Ferguson/U.S. Air Force. \\nThe Bureau has been able to identify 15 civilians killed in a single US drone strike in Afghanistan last month – the bi...   \n",
       "4  Print \\nAn Iranian woman has been sentenced to six years in prison after Iran’s Revolutionary Guard searched her home and found a notebook that contained a fictional story she’d written about a woman who was stoned to death, according to the Eurasia Review . \\nGolrokh Ebrahimi Iraee, 35, is the wife of political prisoner Arash Sadeghi, 36, who is serving a 19-year prison sentence for being a human rights activist, the publication reported. \\n“When the intelligence unit of the Revolutionary G...   \n",
       "\n",
       "   label  \n",
       "0      1  \n",
       "1      0  \n",
       "2      1  \n",
       "3      1  \n",
       "4      1  "
      ]
     },
     "execution_count": 43,
     "metadata": {},
     "output_type": "execute_result"
    }
   ],
   "source": [
    "# Read in Train dataset. Labels: 1: unreliable ; 0: reliable.\n",
    "train_zip = zipfile.ZipFile(\"./input/fake-news-dataset2/train.csv.zip\") \n",
    "df_test2 = pd.read_csv(train_zip.open(\"train.csv\"))\n",
    "df_test2.head()"
   ]
  },
  {
   "cell_type": "code",
   "execution_count": 44,
   "metadata": {},
   "outputs": [],
   "source": [
    "# Update labels to match original dataset. \n",
    "df_test2['label_bin'] = df_test2['label'].map({1:0 , 0:1})\n",
    "df_test2['label'] = df_test2['label'].map({1:'false' , 0:'true'})"
   ]
  },
  {
   "cell_type": "code",
   "execution_count": 45,
   "metadata": {},
   "outputs": [
    {
     "data": {
      "text/html": [
       "<div>\n",
       "<style scoped>\n",
       "    .dataframe tbody tr th:only-of-type {\n",
       "        vertical-align: middle;\n",
       "    }\n",
       "\n",
       "    .dataframe tbody tr th {\n",
       "        vertical-align: top;\n",
       "    }\n",
       "\n",
       "    .dataframe thead th {\n",
       "        text-align: right;\n",
       "    }\n",
       "</style>\n",
       "<table border=\"1\" class=\"dataframe\">\n",
       "  <thead>\n",
       "    <tr style=\"text-align: right;\">\n",
       "      <th></th>\n",
       "      <th>id</th>\n",
       "      <th>title</th>\n",
       "      <th>author</th>\n",
       "      <th>text</th>\n",
       "      <th>label</th>\n",
       "      <th>label_bin</th>\n",
       "    </tr>\n",
       "  </thead>\n",
       "  <tbody>\n",
       "    <tr>\n",
       "      <th>0</th>\n",
       "      <td>0</td>\n",
       "      <td>House Dem Aide: We Didn’t Even See Comey’s Letter Until Jason Chaffetz Tweeted It</td>\n",
       "      <td>Darrell Lucus</td>\n",
       "      <td>House Dem Aide: We Didn’t Even See Comey’s Letter Until Jason Chaffetz Tweeted It By Darrell Lucus on October 30, 2016 Subscribe Jason Chaffetz on the stump in American Fork, Utah ( image courtesy Michael Jolley, available under a Creative Commons-BY license) \\nWith apologies to Keith Olbermann, there is no doubt who the Worst Person in The World is this week–FBI Director James Comey. But according to a House Democratic aide, it looks like we also know who the second-worst person is as well....</td>\n",
       "      <td>false</td>\n",
       "      <td>0</td>\n",
       "    </tr>\n",
       "    <tr>\n",
       "      <th>1</th>\n",
       "      <td>1</td>\n",
       "      <td>FLYNN: Hillary Clinton, Big Woman on Campus - Breitbart</td>\n",
       "      <td>Daniel J. Flynn</td>\n",
       "      <td>Ever get the feeling your life circles the roundabout rather than heads in a straight line toward the intended destination? [Hillary Clinton remains the big woman on campus in leafy, liberal Wellesley, Massachusetts. Everywhere else votes her most likely to don her inauguration dress for the remainder of her days the way Miss Havisham forever wore that wedding dress.  Speaking of Great Expectations, Hillary Rodham overflowed with them 48 years ago when she first addressed a Wellesley graduat...</td>\n",
       "      <td>true</td>\n",
       "      <td>1</td>\n",
       "    </tr>\n",
       "    <tr>\n",
       "      <th>2</th>\n",
       "      <td>2</td>\n",
       "      <td>Why the Truth Might Get You Fired</td>\n",
       "      <td>Consortiumnews.com</td>\n",
       "      <td>Why the Truth Might Get You Fired October 29, 2016 \\nThe tension between intelligence analysts and political policymakers has always been between honest assessments and desired results, with the latter often overwhelming the former, as in the Iraq War, writes Lawrence Davidson. \\nBy Lawrence Davidson \\nFor those who might wonder why foreign policy makers repeatedly make bad choices, some insight might be drawn from the following analysis. The action here plays out in the United States, but t...</td>\n",
       "      <td>false</td>\n",
       "      <td>0</td>\n",
       "    </tr>\n",
       "    <tr>\n",
       "      <th>3</th>\n",
       "      <td>3</td>\n",
       "      <td>15 Civilians Killed In Single US Airstrike Have Been Identified</td>\n",
       "      <td>Jessica Purkiss</td>\n",
       "      <td>Videos 15 Civilians Killed In Single US Airstrike Have Been Identified The rate at which civilians are being killed by American airstrikes in Afghanistan is now higher than it was in 2014 when the US was engaged in active combat operations.   Photo of Hellfire missiles being loaded onto a US military Reaper drone in Afghanistan by Staff Sgt. Brian Ferguson/U.S. Air Force. \\nThe Bureau has been able to identify 15 civilians killed in a single US drone strike in Afghanistan last month – the bi...</td>\n",
       "      <td>false</td>\n",
       "      <td>0</td>\n",
       "    </tr>\n",
       "    <tr>\n",
       "      <th>4</th>\n",
       "      <td>4</td>\n",
       "      <td>Iranian woman jailed for fictional unpublished story about woman stoned to death for adultery</td>\n",
       "      <td>Howard Portnoy</td>\n",
       "      <td>Print \\nAn Iranian woman has been sentenced to six years in prison after Iran’s Revolutionary Guard searched her home and found a notebook that contained a fictional story she’d written about a woman who was stoned to death, according to the Eurasia Review . \\nGolrokh Ebrahimi Iraee, 35, is the wife of political prisoner Arash Sadeghi, 36, who is serving a 19-year prison sentence for being a human rights activist, the publication reported. \\n“When the intelligence unit of the Revolutionary G...</td>\n",
       "      <td>false</td>\n",
       "      <td>0</td>\n",
       "    </tr>\n",
       "  </tbody>\n",
       "</table>\n",
       "</div>"
      ],
      "text/plain": [
       "   id  \\\n",
       "0   0   \n",
       "1   1   \n",
       "2   2   \n",
       "3   3   \n",
       "4   4   \n",
       "\n",
       "                                                                                           title  \\\n",
       "0              House Dem Aide: We Didn’t Even See Comey’s Letter Until Jason Chaffetz Tweeted It   \n",
       "1                                        FLYNN: Hillary Clinton, Big Woman on Campus - Breitbart   \n",
       "2                                                              Why the Truth Might Get You Fired   \n",
       "3                                15 Civilians Killed In Single US Airstrike Have Been Identified   \n",
       "4  Iranian woman jailed for fictional unpublished story about woman stoned to death for adultery   \n",
       "\n",
       "               author  \\\n",
       "0       Darrell Lucus   \n",
       "1     Daniel J. Flynn   \n",
       "2  Consortiumnews.com   \n",
       "3     Jessica Purkiss   \n",
       "4      Howard Portnoy   \n",
       "\n",
       "                                                                                                                                                                                                                                                                                                                                                                                                                                                                                                                  text  \\\n",
       "0  House Dem Aide: We Didn’t Even See Comey’s Letter Until Jason Chaffetz Tweeted It By Darrell Lucus on October 30, 2016 Subscribe Jason Chaffetz on the stump in American Fork, Utah ( image courtesy Michael Jolley, available under a Creative Commons-BY license) \\nWith apologies to Keith Olbermann, there is no doubt who the Worst Person in The World is this week–FBI Director James Comey. But according to a House Democratic aide, it looks like we also know who the second-worst person is as well....   \n",
       "1  Ever get the feeling your life circles the roundabout rather than heads in a straight line toward the intended destination? [Hillary Clinton remains the big woman on campus in leafy, liberal Wellesley, Massachusetts. Everywhere else votes her most likely to don her inauguration dress for the remainder of her days the way Miss Havisham forever wore that wedding dress.  Speaking of Great Expectations, Hillary Rodham overflowed with them 48 years ago when she first addressed a Wellesley graduat...   \n",
       "2  Why the Truth Might Get You Fired October 29, 2016 \\nThe tension between intelligence analysts and political policymakers has always been between honest assessments and desired results, with the latter often overwhelming the former, as in the Iraq War, writes Lawrence Davidson. \\nBy Lawrence Davidson \\nFor those who might wonder why foreign policy makers repeatedly make bad choices, some insight might be drawn from the following analysis. The action here plays out in the United States, but t...   \n",
       "3  Videos 15 Civilians Killed In Single US Airstrike Have Been Identified The rate at which civilians are being killed by American airstrikes in Afghanistan is now higher than it was in 2014 when the US was engaged in active combat operations.   Photo of Hellfire missiles being loaded onto a US military Reaper drone in Afghanistan by Staff Sgt. Brian Ferguson/U.S. Air Force. \\nThe Bureau has been able to identify 15 civilians killed in a single US drone strike in Afghanistan last month – the bi...   \n",
       "4  Print \\nAn Iranian woman has been sentenced to six years in prison after Iran’s Revolutionary Guard searched her home and found a notebook that contained a fictional story she’d written about a woman who was stoned to death, according to the Eurasia Review . \\nGolrokh Ebrahimi Iraee, 35, is the wife of political prisoner Arash Sadeghi, 36, who is serving a 19-year prison sentence for being a human rights activist, the publication reported. \\n“When the intelligence unit of the Revolutionary G...   \n",
       "\n",
       "   label  label_bin  \n",
       "0  false          0  \n",
       "1   true          1  \n",
       "2  false          0  \n",
       "3  false          0  \n",
       "4  false          0  "
      ]
     },
     "execution_count": 45,
     "metadata": {},
     "output_type": "execute_result"
    }
   ],
   "source": [
    "df_test2.head()"
   ]
  },
  {
   "cell_type": "code",
   "execution_count": 46,
   "metadata": {},
   "outputs": [
    {
     "name": "stdout",
     "output_type": "stream",
     "text": [
      "<class 'pandas.core.frame.DataFrame'>\n",
      "RangeIndex: 20800 entries, 0 to 20799\n",
      "Data columns (total 6 columns):\n",
      " #   Column     Non-Null Count  Dtype \n",
      "---  ------     --------------  ----- \n",
      " 0   id         20800 non-null  int64 \n",
      " 1   title      20242 non-null  object\n",
      " 2   author     18843 non-null  object\n",
      " 3   text       20761 non-null  object\n",
      " 4   label      20800 non-null  object\n",
      " 5   label_bin  20800 non-null  int64 \n",
      "dtypes: int64(2), object(4)\n",
      "memory usage: 975.1+ KB\n"
     ]
    }
   ],
   "source": [
    "df_test2.info()"
   ]
  },
  {
   "cell_type": "markdown",
   "metadata": {},
   "source": [
    "## Clean & Process Dataset 2"
   ]
  },
  {
   "cell_type": "code",
   "execution_count": 47,
   "metadata": {},
   "outputs": [
    {
     "data": {
      "text/plain": [
       "2554"
      ]
     },
     "execution_count": 47,
     "metadata": {},
     "output_type": "execute_result"
    }
   ],
   "source": [
    "# Check for empty records.\n",
    "df_test2.isna().sum().sum()"
   ]
  },
  {
   "cell_type": "code",
   "execution_count": 48,
   "metadata": {},
   "outputs": [
    {
     "data": {
      "text/plain": [
       "<class 'str'>      20242\n",
       "<class 'float'>      558\n",
       "Name: title, dtype: int64"
      ]
     },
     "execution_count": 48,
     "metadata": {},
     "output_type": "execute_result"
    }
   ],
   "source": [
    "# Check columns labeled as the 'object' dtype.\n",
    "df_test2[\"title\"].apply(type).value_counts()"
   ]
  },
  {
   "cell_type": "code",
   "execution_count": 49,
   "metadata": {},
   "outputs": [
    {
     "data": {
      "text/plain": [
       "<class 'str'>      20761\n",
       "<class 'float'>       39\n",
       "Name: text, dtype: int64"
      ]
     },
     "execution_count": 49,
     "metadata": {},
     "output_type": "execute_result"
    }
   ],
   "source": [
    "# Check columns labeled as the 'object' dtype.\n",
    "df_test2[\"text\"].apply(type).value_counts()"
   ]
  },
  {
   "cell_type": "code",
   "execution_count": 50,
   "metadata": {},
   "outputs": [
    {
     "data": {
      "text/html": [
       "<div>\n",
       "<style scoped>\n",
       "    .dataframe tbody tr th:only-of-type {\n",
       "        vertical-align: middle;\n",
       "    }\n",
       "\n",
       "    .dataframe tbody tr th {\n",
       "        vertical-align: top;\n",
       "    }\n",
       "\n",
       "    .dataframe thead th {\n",
       "        text-align: right;\n",
       "    }\n",
       "</style>\n",
       "<table border=\"1\" class=\"dataframe\">\n",
       "  <thead>\n",
       "    <tr style=\"text-align: right;\">\n",
       "      <th></th>\n",
       "      <th>id</th>\n",
       "      <th>title</th>\n",
       "      <th>author</th>\n",
       "      <th>text</th>\n",
       "      <th>label</th>\n",
       "      <th>label_bin</th>\n",
       "    </tr>\n",
       "  </thead>\n",
       "  <tbody>\n",
       "    <tr>\n",
       "      <th>53</th>\n",
       "      <td>53</td>\n",
       "      <td>NaN</td>\n",
       "      <td>Dairy✓ᵀᴿᵁᴹᴾ</td>\n",
       "      <td>Sounds like he has our president pegged. What a shame, Obama's ineptness pushed our strategic partner in that area away with the idiotic pushing of PC policies. Duterte has a huge drug problem that is ruining his country and there is only one way to set it back on course. Yes, it's ugly and people get hurt, but cleaning the drugs out is always a hard thing to do and it must be done in order to bring about a civil society again. They should have just left him alone and not tried to tell him h...</td>\n",
       "      <td>false</td>\n",
       "      <td>0</td>\n",
       "    </tr>\n",
       "    <tr>\n",
       "      <th>120</th>\n",
       "      <td>120</td>\n",
       "      <td>NaN</td>\n",
       "      <td>Anonymous</td>\n",
       "      <td>Same people all the time , i dont know how you can fix this corruption http://www.fromthewilderness.com/free/ww3/10_09_01_krongard.html</td>\n",
       "      <td>false</td>\n",
       "      <td>0</td>\n",
       "    </tr>\n",
       "    <tr>\n",
       "      <th>124</th>\n",
       "      <td>124</td>\n",
       "      <td>NaN</td>\n",
       "      <td>SeekSearchDestory</td>\n",
       "      <td>You know, outside of any morality arguments, it seems to me that asking soldiers to give you money after you ask them to get shot at by other people for the privilege of getting shot at in the first place, doesn't seem like a good idea somehow. Is DC vaguely aware what happens to countries that gyp their troops on a regular basis? Or have they watched so much Star Trek in the break room over the years that they've forgotten that problems are not solved peacefully in 60 minutes, or that we ha...</td>\n",
       "      <td>false</td>\n",
       "      <td>0</td>\n",
       "    </tr>\n",
       "    <tr>\n",
       "      <th>140</th>\n",
       "      <td>140</td>\n",
       "      <td>NaN</td>\n",
       "      <td>Anonymous</td>\n",
       "      <td>There is a lot more than meets the eye to this mob , wait till you read this . &amp;quot;Soon thereafter I resigned from Yang and took another job at the Florida Department of Transportation (FDOT). While there, I discovered some other illegal activities of Yang, who had contracts with FDOT, involving over-billing and defrauding of the State of Florida regarding contracts Nee was sentenced on October 7, 2004 by U.S. District Judge Gregory A. Presenell to three years of supervised probation and $...</td>\n",
       "      <td>false</td>\n",
       "      <td>0</td>\n",
       "    </tr>\n",
       "    <tr>\n",
       "      <th>196</th>\n",
       "      <td>196</td>\n",
       "      <td>NaN</td>\n",
       "      <td>Raffie</td>\n",
       "      <td>They got the heater turned up on high.</td>\n",
       "      <td>false</td>\n",
       "      <td>0</td>\n",
       "    </tr>\n",
       "  </tbody>\n",
       "</table>\n",
       "</div>"
      ],
      "text/plain": [
       "      id title             author  \\\n",
       "53    53   NaN        Dairy✓ᵀᴿᵁᴹᴾ   \n",
       "120  120   NaN          Anonymous   \n",
       "124  124   NaN  SeekSearchDestory   \n",
       "140  140   NaN          Anonymous   \n",
       "196  196   NaN             Raffie   \n",
       "\n",
       "                                                                                                                                                                                                                                                                                                                                                                                                                                                                                                                    text  \\\n",
       "53   Sounds like he has our president pegged. What a shame, Obama's ineptness pushed our strategic partner in that area away with the idiotic pushing of PC policies. Duterte has a huge drug problem that is ruining his country and there is only one way to set it back on course. Yes, it's ugly and people get hurt, but cleaning the drugs out is always a hard thing to do and it must be done in order to bring about a civil society again. They should have just left him alone and not tried to tell him h...   \n",
       "120                                                                                                                                                                                                                                                                                                                                                                              Same people all the time , i dont know how you can fix this corruption http://www.fromthewilderness.com/free/ww3/10_09_01_krongard.html   \n",
       "124  You know, outside of any morality arguments, it seems to me that asking soldiers to give you money after you ask them to get shot at by other people for the privilege of getting shot at in the first place, doesn't seem like a good idea somehow. Is DC vaguely aware what happens to countries that gyp their troops on a regular basis? Or have they watched so much Star Trek in the break room over the years that they've forgotten that problems are not solved peacefully in 60 minutes, or that we ha...   \n",
       "140  There is a lot more than meets the eye to this mob , wait till you read this . &quot;Soon thereafter I resigned from Yang and took another job at the Florida Department of Transportation (FDOT). While there, I discovered some other illegal activities of Yang, who had contracts with FDOT, involving over-billing and defrauding of the State of Florida regarding contracts Nee was sentenced on October 7, 2004 by U.S. District Judge Gregory A. Presenell to three years of supervised probation and $...   \n",
       "196                                                                                                                                                                                                                                                                                                                                                                                                                                                                               They got the heater turned up on high.   \n",
       "\n",
       "     label  label_bin  \n",
       "53   false          0  \n",
       "120  false          0  \n",
       "124  false          0  \n",
       "140  false          0  \n",
       "196  false          0  "
      ]
     },
     "execution_count": 50,
     "metadata": {},
     "output_type": "execute_result"
    }
   ],
   "source": [
    "# Inspect float objects in title column.\n",
    "df_test2_inspect_nulls = df_test2[df_test2[\"title\"].isna()]\n",
    "df_test2_inspect_nulls.head()"
   ]
  },
  {
   "cell_type": "code",
   "execution_count": 51,
   "metadata": {},
   "outputs": [
    {
     "data": {
      "text/html": [
       "<div>\n",
       "<style scoped>\n",
       "    .dataframe tbody tr th:only-of-type {\n",
       "        vertical-align: middle;\n",
       "    }\n",
       "\n",
       "    .dataframe tbody tr th {\n",
       "        vertical-align: top;\n",
       "    }\n",
       "\n",
       "    .dataframe thead th {\n",
       "        text-align: right;\n",
       "    }\n",
       "</style>\n",
       "<table border=\"1\" class=\"dataframe\">\n",
       "  <thead>\n",
       "    <tr style=\"text-align: right;\">\n",
       "      <th></th>\n",
       "      <th>id</th>\n",
       "      <th>title</th>\n",
       "      <th>author</th>\n",
       "      <th>text</th>\n",
       "      <th>label</th>\n",
       "      <th>label_bin</th>\n",
       "    </tr>\n",
       "  </thead>\n",
       "  <tbody>\n",
       "    <tr>\n",
       "      <th>142</th>\n",
       "      <td>142</td>\n",
       "      <td>Gorafi Magazine : Entretien exclusif avec Barack Obama « Plus rien à secouer. Démerdez-vous » &gt;&gt; Le Gorafi</td>\n",
       "      <td>NaN</td>\n",
       "      <td>NaN</td>\n",
       "      <td>false</td>\n",
       "      <td>0</td>\n",
       "    </tr>\n",
       "    <tr>\n",
       "      <th>573</th>\n",
       "      <td>573</td>\n",
       "      <td>Le top des recherches Google passe en top des recherches Google &gt;&gt; Le Gorafi</td>\n",
       "      <td>NaN</td>\n",
       "      <td>NaN</td>\n",
       "      <td>false</td>\n",
       "      <td>0</td>\n",
       "    </tr>\n",
       "    <tr>\n",
       "      <th>1200</th>\n",
       "      <td>1200</td>\n",
       "      <td>La Corée du Nord annonce avoir envoyé un missile balistique de félicitation à Donald Trump &gt;&gt; Le Gorafi</td>\n",
       "      <td>NaN</td>\n",
       "      <td>NaN</td>\n",
       "      <td>false</td>\n",
       "      <td>0</td>\n",
       "    </tr>\n",
       "    <tr>\n",
       "      <th>1911</th>\n",
       "      <td>1911</td>\n",
       "      <td>Grand-Prix du Brésil – Romain Grosjean obtient le meilleur temps dans la ligne droite des stands &gt;&gt; Le Gorafi</td>\n",
       "      <td>NaN</td>\n",
       "      <td>NaN</td>\n",
       "      <td>false</td>\n",
       "      <td>0</td>\n",
       "    </tr>\n",
       "    <tr>\n",
       "      <th>2148</th>\n",
       "      <td>2148</td>\n",
       "      <td>Gorafi Magazine: Barack Obama « Je vous ai déjà dit que j’en avais plus rien à battre. Lâchez moi maintenant » &gt;&gt; Le Gorafi</td>\n",
       "      <td>NaN</td>\n",
       "      <td>NaN</td>\n",
       "      <td>false</td>\n",
       "      <td>0</td>\n",
       "    </tr>\n",
       "  </tbody>\n",
       "</table>\n",
       "</div>"
      ],
      "text/plain": [
       "        id  \\\n",
       "142    142   \n",
       "573    573   \n",
       "1200  1200   \n",
       "1911  1911   \n",
       "2148  2148   \n",
       "\n",
       "                                                                                                                            title  \\\n",
       "142                    Gorafi Magazine : Entretien exclusif avec Barack Obama « Plus rien à secouer. Démerdez-vous » >> Le Gorafi   \n",
       "573                                                  Le top des recherches Google passe en top des recherches Google >> Le Gorafi   \n",
       "1200                      La Corée du Nord annonce avoir envoyé un missile balistique de félicitation à Donald Trump >> Le Gorafi   \n",
       "1911                Grand-Prix du Brésil – Romain Grosjean obtient le meilleur temps dans la ligne droite des stands >> Le Gorafi   \n",
       "2148  Gorafi Magazine: Barack Obama « Je vous ai déjà dit que j’en avais plus rien à battre. Lâchez moi maintenant » >> Le Gorafi   \n",
       "\n",
       "     author text  label  label_bin  \n",
       "142     NaN  NaN  false          0  \n",
       "573     NaN  NaN  false          0  \n",
       "1200    NaN  NaN  false          0  \n",
       "1911    NaN  NaN  false          0  \n",
       "2148    NaN  NaN  false          0  "
      ]
     },
     "execution_count": 51,
     "metadata": {},
     "output_type": "execute_result"
    }
   ],
   "source": [
    "# Inspect float objects in text column.\n",
    "df_test2_inspect_nulls = df_test2[df_test2[\"text\"].isna()]\n",
    "df_test2_inspect_nulls.head()"
   ]
  },
  {
   "cell_type": "code",
   "execution_count": 52,
   "metadata": {},
   "outputs": [
    {
     "name": "stdout",
     "output_type": "stream",
     "text": [
      "NaN text records (after removal): 0\n",
      "NaN title records (after removal): 0\n",
      "Filtered df size: (20203, 6)\n",
      "\n",
      "<class 'pandas.core.frame.DataFrame'>\n",
      "Int64Index: 20203 entries, 0 to 20799\n",
      "Data columns (total 6 columns):\n",
      " #   Column     Non-Null Count  Dtype \n",
      "---  ------     --------------  ----- \n",
      " 0   id         20203 non-null  int64 \n",
      " 1   title      20203 non-null  object\n",
      " 2   author     18285 non-null  object\n",
      " 3   text       20203 non-null  object\n",
      " 4   label      20203 non-null  object\n",
      " 5   label_bin  20203 non-null  int64 \n",
      "dtypes: int64(2), object(4)\n",
      "memory usage: 1.1+ MB\n"
     ]
    }
   ],
   "source": [
    "# Remove NaN records from the text and title columns.\n",
    "df_test2_filtered = df_test2.dropna(subset=[\"title\", \"text\"])\n",
    "\n",
    "# Confirm count of empty clean text records.\n",
    "print(f\"NaN text records (after removal): {len(df_test2_filtered[df_test2_filtered['text'] == ''])}\")\n",
    "print(f\"NaN title records (after removal): {len(df_test2_filtered[df_test2_filtered['title'] == ''])}\")\n",
    "print(f\"Filtered df size: {df_test2_filtered.shape}\\n\")\n",
    "df_test2_filtered.info()"
   ]
  },
  {
   "cell_type": "code",
   "execution_count": 53,
   "metadata": {},
   "outputs": [
    {
     "name": "stdout",
     "output_type": "stream",
     "text": [
      "62.665 seconds to execute pre-processing text inputs...\n"
     ]
    }
   ],
   "source": [
    "# Combine the title and text columns into one column.\n",
    "df_test2_filtered['titletext'] = df_test2_filtered['title'] + ' ' + df_test2_filtered['text']\n",
    "\n",
    "# Clean up text features.\n",
    "start_time = time.time()\n",
    "stop_words = set(stopwords.words(\"english\"))\n",
    "\n",
    "df_test2_filtered[\"clean_title\"] = df_test2_filtered[\"title\"].apply(lambda text: preprocess_text(text))\n",
    "df_test2_filtered[\"clean_text\"] = df_test2_filtered[\"text\"].apply(lambda text: preprocess_text(text))\n",
    "df_test2_filtered[\"clean_titletext\"] = df_test2_filtered[\"titletext\"].apply(lambda text: preprocess_text(text))\n",
    "\n",
    "print(f\"{(time.time() - start_time):0.3f} seconds to execute pre-processing text inputs...\")"
   ]
  },
  {
   "cell_type": "code",
   "execution_count": 54,
   "metadata": {},
   "outputs": [],
   "source": [
    "df_test2_filtered['clean_text'] = df_test2_filtered['clean_text'].apply(singlecharacter)"
   ]
  },
  {
   "cell_type": "code",
   "execution_count": 55,
   "metadata": {},
   "outputs": [
    {
     "data": {
      "text/html": [
       "<div>\n",
       "<style scoped>\n",
       "    .dataframe tbody tr th:only-of-type {\n",
       "        vertical-align: middle;\n",
       "    }\n",
       "\n",
       "    .dataframe tbody tr th {\n",
       "        vertical-align: top;\n",
       "    }\n",
       "\n",
       "    .dataframe thead th {\n",
       "        text-align: right;\n",
       "    }\n",
       "</style>\n",
       "<table border=\"1\" class=\"dataframe\">\n",
       "  <thead>\n",
       "    <tr style=\"text-align: right;\">\n",
       "      <th></th>\n",
       "      <th>id</th>\n",
       "      <th>title</th>\n",
       "      <th>author</th>\n",
       "      <th>text</th>\n",
       "      <th>label</th>\n",
       "      <th>label_bin</th>\n",
       "      <th>titletext</th>\n",
       "      <th>clean_title</th>\n",
       "      <th>clean_text</th>\n",
       "      <th>clean_titletext</th>\n",
       "    </tr>\n",
       "  </thead>\n",
       "  <tbody>\n",
       "    <tr>\n",
       "      <th>0</th>\n",
       "      <td>0</td>\n",
       "      <td>House Dem Aide: We Didn’t Even See Comey’s Letter Until Jason Chaffetz Tweeted It</td>\n",
       "      <td>Darrell Lucus</td>\n",
       "      <td>House Dem Aide: We Didn’t Even See Comey’s Letter Until Jason Chaffetz Tweeted It By Darrell Lucus on October 30, 2016 Subscribe Jason Chaffetz on the stump in American Fork, Utah ( image courtesy Michael Jolley, available under a Creative Commons-BY license) \\nWith apologies to Keith Olbermann, there is no doubt who the Worst Person in The World is this week–FBI Director James Comey. But according to a House Democratic aide, it looks like we also know who the second-worst person is as well....</td>\n",
       "      <td>false</td>\n",
       "      <td>0</td>\n",
       "      <td>House Dem Aide: We Didn’t Even See Comey’s Letter Until Jason Chaffetz Tweeted It House Dem Aide: We Didn’t Even See Comey’s Letter Until Jason Chaffetz Tweeted It By Darrell Lucus on October 30, 2016 Subscribe Jason Chaffetz on the stump in American Fork, Utah ( image courtesy Michael Jolley, available under a Creative Commons-BY license) \\nWith apologies to Keith Olbermann, there is no doubt who the Worst Person in The World is this week–FBI Director James Comey. But according to a House D...</td>\n",
       "      <td>house dem aide even see comey letter jason chaffetz tweeted</td>\n",
       "      <td>house dem aide even see comey letter jason chaffetz tweeted darrell lucus october 30 2016 subscribe jason chaffetz stump american fork utah image courtesy michael jolley available creative commonslicense apologies keith olbermann doubt worst person world week fbi director james comey according house democratic aide looks like also know secondworst person well turns comey sent infamous letter announcing fbi looking emails may related hillary clinton email server ranking democrats relevant com...</td>\n",
       "      <td>house dem aide even see comey letter jason chaffetz tweeted house dem aide even see comey letter jason chaffetz tweeted darrell lucus october 30 2016 subscribe jason chaffetz stump american fork utah image courtesy michael jolley available creative commonslicense apologies keith olbermann doubt worst person world week fbi director james comey according house democratic aide looks like also know secondworst person well turns comey sent infamous letter announcing fbi looking emails may related...</td>\n",
       "    </tr>\n",
       "    <tr>\n",
       "      <th>1</th>\n",
       "      <td>1</td>\n",
       "      <td>FLYNN: Hillary Clinton, Big Woman on Campus - Breitbart</td>\n",
       "      <td>Daniel J. Flynn</td>\n",
       "      <td>Ever get the feeling your life circles the roundabout rather than heads in a straight line toward the intended destination? [Hillary Clinton remains the big woman on campus in leafy, liberal Wellesley, Massachusetts. Everywhere else votes her most likely to don her inauguration dress for the remainder of her days the way Miss Havisham forever wore that wedding dress.  Speaking of Great Expectations, Hillary Rodham overflowed with them 48 years ago when she first addressed a Wellesley graduat...</td>\n",
       "      <td>true</td>\n",
       "      <td>1</td>\n",
       "      <td>FLYNN: Hillary Clinton, Big Woman on Campus - Breitbart Ever get the feeling your life circles the roundabout rather than heads in a straight line toward the intended destination? [Hillary Clinton remains the big woman on campus in leafy, liberal Wellesley, Massachusetts. Everywhere else votes her most likely to don her inauguration dress for the remainder of her days the way Miss Havisham forever wore that wedding dress.  Speaking of Great Expectations, Hillary Rodham overflowed with them 4...</td>\n",
       "      <td>flynn hillary clinton big woman campus breitbart</td>\n",
       "      <td>ever get feeling life circles roundabout rather heads straight line toward intended destination hillary clinton remains big woman campus leafy liberal wellesley massachusetts everywhere else votes likely inauguration dress remainder days way miss havisham forever wore wedding dress speaking great expectations hillary rodham overflowed 48 years ago first addressed wellesley graduating class president college informed gathered 1969 students needed debate far could ascertain spokesman kind like...</td>\n",
       "      <td>flynn hillary clinton big woman campus breitbart ever get feeling life circles roundabout rather heads straight line toward intended destination hillary clinton remains big woman campus leafy liberal wellesley massachusetts everywhere else votes likely inauguration dress remainder days way miss havisham forever wore wedding dress speaking great expectations hillary rodham overflowed 48 years ago first addressed wellesley graduating class president college informed gathered 1969 students need...</td>\n",
       "    </tr>\n",
       "  </tbody>\n",
       "</table>\n",
       "</div>"
      ],
      "text/plain": [
       "   id  \\\n",
       "0   0   \n",
       "1   1   \n",
       "\n",
       "                                                                               title  \\\n",
       "0  House Dem Aide: We Didn’t Even See Comey’s Letter Until Jason Chaffetz Tweeted It   \n",
       "1                            FLYNN: Hillary Clinton, Big Woman on Campus - Breitbart   \n",
       "\n",
       "            author  \\\n",
       "0    Darrell Lucus   \n",
       "1  Daniel J. Flynn   \n",
       "\n",
       "                                                                                                                                                                                                                                                                                                                                                                                                                                                                                                                  text  \\\n",
       "0  House Dem Aide: We Didn’t Even See Comey’s Letter Until Jason Chaffetz Tweeted It By Darrell Lucus on October 30, 2016 Subscribe Jason Chaffetz on the stump in American Fork, Utah ( image courtesy Michael Jolley, available under a Creative Commons-BY license) \\nWith apologies to Keith Olbermann, there is no doubt who the Worst Person in The World is this week–FBI Director James Comey. But according to a House Democratic aide, it looks like we also know who the second-worst person is as well....   \n",
       "1  Ever get the feeling your life circles the roundabout rather than heads in a straight line toward the intended destination? [Hillary Clinton remains the big woman on campus in leafy, liberal Wellesley, Massachusetts. Everywhere else votes her most likely to don her inauguration dress for the remainder of her days the way Miss Havisham forever wore that wedding dress.  Speaking of Great Expectations, Hillary Rodham overflowed with them 48 years ago when she first addressed a Wellesley graduat...   \n",
       "\n",
       "   label  label_bin  \\\n",
       "0  false          0   \n",
       "1   true          1   \n",
       "\n",
       "                                                                                                                                                                                                                                                                                                                                                                                                                                                                                                             titletext  \\\n",
       "0  House Dem Aide: We Didn’t Even See Comey’s Letter Until Jason Chaffetz Tweeted It House Dem Aide: We Didn’t Even See Comey’s Letter Until Jason Chaffetz Tweeted It By Darrell Lucus on October 30, 2016 Subscribe Jason Chaffetz on the stump in American Fork, Utah ( image courtesy Michael Jolley, available under a Creative Commons-BY license) \\nWith apologies to Keith Olbermann, there is no doubt who the Worst Person in The World is this week–FBI Director James Comey. But according to a House D...   \n",
       "1  FLYNN: Hillary Clinton, Big Woman on Campus - Breitbart Ever get the feeling your life circles the roundabout rather than heads in a straight line toward the intended destination? [Hillary Clinton remains the big woman on campus in leafy, liberal Wellesley, Massachusetts. Everywhere else votes her most likely to don her inauguration dress for the remainder of her days the way Miss Havisham forever wore that wedding dress.  Speaking of Great Expectations, Hillary Rodham overflowed with them 4...   \n",
       "\n",
       "                                                   clean_title  \\\n",
       "0  house dem aide even see comey letter jason chaffetz tweeted   \n",
       "1             flynn hillary clinton big woman campus breitbart   \n",
       "\n",
       "                                                                                                                                                                                                                                                                                                                                                                                                                                                                                                            clean_text  \\\n",
       "0  house dem aide even see comey letter jason chaffetz tweeted darrell lucus october 30 2016 subscribe jason chaffetz stump american fork utah image courtesy michael jolley available creative commonslicense apologies keith olbermann doubt worst person world week fbi director james comey according house democratic aide looks like also know secondworst person well turns comey sent infamous letter announcing fbi looking emails may related hillary clinton email server ranking democrats relevant com...   \n",
       "1  ever get feeling life circles roundabout rather heads straight line toward intended destination hillary clinton remains big woman campus leafy liberal wellesley massachusetts everywhere else votes likely inauguration dress remainder days way miss havisham forever wore wedding dress speaking great expectations hillary rodham overflowed 48 years ago first addressed wellesley graduating class president college informed gathered 1969 students needed debate far could ascertain spokesman kind like...   \n",
       "\n",
       "                                                                                                                                                                                                                                                                                                                                                                                                                                                                                                       clean_titletext  \n",
       "0  house dem aide even see comey letter jason chaffetz tweeted house dem aide even see comey letter jason chaffetz tweeted darrell lucus october 30 2016 subscribe jason chaffetz stump american fork utah image courtesy michael jolley available creative commonslicense apologies keith olbermann doubt worst person world week fbi director james comey according house democratic aide looks like also know secondworst person well turns comey sent infamous letter announcing fbi looking emails may related...  \n",
       "1  flynn hillary clinton big woman campus breitbart ever get feeling life circles roundabout rather heads straight line toward intended destination hillary clinton remains big woman campus leafy liberal wellesley massachusetts everywhere else votes likely inauguration dress remainder days way miss havisham forever wore wedding dress speaking great expectations hillary rodham overflowed 48 years ago first addressed wellesley graduating class president college informed gathered 1969 students need...  "
      ]
     },
     "execution_count": 55,
     "metadata": {},
     "output_type": "execute_result"
    }
   ],
   "source": [
    "df_test2_filtered.head(2)"
   ]
  },
  {
   "cell_type": "code",
   "execution_count": 56,
   "metadata": {},
   "outputs": [
    {
     "name": "stdout",
     "output_type": "stream",
     "text": [
      "Empty clean text records: 92\n"
     ]
    },
    {
     "data": {
      "text/html": [
       "<div>\n",
       "<style scoped>\n",
       "    .dataframe tbody tr th:only-of-type {\n",
       "        vertical-align: middle;\n",
       "    }\n",
       "\n",
       "    .dataframe tbody tr th {\n",
       "        vertical-align: top;\n",
       "    }\n",
       "\n",
       "    .dataframe thead th {\n",
       "        text-align: right;\n",
       "    }\n",
       "</style>\n",
       "<table border=\"1\" class=\"dataframe\">\n",
       "  <thead>\n",
       "    <tr style=\"text-align: right;\">\n",
       "      <th></th>\n",
       "      <th>id</th>\n",
       "      <th>title</th>\n",
       "      <th>author</th>\n",
       "      <th>text</th>\n",
       "      <th>label</th>\n",
       "      <th>label_bin</th>\n",
       "      <th>titletext</th>\n",
       "      <th>clean_title</th>\n",
       "      <th>clean_text</th>\n",
       "      <th>clean_titletext</th>\n",
       "    </tr>\n",
       "  </thead>\n",
       "  <tbody>\n",
       "    <tr>\n",
       "      <th>82</th>\n",
       "      <td>82</td>\n",
       "      <td>Huma’s Weiner Dogs Hillary</td>\n",
       "      <td>Steve Sailer</td>\n",
       "      <td></td>\n",
       "      <td>false</td>\n",
       "      <td>0</td>\n",
       "      <td>Huma’s Weiner Dogs Hillary</td>\n",
       "      <td>huma weiner dogs hillary</td>\n",
       "      <td></td>\n",
       "      <td>huma weiner dogs hillary</td>\n",
       "    </tr>\n",
       "    <tr>\n",
       "      <th>169</th>\n",
       "      <td>169</td>\n",
       "      <td>Mohamad Khweis: Another “Virginia Man” (Palestinian-American Muslim) Charged With Terrorism</td>\n",
       "      <td>James Fulford</td>\n",
       "      <td></td>\n",
       "      <td>false</td>\n",
       "      <td>0</td>\n",
       "      <td>Mohamad Khweis: Another “Virginia Man” (Palestinian-American Muslim) Charged With Terrorism</td>\n",
       "      <td>mohamad khweis another virginia man palestinianamerican muslim charged terrorism</td>\n",
       "      <td></td>\n",
       "      <td>mohamad khweis another virginia man palestinianamerican muslim charged terrorism</td>\n",
       "    </tr>\n",
       "    <tr>\n",
       "      <th>295</th>\n",
       "      <td>295</td>\n",
       "      <td>A Connecticut Reader Reports Record Voter Registration–Inspired By Trump</td>\n",
       "      <td>VDARE.com Reader</td>\n",
       "      <td></td>\n",
       "      <td>false</td>\n",
       "      <td>0</td>\n",
       "      <td>A Connecticut Reader Reports Record Voter Registration–Inspired By Trump</td>\n",
       "      <td>connecticut reader reports record voter registration inspired trump</td>\n",
       "      <td></td>\n",
       "      <td>connecticut reader reports record voter registration inspired trump</td>\n",
       "    </tr>\n",
       "    <tr>\n",
       "      <th>470</th>\n",
       "      <td>470</td>\n",
       "      <td>BULLETIN: There ARE Righteous Jews For Trump!; Rule Or Ruin For GOP Establishment; etc.(60 ITEMS!)</td>\n",
       "      <td>admin</td>\n",
       "      <td></td>\n",
       "      <td>false</td>\n",
       "      <td>0</td>\n",
       "      <td>BULLETIN: There ARE Righteous Jews For Trump!; Rule Or Ruin For GOP Establishment; etc.(60 ITEMS!)</td>\n",
       "      <td>bulletin righteous jews trump rule ruin gop establishment etc60 items</td>\n",
       "      <td></td>\n",
       "      <td>bulletin righteous jews trump rule ruin gop establishment etc60 items</td>\n",
       "    </tr>\n",
       "    <tr>\n",
       "      <th>592</th>\n",
       "      <td>592</td>\n",
       "      <td>Is your promising internet career over now Vine is dead? Write for NewsBiscuit to cheer yourself up</td>\n",
       "      <td>newsbiscuit editorial team</td>\n",
       "      <td></td>\n",
       "      <td>false</td>\n",
       "      <td>0</td>\n",
       "      <td>Is your promising internet career over now Vine is dead? Write for NewsBiscuit to cheer yourself up</td>\n",
       "      <td>promising internet career vine dead write newsbiscuit cheer</td>\n",
       "      <td></td>\n",
       "      <td>promising internet career vine dead write newsbiscuit cheer</td>\n",
       "    </tr>\n",
       "  </tbody>\n",
       "</table>\n",
       "</div>"
      ],
      "text/plain": [
       "      id  \\\n",
       "82    82   \n",
       "169  169   \n",
       "295  295   \n",
       "470  470   \n",
       "592  592   \n",
       "\n",
       "                                                                                                   title  \\\n",
       "82                                                                            Huma’s Weiner Dogs Hillary   \n",
       "169          Mohamad Khweis: Another “Virginia Man” (Palestinian-American Muslim) Charged With Terrorism   \n",
       "295                             A Connecticut Reader Reports Record Voter Registration–Inspired By Trump   \n",
       "470   BULLETIN: There ARE Righteous Jews For Trump!; Rule Or Ruin For GOP Establishment; etc.(60 ITEMS!)   \n",
       "592  Is your promising internet career over now Vine is dead? Write for NewsBiscuit to cheer yourself up   \n",
       "\n",
       "                         author text  label  label_bin  \\\n",
       "82                 Steve Sailer       false          0   \n",
       "169               James Fulford       false          0   \n",
       "295            VDARE.com Reader       false          0   \n",
       "470                       admin       false          0   \n",
       "592  newsbiscuit editorial team       false          0   \n",
       "\n",
       "                                                                                                 titletext  \\\n",
       "82                                                                            Huma’s Weiner Dogs Hillary     \n",
       "169          Mohamad Khweis: Another “Virginia Man” (Palestinian-American Muslim) Charged With Terrorism     \n",
       "295                             A Connecticut Reader Reports Record Voter Registration–Inspired By Trump     \n",
       "470   BULLETIN: There ARE Righteous Jews For Trump!; Rule Or Ruin For GOP Establishment; etc.(60 ITEMS!)     \n",
       "592  Is your promising internet career over now Vine is dead? Write for NewsBiscuit to cheer yourself up     \n",
       "\n",
       "                                                                          clean_title  \\\n",
       "82                                                           huma weiner dogs hillary   \n",
       "169  mohamad khweis another virginia man palestinianamerican muslim charged terrorism   \n",
       "295               connecticut reader reports record voter registration inspired trump   \n",
       "470             bulletin righteous jews trump rule ruin gop establishment etc60 items   \n",
       "592                       promising internet career vine dead write newsbiscuit cheer   \n",
       "\n",
       "    clean_text  \\\n",
       "82               \n",
       "169              \n",
       "295              \n",
       "470              \n",
       "592              \n",
       "\n",
       "                                                                      clean_titletext  \n",
       "82                                                           huma weiner dogs hillary  \n",
       "169  mohamad khweis another virginia man palestinianamerican muslim charged terrorism  \n",
       "295               connecticut reader reports record voter registration inspired trump  \n",
       "470             bulletin righteous jews trump rule ruin gop establishment etc60 items  \n",
       "592                       promising internet career vine dead write newsbiscuit cheer  "
      ]
     },
     "execution_count": 56,
     "metadata": {},
     "output_type": "execute_result"
    }
   ],
   "source": [
    "# Get count of empty clean text records.\n",
    "print(f\"Empty clean text records: {len(df_test2_filtered[df_test2_filtered['clean_text'] == ''])}\")\n",
    "df_test2_filtered[df_test2_filtered[\"clean_text\"] == \"\"].head()"
   ]
  },
  {
   "cell_type": "code",
   "execution_count": 57,
   "metadata": {},
   "outputs": [
    {
     "name": "stdout",
     "output_type": "stream",
     "text": [
      "Empty clean text records (after removal): 0\n",
      "Filtered df size: (20111, 10)\n"
     ]
    },
    {
     "data": {
      "text/html": [
       "<div>\n",
       "<style scoped>\n",
       "    .dataframe tbody tr th:only-of-type {\n",
       "        vertical-align: middle;\n",
       "    }\n",
       "\n",
       "    .dataframe tbody tr th {\n",
       "        vertical-align: top;\n",
       "    }\n",
       "\n",
       "    .dataframe thead th {\n",
       "        text-align: right;\n",
       "    }\n",
       "</style>\n",
       "<table border=\"1\" class=\"dataframe\">\n",
       "  <thead>\n",
       "    <tr style=\"text-align: right;\">\n",
       "      <th></th>\n",
       "      <th>id</th>\n",
       "      <th>title</th>\n",
       "      <th>author</th>\n",
       "      <th>text</th>\n",
       "      <th>label</th>\n",
       "      <th>label_bin</th>\n",
       "      <th>titletext</th>\n",
       "      <th>clean_title</th>\n",
       "      <th>clean_text</th>\n",
       "      <th>clean_titletext</th>\n",
       "    </tr>\n",
       "  </thead>\n",
       "  <tbody>\n",
       "  </tbody>\n",
       "</table>\n",
       "</div>"
      ],
      "text/plain": [
       "Empty DataFrame\n",
       "Columns: [id, title, author, text, label, label_bin, titletext, clean_title, clean_text, clean_titletext]\n",
       "Index: []"
      ]
     },
     "execution_count": 57,
     "metadata": {},
     "output_type": "execute_result"
    }
   ],
   "source": [
    "# Remove empty clean text records.\n",
    "df_test2_filtered = df_test2_filtered[df_test2_filtered[\"clean_text\"] != \"\"]\n",
    "\n",
    "# Confirm count of empty clean text records.\n",
    "print(f\"Empty clean text records (after removal): {len(df_test2_filtered[df_test2_filtered['clean_text'] == ''])}\")\n",
    "print(f\"Filtered df size: {df_test2_filtered.shape}\")\n",
    "df_test2_filtered[df_test2_filtered[\"clean_text\"] == \"\"].head()"
   ]
  },
  {
   "cell_type": "code",
   "execution_count": 58,
   "metadata": {},
   "outputs": [
    {
     "name": "stdout",
     "output_type": "stream",
     "text": [
      "Empty clean title records: 138\n"
     ]
    },
    {
     "data": {
      "text/html": [
       "<div>\n",
       "<style scoped>\n",
       "    .dataframe tbody tr th:only-of-type {\n",
       "        vertical-align: middle;\n",
       "    }\n",
       "\n",
       "    .dataframe tbody tr th {\n",
       "        vertical-align: top;\n",
       "    }\n",
       "\n",
       "    .dataframe thead th {\n",
       "        text-align: right;\n",
       "    }\n",
       "</style>\n",
       "<table border=\"1\" class=\"dataframe\">\n",
       "  <thead>\n",
       "    <tr style=\"text-align: right;\">\n",
       "      <th></th>\n",
       "      <th>id</th>\n",
       "      <th>title</th>\n",
       "      <th>author</th>\n",
       "      <th>text</th>\n",
       "      <th>label</th>\n",
       "      <th>label_bin</th>\n",
       "      <th>titletext</th>\n",
       "      <th>clean_title</th>\n",
       "      <th>clean_text</th>\n",
       "      <th>clean_titletext</th>\n",
       "    </tr>\n",
       "  </thead>\n",
       "  <tbody>\n",
       "    <tr>\n",
       "      <th>47</th>\n",
       "      <td>47</td>\n",
       "      <td>СМИ Сербии приписали россиянам \"подготовку терактов\" в Черногории</td>\n",
       "      <td>NaN</td>\n",
       "      <td>0 комментариев 0 поделились Фото: AP \\nОднако глава правительства Сербии Александр Вучич отказался комментировать сообщения о высланных россиянах. \"Не все в вашем вопросе неверно, одна часть не точна. Я не хотел вам отвечать не только по той причине, которую уже назвал, но и еще из-за одной вещи — потому, что об этих делах я говорить не имею права по закону\", — сказал Вучич белградскому телеканалу N1. \\nНовость о депортации российских граждан совпала с неожиданным приездом в Белград секретар...</td>\n",
       "      <td>false</td>\n",
       "      <td>0</td>\n",
       "      <td>СМИ Сербии приписали россиянам \"подготовку терактов\" в Черногории 0 комментариев 0 поделились Фото: AP \\nОднако глава правительства Сербии Александр Вучич отказался комментировать сообщения о высланных россиянах. \"Не все в вашем вопросе неверно, одна часть не точна. Я не хотел вам отвечать не только по той причине, которую уже назвал, но и еще из-за одной вещи — потому, что об этих делах я говорить не имею права по закону\", — сказал Вучич белградскому телеканалу N1. \\nНовость о депортации ро...</td>\n",
       "      <td></td>\n",
       "      <td>ap n1 26 27 16 16 20 pravdaru viber whatsapp 27 27</td>\n",
       "      <td>0 0 ap n1 26 27 16 16 20 pravdaru viber whatsapp 27 27</td>\n",
       "    </tr>\n",
       "    <tr>\n",
       "      <th>229</th>\n",
       "      <td>229</td>\n",
       "      <td>США—КНР: на кого возлагать ответственность за развитие ракетно-ядерной программы КНДР? | Новое восточное обозрение</td>\n",
       "      <td>NaN</td>\n",
       "      <td>Страна: Китай Заявления КНДР о завершении своей программы развития ядерного оружия вызвали всплеск дискуссий на тему «кто виноват». Точнее, кто несет главную ответственность за то, что ситуация дошла до нынешнего уровня, и на фоне развивающегося противостояния США и КНР Пекин начали обвинять еще и в этом, причем разброс обвинений разнится от «ничего не делал, хотя мог» до «активно помогал». Начнем с высказываний кандидата в президенты США Хиллари Клинтон. 13 октября 2016 г. агентство Associa...</td>\n",
       "      <td>false</td>\n",
       "      <td>0</td>\n",
       "      <td>США—КНР: на кого возлагать ответственность за развитие ракетно-ядерной программы КНДР? | Новое восточное обозрение Страна: Китай Заявления КНДР о завершении своей программы развития ядерного оружия вызвали всплеск дискуссий на тему «кто виноват». Точнее, кто несет главную ответственность за то, что ситуация дошла до нынешнего уровня, и на фоне развивающегося противостояния США и КНР Пекин начали обвинять еще и в этом, причем разброс обвинений разнится от «ничего не делал, хотя мог» до «актив...</td>\n",
       "      <td></td>\n",
       "      <td>13 2016 associated press wikileaks 2013 goldman sachs bruce vector 12 2016 14 21 2016 2270 thaad 25 34 2016 18477 27 16</td>\n",
       "      <td>13 2016 associated press wikileaks 2013 goldman sachs bruce vector 1 1 12 2016 14 21 2 2016 2270 4 thaad 25 34 2016 18477 27 6 16 2</td>\n",
       "    </tr>\n",
       "    <tr>\n",
       "      <th>371</th>\n",
       "      <td>371</td>\n",
       "      <td>Путин рассказал, когда в Крыму решат проблему с пресной водой</td>\n",
       "      <td>NaN</td>\n",
       "      <td>0 комментариев 7 поделились \\nОтвечая на соответствующий вопрос участника форума Виктора Тарасова, глава российского государства отметил: \"Мы направили на решение этой задачи из федерального бюджета 23 с лишним миллиарда рублей. С 2015 по 2020 г. планируется в федеральной целевой программе по развитию Крыма и Севастополя еще свыше 40 млрд руб.\", — сказал Путин. Он также добавил, что эти деньги необходимо израсходовать рационально. \"Федеральные и региональные органы власти эту проблему должны...</td>\n",
       "      <td>false</td>\n",
       "      <td>0</td>\n",
       "      <td>Путин рассказал, когда в Крыму решат проблему с пресной водой 0 комментариев 7 поделились \\nОтвечая на соответствующий вопрос участника форума Виктора Тарасова, глава российского государства отметил: \"Мы направили на решение этой задачи из федерального бюджета 23 с лишним миллиарда рублей. С 2015 по 2020 г. планируется в федеральной целевой программе по развитию Крыма и Севастополя еще свыше 40 млрд руб.\", — сказал Путин. Он также добавил, что эти деньги необходимо израсходовать рационально....</td>\n",
       "      <td></td>\n",
       "      <td>23 2015 2020 40 45 25 25 pravdaru</td>\n",
       "      <td>0 7 23 2015 2020 40 45 25 25 pravdaru</td>\n",
       "    </tr>\n",
       "    <tr>\n",
       "      <th>492</th>\n",
       "      <td>492</td>\n",
       "      <td>Казахстан на страже ядерной безопасности | Новое восточное обозрение</td>\n",
       "      <td>NaN</td>\n",
       "      <td>В ноябре 2016 г. Мажилис Парламента Республики Казахстан одобрил создание на территории страны Банка низкообогащенного урана МАГАТЭ. Низкообогащенный уран (НОУ) – это материал, из которого делается топливо для АЭС. Создать стратегическое хранилище НОУ Международное атомное агентство решило еще в 2006 г. Цель проекта – гарантировать бесперебойные поставки топлива на АЭС стран, входящих в МАГАТЭ. При этом из самого Банка регулярных поставок осуществляться не будет. Это будет «неприкосновенный ...</td>\n",
       "      <td>false</td>\n",
       "      <td>0</td>\n",
       "      <td>Казахстан на страже ядерной безопасности | Новое восточное обозрение В ноябре 2016 г. Мажилис Парламента Республики Казахстан одобрил создание на территории страны Банка низкообогащенного урана МАГАТЭ. Низкообогащенный уран (НОУ) – это материал, из которого делается топливо для АЭС. Создать стратегическое хранилище НОУ Международное атомное агентство решило еще в 2006 г. Цель проекта – гарантировать бесперебойные поставки топлива на АЭС стран, входящих в МАГАТЭ. При этом из самого Банка регу...</td>\n",
       "      <td></td>\n",
       "      <td>2016 2006 2011 2015 2015 2016 2016 2016 2018 2016</td>\n",
       "      <td>2016 2006 2011 2015 2015 2016 3 2016 2016 2018 2016 5 6</td>\n",
       "    </tr>\n",
       "    <tr>\n",
       "      <th>514</th>\n",
       "      <td>514</td>\n",
       "      <td>ЕС намерен расширить санкции в отношении Сирии</td>\n",
       "      <td>NaN</td>\n",
       "      <td>0 комментариев 0 поделились источник Pravda.Ru \\nКак пишет Wall Street Journal, ссылаясь на свои источники, санкционные репрессии могут быть направлены против министров и их заместителей из правительства Сирии. \\nПо данным издания, в ЕС не будут тянут время, и, скорее всего, список будет расширен уже на следующей неделе. \\nОтметим, в настоящее время в санкционных сирийских списках Европейского союза находятся более 200 человек и около 70 организаций. Напомним, недавно еще пять стран, не вход...</td>\n",
       "      <td>false</td>\n",
       "      <td>0</td>\n",
       "      <td>ЕС намерен расширить санкции в отношении Сирии 0 комментариев 0 поделились источник Pravda.Ru \\nКак пишет Wall Street Journal, ссылаясь на свои источники, санкционные репрессии могут быть направлены против министров и их заместителей из правительства Сирии. \\nПо данным издания, в ЕС не будут тянут время, и, скорее всего, список будет расширен уже на следующей неделе. \\nОтметим, в настоящее время в санкционных сирийских списках Европейского союза находятся более 200 человек и около 70 организ...</td>\n",
       "      <td></td>\n",
       "      <td>pravdaru wall street journal 200 70 pravdaru</td>\n",
       "      <td>0 0 pravdaru wall street journal 200 70 pravdaru</td>\n",
       "    </tr>\n",
       "  </tbody>\n",
       "</table>\n",
       "</div>"
      ],
      "text/plain": [
       "      id  \\\n",
       "47    47   \n",
       "229  229   \n",
       "371  371   \n",
       "492  492   \n",
       "514  514   \n",
       "\n",
       "                                                                                                                  title  \\\n",
       "47                                                    СМИ Сербии приписали россиянам \"подготовку терактов\" в Черногории   \n",
       "229  США—КНР: на кого возлагать ответственность за развитие ракетно-ядерной программы КНДР? | Новое восточное обозрение   \n",
       "371                                                       Путин рассказал, когда в Крыму решат проблему с пресной водой   \n",
       "492                                                Казахстан на страже ядерной безопасности | Новое восточное обозрение   \n",
       "514                                                                      ЕС намерен расширить санкции в отношении Сирии   \n",
       "\n",
       "    author  \\\n",
       "47     NaN   \n",
       "229    NaN   \n",
       "371    NaN   \n",
       "492    NaN   \n",
       "514    NaN   \n",
       "\n",
       "                                                                                                                                                                                                                                                                                                                                                                                                                                                                                                                    text  \\\n",
       "47   0 комментариев 0 поделились Фото: AP \\nОднако глава правительства Сербии Александр Вучич отказался комментировать сообщения о высланных россиянах. \"Не все в вашем вопросе неверно, одна часть не точна. Я не хотел вам отвечать не только по той причине, которую уже назвал, но и еще из-за одной вещи — потому, что об этих делах я говорить не имею права по закону\", — сказал Вучич белградскому телеканалу N1. \\nНовость о депортации российских граждан совпала с неожиданным приездом в Белград секретар...   \n",
       "229  Страна: Китай Заявления КНДР о завершении своей программы развития ядерного оружия вызвали всплеск дискуссий на тему «кто виноват». Точнее, кто несет главную ответственность за то, что ситуация дошла до нынешнего уровня, и на фоне развивающегося противостояния США и КНР Пекин начали обвинять еще и в этом, причем разброс обвинений разнится от «ничего не делал, хотя мог» до «активно помогал». Начнем с высказываний кандидата в президенты США Хиллари Клинтон. 13 октября 2016 г. агентство Associa...   \n",
       "371  0 комментариев 7 поделились \\nОтвечая на соответствующий вопрос участника форума Виктора Тарасова, глава российского государства отметил: \"Мы направили на решение этой задачи из федерального бюджета 23 с лишним миллиарда рублей. С 2015 по 2020 г. планируется в федеральной целевой программе по развитию Крыма и Севастополя еще свыше 40 млрд руб.\", — сказал Путин. Он также добавил, что эти деньги необходимо израсходовать рационально. \"Федеральные и региональные органы власти эту проблему должны...   \n",
       "492  В ноябре 2016 г. Мажилис Парламента Республики Казахстан одобрил создание на территории страны Банка низкообогащенного урана МАГАТЭ. Низкообогащенный уран (НОУ) – это материал, из которого делается топливо для АЭС. Создать стратегическое хранилище НОУ Международное атомное агентство решило еще в 2006 г. Цель проекта – гарантировать бесперебойные поставки топлива на АЭС стран, входящих в МАГАТЭ. При этом из самого Банка регулярных поставок осуществляться не будет. Это будет «неприкосновенный ...   \n",
       "514  0 комментариев 0 поделились источник Pravda.Ru \\nКак пишет Wall Street Journal, ссылаясь на свои источники, санкционные репрессии могут быть направлены против министров и их заместителей из правительства Сирии. \\nПо данным издания, в ЕС не будут тянут время, и, скорее всего, список будет расширен уже на следующей неделе. \\nОтметим, в настоящее время в санкционных сирийских списках Европейского союза находятся более 200 человек и около 70 организаций. Напомним, недавно еще пять стран, не вход...   \n",
       "\n",
       "     label  label_bin  \\\n",
       "47   false          0   \n",
       "229  false          0   \n",
       "371  false          0   \n",
       "492  false          0   \n",
       "514  false          0   \n",
       "\n",
       "                                                                                                                                                                                                                                                                                                                                                                                                                                                                                                               titletext  \\\n",
       "47   СМИ Сербии приписали россиянам \"подготовку терактов\" в Черногории 0 комментариев 0 поделились Фото: AP \\nОднако глава правительства Сербии Александр Вучич отказался комментировать сообщения о высланных россиянах. \"Не все в вашем вопросе неверно, одна часть не точна. Я не хотел вам отвечать не только по той причине, которую уже назвал, но и еще из-за одной вещи — потому, что об этих делах я говорить не имею права по закону\", — сказал Вучич белградскому телеканалу N1. \\nНовость о депортации ро...   \n",
       "229  США—КНР: на кого возлагать ответственность за развитие ракетно-ядерной программы КНДР? | Новое восточное обозрение Страна: Китай Заявления КНДР о завершении своей программы развития ядерного оружия вызвали всплеск дискуссий на тему «кто виноват». Точнее, кто несет главную ответственность за то, что ситуация дошла до нынешнего уровня, и на фоне развивающегося противостояния США и КНР Пекин начали обвинять еще и в этом, причем разброс обвинений разнится от «ничего не делал, хотя мог» до «актив...   \n",
       "371  Путин рассказал, когда в Крыму решат проблему с пресной водой 0 комментариев 7 поделились \\nОтвечая на соответствующий вопрос участника форума Виктора Тарасова, глава российского государства отметил: \"Мы направили на решение этой задачи из федерального бюджета 23 с лишним миллиарда рублей. С 2015 по 2020 г. планируется в федеральной целевой программе по развитию Крыма и Севастополя еще свыше 40 млрд руб.\", — сказал Путин. Он также добавил, что эти деньги необходимо израсходовать рационально....   \n",
       "492  Казахстан на страже ядерной безопасности | Новое восточное обозрение В ноябре 2016 г. Мажилис Парламента Республики Казахстан одобрил создание на территории страны Банка низкообогащенного урана МАГАТЭ. Низкообогащенный уран (НОУ) – это материал, из которого делается топливо для АЭС. Создать стратегическое хранилище НОУ Международное атомное агентство решило еще в 2006 г. Цель проекта – гарантировать бесперебойные поставки топлива на АЭС стран, входящих в МАГАТЭ. При этом из самого Банка регу...   \n",
       "514  ЕС намерен расширить санкции в отношении Сирии 0 комментариев 0 поделились источник Pravda.Ru \\nКак пишет Wall Street Journal, ссылаясь на свои источники, санкционные репрессии могут быть направлены против министров и их заместителей из правительства Сирии. \\nПо данным издания, в ЕС не будут тянут время, и, скорее всего, список будет расширен уже на следующей неделе. \\nОтметим, в настоящее время в санкционных сирийских списках Европейского союза находятся более 200 человек и около 70 организ...   \n",
       "\n",
       "    clean_title  \\\n",
       "47                \n",
       "229               \n",
       "371               \n",
       "492               \n",
       "514               \n",
       "\n",
       "                                                                                                                  clean_text  \\\n",
       "47                                                                        ap n1 26 27 16 16 20 pravdaru viber whatsapp 27 27   \n",
       "229  13 2016 associated press wikileaks 2013 goldman sachs bruce vector 12 2016 14 21 2016 2270 thaad 25 34 2016 18477 27 16   \n",
       "371                                                                                        23 2015 2020 40 45 25 25 pravdaru   \n",
       "492                                                                        2016 2006 2011 2015 2015 2016 2016 2016 2018 2016   \n",
       "514                                                                             pravdaru wall street journal 200 70 pravdaru   \n",
       "\n",
       "                                                                                                                         clean_titletext  \n",
       "47                                                                                0 0 ap n1 26 27 16 16 20 pravdaru viber whatsapp 27 27  \n",
       "229  13 2016 associated press wikileaks 2013 goldman sachs bruce vector 1 1 12 2016 14 21 2 2016 2270 4 thaad 25 34 2016 18477 27 6 16 2  \n",
       "371                                                                                                0 7 23 2015 2020 40 45 25 25 pravdaru  \n",
       "492                                                                              2016 2006 2011 2015 2015 2016 3 2016 2016 2018 2016 5 6  \n",
       "514                                                                                     0 0 pravdaru wall street journal 200 70 pravdaru  "
      ]
     },
     "execution_count": 58,
     "metadata": {},
     "output_type": "execute_result"
    }
   ],
   "source": [
    "# Get count of empty clean title records.\n",
    "print(f\"Empty clean title records: {len(df_test2_filtered[df_test2_filtered['clean_title'] == ''])}\")\n",
    "df_test2_filtered[df_test2_filtered[\"clean_title\"] == \"\"].head()"
   ]
  },
  {
   "cell_type": "code",
   "execution_count": 59,
   "metadata": {},
   "outputs": [
    {
     "name": "stdout",
     "output_type": "stream",
     "text": [
      "Empty clean text records (after removal): 0\n",
      "Filtered df size: (19973, 10)\n"
     ]
    },
    {
     "data": {
      "text/html": [
       "<div>\n",
       "<style scoped>\n",
       "    .dataframe tbody tr th:only-of-type {\n",
       "        vertical-align: middle;\n",
       "    }\n",
       "\n",
       "    .dataframe tbody tr th {\n",
       "        vertical-align: top;\n",
       "    }\n",
       "\n",
       "    .dataframe thead th {\n",
       "        text-align: right;\n",
       "    }\n",
       "</style>\n",
       "<table border=\"1\" class=\"dataframe\">\n",
       "  <thead>\n",
       "    <tr style=\"text-align: right;\">\n",
       "      <th></th>\n",
       "      <th>id</th>\n",
       "      <th>title</th>\n",
       "      <th>author</th>\n",
       "      <th>text</th>\n",
       "      <th>label</th>\n",
       "      <th>label_bin</th>\n",
       "      <th>titletext</th>\n",
       "      <th>clean_title</th>\n",
       "      <th>clean_text</th>\n",
       "      <th>clean_titletext</th>\n",
       "    </tr>\n",
       "  </thead>\n",
       "  <tbody>\n",
       "  </tbody>\n",
       "</table>\n",
       "</div>"
      ],
      "text/plain": [
       "Empty DataFrame\n",
       "Columns: [id, title, author, text, label, label_bin, titletext, clean_title, clean_text, clean_titletext]\n",
       "Index: []"
      ]
     },
     "execution_count": 59,
     "metadata": {},
     "output_type": "execute_result"
    }
   ],
   "source": [
    "# Remove empty clean title records.\n",
    "df_test2_filtered = df_test2_filtered[df_test2_filtered[\"clean_title\"] != \"\"]\n",
    "\n",
    "# Confirm count of empty clean title records.\n",
    "print(f\"Empty clean text records (after removal): {len(df_test2_filtered[df_test2_filtered['clean_title'] == ''])}\")\n",
    "print(f\"Filtered df size: {df_test2_filtered.shape}\")\n",
    "df_test2_filtered[df_test2_filtered[\"clean_title\"] == \"\"].head()"
   ]
  },
  {
   "cell_type": "code",
   "execution_count": 60,
   "metadata": {},
   "outputs": [
    {
     "name": "stdout",
     "output_type": "stream",
     "text": [
      "Number of times clean_text records contain '@' or '#': 0\n"
     ]
    }
   ],
   "source": [
    "# Get count of special characters in the the title and text columns that look like social posts.\n",
    "print(f\"Number of times clean_text records contain '@' or '#': {df_test2_filtered['clean_text'].str.count('#|@').sum()}\")"
   ]
  },
  {
   "cell_type": "code",
   "execution_count": 61,
   "metadata": {},
   "outputs": [
    {
     "data": {
      "text/plain": [
       "(19973, 10)"
      ]
     },
     "execution_count": 61,
     "metadata": {},
     "output_type": "execute_result"
    }
   ],
   "source": [
    "df_test2_filtered.shape"
   ]
  },
  {
   "cell_type": "markdown",
   "metadata": {},
   "source": [
    "# Exploratory Data Analysis for Dataset 2"
   ]
  },
  {
   "cell_type": "code",
   "execution_count": 79,
   "metadata": {},
   "outputs": [
    {
     "data": {
      "text/html": [
       "<div>\n",
       "<style scoped>\n",
       "    .dataframe tbody tr th:only-of-type {\n",
       "        vertical-align: middle;\n",
       "    }\n",
       "\n",
       "    .dataframe tbody tr th {\n",
       "        vertical-align: top;\n",
       "    }\n",
       "\n",
       "    .dataframe thead th {\n",
       "        text-align: right;\n",
       "    }\n",
       "</style>\n",
       "<table border=\"1\" class=\"dataframe\">\n",
       "  <thead>\n",
       "    <tr style=\"text-align: right;\">\n",
       "      <th></th>\n",
       "      <th>id</th>\n",
       "    </tr>\n",
       "    <tr>\n",
       "      <th>label</th>\n",
       "      <th></th>\n",
       "    </tr>\n",
       "  </thead>\n",
       "  <tbody>\n",
       "    <tr>\n",
       "      <th>false</th>\n",
       "      <td>9587</td>\n",
       "    </tr>\n",
       "    <tr>\n",
       "      <th>true</th>\n",
       "      <td>10386</td>\n",
       "    </tr>\n",
       "  </tbody>\n",
       "</table>\n",
       "</div>"
      ],
      "text/plain": [
       "          id\n",
       "label       \n",
       "false   9587\n",
       "true   10386"
      ]
     },
     "execution_count": 79,
     "metadata": {},
     "output_type": "execute_result"
    }
   ],
   "source": [
    "# See the counts of true and fake news articles.\n",
    "pd.pivot_table(df_test2_filtered, values=\"id\", index=\"label\", aggfunc=\"count\")"
   ]
  },
  {
   "cell_type": "code",
   "execution_count": 80,
   "metadata": {},
   "outputs": [
    {
     "name": "stdout",
     "output_type": "stream",
     "text": [
      "There are 36820805 words across all the true articles.\n"
     ]
    },
    {
     "data": {
      "image/png": "[encoded data removed]",
      "text/plain": [
       "<Figure size 432x288 with 1 Axes>"
      ]
     },
     "metadata": {
      "needs_background": "light"
     },
     "output_type": "display_data"
    }
   ],
   "source": [
    "# Create a word cloud of all the true records.\n",
    "truefilt = df_test2_filtered[(df_test2_filtered['label_bin'] == 1)]\n",
    "text = \" \".join(article for article in truefilt.clean_text)\n",
    "\n",
    "# Print the number of words across all the articles.\n",
    "print (\"There are {} words across all the true articles.\".format(len(text)))\n",
    "\n",
    "# Create and generate a word cloud image.\n",
    "wordcloud = WordCloud(max_words=100, background_color=\"white\").generate(text)\n",
    "\n",
    "# Display the wordcloud.\n",
    "plt.imshow(wordcloud, interpolation='bilinear')\n",
    "plt.axis(\"off\")\n",
    "plt.show()"
   ]
  },
  {
   "cell_type": "code",
   "execution_count": 81,
   "metadata": {},
   "outputs": [
    {
     "name": "stdout",
     "output_type": "stream",
     "text": [
      "There are 27078155 words across all the fake articles.\n"
     ]
    },
    {
     "data": {
      "image/png": "[encoded data removed]",
      "text/plain": [
       "<Figure size 432x288 with 1 Axes>"
      ]
     },
     "metadata": {
      "needs_background": "light"
     },
     "output_type": "display_data"
    }
   ],
   "source": [
    "# Create a word cloud of all the fake records.\n",
    "fakefilt = df_test2_filtered[(df_test2_filtered['label_bin'] == 0)]\n",
    "text = \" \".join(article for article in fakefilt.clean_text)\n",
    "\n",
    "# Print the number of words across all the articles.\n",
    "print (\"There are {} words across all the fake articles.\".format(len(text)))\n",
    "\n",
    "# Create and generate a word cloud image.\n",
    "wordcloud = WordCloud(max_words=100, background_color=\"white\").generate(text)\n",
    "\n",
    "# Display the wordcloud.\n",
    "plt.imshow(wordcloud, interpolation='bilinear')\n",
    "plt.axis(\"off\")\n",
    "plt.show()"
   ]
  },
  {
   "cell_type": "markdown",
   "metadata": {},
   "source": [
    "As these wordclouds show, there is a lower word diversity across the fake articles than there is across the real articles. This is the reverse of the trend we saw with Dataset 1. It appears that many of the most popular words are consistent across both the fake news and real news articles."
   ]
  },
  {
   "cell_type": "code",
   "execution_count": 82,
   "metadata": {},
   "outputs": [
    {
     "data": {
      "image/png": "[encoded data removed]",
      "text/plain": [
       "<Figure size 360x360 with 1 Axes>"
      ]
     },
     "metadata": {
      "needs_background": "light"
     },
     "output_type": "display_data"
    }
   ],
   "source": [
    "# Distribution of the polarity of the clean text values of the fake news data. \n",
    "truefilt[\"polarity\"] = truefilt[\"clean_text\"].map(lambda text: TextBlob(text).sentiment.polarity)\n",
    "sns.displot(truefilt[\"polarity\"], kde=True)\n",
    "fig = plt.gcf()"
   ]
  },
  {
   "cell_type": "code",
   "execution_count": 83,
   "metadata": {},
   "outputs": [
    {
     "data": {
      "image/png": "[encoded data removed]",
      "text/plain": [
       "<Figure size 360x360 with 1 Axes>"
      ]
     },
     "metadata": {
      "needs_background": "light"
     },
     "output_type": "display_data"
    }
   ],
   "source": [
    "# Distribution of the polarity of the clean text values of the fake news data. \n",
    "fakefilt[\"polarity\"] = fakefilt[\"clean_text\"].map(lambda text: TextBlob(text).sentiment.polarity)\n",
    "sns.displot(fakefilt[\"polarity\"], kde=True)\n",
    "fig = plt.gcf()"
   ]
  },
  {
   "cell_type": "code",
   "execution_count": 84,
   "metadata": {},
   "outputs": [
    {
     "data": {
      "image/png": "[encoded data removed]",
      "text/plain": [
       "<Figure size 360x360 with 1 Axes>"
      ]
     },
     "metadata": {
      "needs_background": "light"
     },
     "output_type": "display_data"
    }
   ],
   "source": [
    "# Distribution of the word count of the clean text values of the news data.\n",
    "df_test2_filtered[\"word_count\"] = df_test2_filtered[\"clean_text\"].apply(lambda x: len(str(x).split()))\n",
    "sns.displot(df_test2_filtered[\"word_count\"], kde=True)\n",
    "fig = plt.gcf()"
   ]
  },
  {
   "cell_type": "markdown",
   "metadata": {},
   "source": [
    "### Word Counts\n",
    "Get the Top 10 words for real and fake news datasets"
   ]
  },
  {
   "cell_type": "code",
   "execution_count": 85,
   "metadata": {},
   "outputs": [
    {
     "data": {
      "text/html": [
       "<div>\n",
       "<style scoped>\n",
       "    .dataframe tbody tr th:only-of-type {\n",
       "        vertical-align: middle;\n",
       "    }\n",
       "\n",
       "    .dataframe tbody tr th {\n",
       "        vertical-align: top;\n",
       "    }\n",
       "\n",
       "    .dataframe thead th {\n",
       "        text-align: right;\n",
       "    }\n",
       "</style>\n",
       "<table border=\"1\" class=\"dataframe\">\n",
       "  <thead>\n",
       "    <tr style=\"text-align: right;\">\n",
       "      <th></th>\n",
       "      <th>word</th>\n",
       "      <th>freq</th>\n",
       "    </tr>\n",
       "  </thead>\n",
       "  <tbody>\n",
       "    <tr>\n",
       "      <th>0</th>\n",
       "      <td>said</td>\n",
       "      <td>68179</td>\n",
       "    </tr>\n",
       "    <tr>\n",
       "      <th>1</th>\n",
       "      <td>mr</td>\n",
       "      <td>64571</td>\n",
       "    </tr>\n",
       "    <tr>\n",
       "      <th>2</th>\n",
       "      <td>trump</td>\n",
       "      <td>36111</td>\n",
       "    </tr>\n",
       "    <tr>\n",
       "      <th>3</th>\n",
       "      <td>would</td>\n",
       "      <td>22803</td>\n",
       "    </tr>\n",
       "    <tr>\n",
       "      <th>4</th>\n",
       "      <td>one</td>\n",
       "      <td>22523</td>\n",
       "    </tr>\n",
       "    <tr>\n",
       "      <th>5</th>\n",
       "      <td>people</td>\n",
       "      <td>19942</td>\n",
       "    </tr>\n",
       "    <tr>\n",
       "      <th>6</th>\n",
       "      <td>new</td>\n",
       "      <td>19660</td>\n",
       "    </tr>\n",
       "    <tr>\n",
       "      <th>7</th>\n",
       "      <td>president</td>\n",
       "      <td>16829</td>\n",
       "    </tr>\n",
       "    <tr>\n",
       "      <th>8</th>\n",
       "      <td>like</td>\n",
       "      <td>16022</td>\n",
       "    </tr>\n",
       "    <tr>\n",
       "      <th>9</th>\n",
       "      <td>also</td>\n",
       "      <td>15526</td>\n",
       "    </tr>\n",
       "  </tbody>\n",
       "</table>\n",
       "</div>"
      ],
      "text/plain": [
       "        word   freq\n",
       "0       said  68179\n",
       "1         mr  64571\n",
       "2      trump  36111\n",
       "3      would  22803\n",
       "4        one  22523\n",
       "5     people  19942\n",
       "6        new  19660\n",
       "7  president  16829\n",
       "8       like  16022\n",
       "9       also  15526"
      ]
     },
     "execution_count": 85,
     "metadata": {},
     "output_type": "execute_result"
    }
   ],
   "source": [
    "df_word_cnt_true = df_test2_filtered[df_test2_filtered['label']=='true']['clean_text'].str.split(expand=True).stack().value_counts().reset_index()\n",
    "df_word_cnt_true.columns = ['word', 'freq']\n",
    "df_word_cnt_true.head(10)"
   ]
  },
  {
   "cell_type": "code",
   "execution_count": 86,
   "metadata": {},
   "outputs": [
    {
     "data": {
      "text/html": [
       "<div>\n",
       "<style scoped>\n",
       "    .dataframe tbody tr th:only-of-type {\n",
       "        vertical-align: middle;\n",
       "    }\n",
       "\n",
       "    .dataframe tbody tr th {\n",
       "        vertical-align: top;\n",
       "    }\n",
       "\n",
       "    .dataframe thead th {\n",
       "        text-align: right;\n",
       "    }\n",
       "</style>\n",
       "<table border=\"1\" class=\"dataframe\">\n",
       "  <thead>\n",
       "    <tr style=\"text-align: right;\">\n",
       "      <th></th>\n",
       "      <th>word</th>\n",
       "      <th>freq</th>\n",
       "    </tr>\n",
       "  </thead>\n",
       "  <tbody>\n",
       "    <tr>\n",
       "      <th>0</th>\n",
       "      <td>trump</td>\n",
       "      <td>19163</td>\n",
       "    </tr>\n",
       "    <tr>\n",
       "      <th>1</th>\n",
       "      <td>clinton</td>\n",
       "      <td>18514</td>\n",
       "    </tr>\n",
       "    <tr>\n",
       "      <th>2</th>\n",
       "      <td>people</td>\n",
       "      <td>16256</td>\n",
       "    </tr>\n",
       "    <tr>\n",
       "      <th>3</th>\n",
       "      <td>one</td>\n",
       "      <td>15429</td>\n",
       "    </tr>\n",
       "    <tr>\n",
       "      <th>4</th>\n",
       "      <td>would</td>\n",
       "      <td>14373</td>\n",
       "    </tr>\n",
       "    <tr>\n",
       "      <th>5</th>\n",
       "      <td>us</td>\n",
       "      <td>14047</td>\n",
       "    </tr>\n",
       "    <tr>\n",
       "      <th>6</th>\n",
       "      <td>hillary</td>\n",
       "      <td>12421</td>\n",
       "    </tr>\n",
       "    <tr>\n",
       "      <th>7</th>\n",
       "      <td>said</td>\n",
       "      <td>11753</td>\n",
       "    </tr>\n",
       "    <tr>\n",
       "      <th>8</th>\n",
       "      <td>new</td>\n",
       "      <td>10263</td>\n",
       "    </tr>\n",
       "    <tr>\n",
       "      <th>9</th>\n",
       "      <td>like</td>\n",
       "      <td>9993</td>\n",
       "    </tr>\n",
       "  </tbody>\n",
       "</table>\n",
       "</div>"
      ],
      "text/plain": [
       "      word   freq\n",
       "0    trump  19163\n",
       "1  clinton  18514\n",
       "2   people  16256\n",
       "3      one  15429\n",
       "4    would  14373\n",
       "5       us  14047\n",
       "6  hillary  12421\n",
       "7     said  11753\n",
       "8      new  10263\n",
       "9     like   9993"
      ]
     },
     "execution_count": 86,
     "metadata": {},
     "output_type": "execute_result"
    }
   ],
   "source": [
    "df_word_cnt_true = df_test2_filtered[df_test2_filtered['label']=='false']['clean_text'].str.split(expand=True).stack().value_counts().reset_index()\n",
    "df_word_cnt_true.columns = ['word', 'freq']\n",
    "df_word_cnt_true.head(10)"
   ]
  },
  {
   "cell_type": "markdown",
   "metadata": {},
   "source": [
    "Many of the words that appear in the top 10 for the real news dataset also appear in the top 10 for the fake news dataset."
   ]
  },
  {
   "cell_type": "markdown",
   "metadata": {},
   "source": [
    "# Modeling"
   ]
  },
  {
   "cell_type": "markdown",
   "metadata": {},
   "source": [
    "We began by modeling Dataset 1 using Logistic, Naive Bayes, and K-Nearest Neigbors for Unigram, Bigram, and Trigram feature vector text representations."
   ]
  },
  {
   "cell_type": "code",
   "execution_count": 87,
   "metadata": {},
   "outputs": [],
   "source": [
    "train.head(1)\n",
    "start_1=time.time()"
   ]
  },
  {
   "cell_type": "markdown",
   "metadata": {},
   "source": [
    "<h2>Modeling with Unigram words</h2>"
   ]
  },
  {
   "cell_type": "code",
   "execution_count": 92,
   "metadata": {},
   "outputs": [],
   "source": [
    "from sklearn.feature_extraction import text ## Need to re-import because we overwrite text variable in a previous preprocessing function\n",
    "corpus_train = train['clean_text']\n",
    "corpus_dev = dev['clean_text']\n",
    "corpus_test = test['clean_text']\n",
    "y_train = train['label_bin']\n",
    "y_dev = dev['label_bin']\n",
    "y_test = test['label_bin']\n",
    "additional_words=['reuters','washington']\n",
    "stop_words = text.ENGLISH_STOP_WORDS.union(additional_words)\n",
    "\n",
    "cv=CountVectorizer(ngram_range=(1,1),stop_words=stop_words)\n",
    "X_train=cv.fit_transform(corpus_train)\n",
    "X_test=cv.transform(corpus_test)\n",
    "\n",
    "model_lr=LogisticRegression(solver=\"liblinear\", multi_class=\"auto\")\n",
    "model_lr.fit(X_train,y_train)\n",
    "y_pred=model_lr.predict(X_test)"
   ]
  },
  {
   "cell_type": "markdown",
   "metadata": {},
   "source": [
    "<h4> Logistic Model </h4>"
   ]
  },
  {
   "cell_type": "code",
   "execution_count": 93,
   "metadata": {},
   "outputs": [
    {
     "name": "stdout",
     "output_type": "stream",
     "text": [
      "Logistic Unigram F1-score: 0.98418\n"
     ]
    },
    {
     "data": {
      "text/html": [
       "<div>\n",
       "<style scoped>\n",
       "    .dataframe tbody tr th:only-of-type {\n",
       "        vertical-align: middle;\n",
       "    }\n",
       "\n",
       "    .dataframe tbody tr th {\n",
       "        vertical-align: top;\n",
       "    }\n",
       "\n",
       "    .dataframe thead th {\n",
       "        text-align: right;\n",
       "    }\n",
       "</style>\n",
       "<table border=\"1\" class=\"dataframe\">\n",
       "  <thead>\n",
       "    <tr style=\"text-align: right;\">\n",
       "      <th></th>\n",
       "      <th>words</th>\n",
       "      <th>true</th>\n",
       "    </tr>\n",
       "  </thead>\n",
       "  <tbody>\n",
       "    <tr>\n",
       "      <th>0</th>\n",
       "      <td>said</td>\n",
       "      <td>1.157679</td>\n",
       "    </tr>\n",
       "    <tr>\n",
       "      <th>1</th>\n",
       "      <td>saturday</td>\n",
       "      <td>1.171931</td>\n",
       "    </tr>\n",
       "    <tr>\n",
       "      <th>2</th>\n",
       "      <td>representatives</td>\n",
       "      <td>1.237833</td>\n",
       "    </tr>\n",
       "    <tr>\n",
       "      <th>3</th>\n",
       "      <td>reporters</td>\n",
       "      <td>1.320686</td>\n",
       "    </tr>\n",
       "    <tr>\n",
       "      <th>4</th>\n",
       "      <td>nov</td>\n",
       "      <td>1.343154</td>\n",
       "    </tr>\n",
       "    <tr>\n",
       "      <th>5</th>\n",
       "      <td>monday</td>\n",
       "      <td>1.702694</td>\n",
       "    </tr>\n",
       "    <tr>\n",
       "      <th>6</th>\n",
       "      <td>friday</td>\n",
       "      <td>1.862934</td>\n",
       "    </tr>\n",
       "    <tr>\n",
       "      <th>7</th>\n",
       "      <td>tuesday</td>\n",
       "      <td>2.022148</td>\n",
       "    </tr>\n",
       "    <tr>\n",
       "      <th>8</th>\n",
       "      <td>thursday</td>\n",
       "      <td>2.075679</td>\n",
       "    </tr>\n",
       "    <tr>\n",
       "      <th>9</th>\n",
       "      <td>wednesday</td>\n",
       "      <td>2.186411</td>\n",
       "    </tr>\n",
       "  </tbody>\n",
       "</table>\n",
       "</div>"
      ],
      "text/plain": [
       "             words      true\n",
       "0             said  1.157679\n",
       "1         saturday  1.171931\n",
       "2  representatives  1.237833\n",
       "3        reporters  1.320686\n",
       "4              nov  1.343154\n",
       "5           monday  1.702694\n",
       "6           friday  1.862934\n",
       "7          tuesday  2.022148\n",
       "8         thursday  2.075679\n",
       "9        wednesday  2.186411"
      ]
     },
     "metadata": {},
     "output_type": "display_data"
    }
   ],
   "source": [
    "f1_score_1=round(metrics.f1_score(y_test,y_pred,average=\"weighted\"),5)\n",
    "print('Logistic Unigram F1-score:',f1_score_1)\n",
    "\n",
    "weights=model_lr.coef_ #Get the weights of the logistic regression\n",
    "sorted_weights=np.argsort(weights)[:,-10:].flatten() \n",
    "topic_words=cv.get_feature_names_out()[sorted_weights]  \n",
    "categories=['true','fake']\n",
    "topics=categories#set the topics to place in the dataframe\n",
    "df_topics_lr_1=pd.DataFrame() #create dataframe\n",
    "df_topics_lr_1['words']=pd.DataFrame(topic_words)\n",
    "for i in range(1): \n",
    "    specific_weight=weights[i][sorted_weights] \n",
    "    df_topics_lr_1[topics[i]]=pd.DataFrame(specific_weight,columns=[topics[i]]) \n",
    "display(df_topics_lr_1) #showcase the topics and the words for the feature"
   ]
  },
  {
   "cell_type": "markdown",
   "metadata": {},
   "source": [
    "<h4> Naive Bayes Model </h4>"
   ]
  },
  {
   "cell_type": "code",
   "execution_count": 94,
   "metadata": {},
   "outputs": [
    {
     "name": "stdout",
     "output_type": "stream",
     "text": [
      "\n",
      "Show Alpha and F1-Score for Naive-Bayes Model \n",
      "    Model     Alpha  F1-Score\n",
      "Naive-Bayes  0.001   0.9560 \n",
      "Naive-Bayes  0.010   0.9548 \n",
      "Naive-Bayes  0.100   0.9506 \n",
      "Naive-Bayes  1.000   0.9404 \n",
      "Naive-Bayes  2.000   0.9372 \n",
      "Naive-Bayes  5.000   0.9348 \n",
      "Naive-Bayes 10.000   0.9348 \n"
     ]
    },
    {
     "data": {
      "text/html": [
       "<div>\n",
       "<style scoped>\n",
       "    .dataframe tbody tr th:only-of-type {\n",
       "        vertical-align: middle;\n",
       "    }\n",
       "\n",
       "    .dataframe tbody tr th {\n",
       "        vertical-align: top;\n",
       "    }\n",
       "\n",
       "    .dataframe thead th {\n",
       "        text-align: right;\n",
       "    }\n",
       "</style>\n",
       "<table border=\"1\" class=\"dataframe\">\n",
       "  <thead>\n",
       "    <tr style=\"text-align: right;\">\n",
       "      <th></th>\n",
       "      <th>words</th>\n",
       "      <th>true</th>\n",
       "    </tr>\n",
       "  </thead>\n",
       "  <tbody>\n",
       "    <tr>\n",
       "      <th>0</th>\n",
       "      <td>republican</td>\n",
       "      <td>-6.160225</td>\n",
       "    </tr>\n",
       "    <tr>\n",
       "      <th>1</th>\n",
       "      <td>united</td>\n",
       "      <td>-6.136995</td>\n",
       "    </tr>\n",
       "    <tr>\n",
       "      <th>2</th>\n",
       "      <td>house</td>\n",
       "      <td>-6.093670</td>\n",
       "    </tr>\n",
       "    <tr>\n",
       "      <th>3</th>\n",
       "      <td>states</td>\n",
       "      <td>-6.080096</td>\n",
       "    </tr>\n",
       "    <tr>\n",
       "      <th>4</th>\n",
       "      <td>new</td>\n",
       "      <td>-6.075268</td>\n",
       "    </tr>\n",
       "    <tr>\n",
       "      <th>5</th>\n",
       "      <td>government</td>\n",
       "      <td>-5.976500</td>\n",
       "    </tr>\n",
       "    <tr>\n",
       "      <th>6</th>\n",
       "      <td>state</td>\n",
       "      <td>-5.906687</td>\n",
       "    </tr>\n",
       "    <tr>\n",
       "      <th>7</th>\n",
       "      <td>president</td>\n",
       "      <td>-5.607051</td>\n",
       "    </tr>\n",
       "    <tr>\n",
       "      <th>8</th>\n",
       "      <td>trump</td>\n",
       "      <td>-4.899787</td>\n",
       "    </tr>\n",
       "    <tr>\n",
       "      <th>9</th>\n",
       "      <td>said</td>\n",
       "      <td>-4.288408</td>\n",
       "    </tr>\n",
       "  </tbody>\n",
       "</table>\n",
       "</div>"
      ],
      "text/plain": [
       "        words      true\n",
       "0  republican -6.160225\n",
       "1      united -6.136995\n",
       "2       house -6.093670\n",
       "3      states -6.080096\n",
       "4         new -6.075268\n",
       "5  government -5.976500\n",
       "6       state -5.906687\n",
       "7   president -5.607051\n",
       "8       trump -4.899787\n",
       "9        said -4.288408"
      ]
     },
     "metadata": {},
     "output_type": "display_data"
    }
   ],
   "source": [
    "df_alpha_stats_1=pd.DataFrame() #Create dataframe to hold alpha stats\n",
    "alpha=[.001,.01,.1,1,2,5,10] #alpha-values for testing for Naive-Bayes model\n",
    "for i in alpha:\n",
    "    nb_stats={'Model':'Naive-Bayes','Alpha':None,'F1-Score':None} \n",
    "    nb_stats['Alpha']=i \n",
    "    nb_model=MultinomialNB(alpha=i) \n",
    "    nb_model.fit(X_train,y_train) \n",
    "    nb_pred=nb_model.predict(X_test) #Predict on dev dataset\n",
    "    nb_model_f1=metrics.f1_score(y_test,nb_pred,average=\"weighted\") #Get f1-score based on the dev labels and predicted values\n",
    "    nb_stats['F1-Score']=round(nb_model_f1,4) #Make it pretty\n",
    "    df_alpha_stats_1=df_alpha_stats_1.append(nb_stats,ignore_index=True)  #place the values in dataframe\n",
    "print('\\nShow Alpha and F1-Score for Naive-Bayes Model','\\n',df_alpha_stats_1.to_string(index=False,justify='center'))\n",
    "\n",
    "weights=nb_model.coef_ #Get the weights of the logistic regression\n",
    "sorted_weights=np.argsort(weights)[:,-10:].flatten() #sort them in order to get the top 5 weights per topic\n",
    "topic_words=cv.get_feature_names_out()[sorted_weights]\n",
    "categories=['true','fake']\n",
    "topics=categories#set the topics to place in the dataframe\n",
    "df_topics_nb_1=pd.DataFrame() #create dataframe\n",
    "df_topics_nb_1['words']=pd.DataFrame(topic_words) #create the column of words for the top 20 words in each category\n",
    "for i in range(1): #create for loop to go through the topics\n",
    "    specific_weight=weights[i][sorted_weights] #Get the specific weight for that word\n",
    "    df_topics_nb_1[topics[i]]=pd.DataFrame(specific_weight,columns=[topics[i]]) #Place the word and topics in the row\n",
    "display(df_topics_nb_1) #showcase the topics and the words for the feature"
   ]
  },
  {
   "cell_type": "markdown",
   "metadata": {},
   "source": [
    "<h4> KNN Model </h4>"
   ]
  },
  {
   "cell_type": "code",
   "execution_count": 95,
   "metadata": {},
   "outputs": [
    {
     "name": "stdout",
     "output_type": "stream",
     "text": [
      "Show K1 and F1-Score for KNN Model \n",
      " Model  K-value  F1-Score\n",
      " KNN    1.0      0.8025 \n",
      " KNN    3.0      0.7668 \n",
      " KNN    5.0      0.7477 \n",
      " KNN    7.0      0.7435 \n",
      " KNN    9.0      0.7356 \n"
     ]
    }
   ],
   "source": [
    "knn_values=[1,3,5,7,9]\n",
    "df_k_stats_1=pd.DataFrame()\n",
    "knn_stats={'Model':'KNN','K-value':None,'F1-Score':None} #Create dictionary to hold KNN stats to append with dataframe\n",
    "for i in knn_values:\n",
    "    knn_stats['K-value'] = i \n",
    "    knn_model = KNeighborsClassifier(n_neighbors = i) \n",
    "    knn_model.fit(X_train,y_train) \n",
    "    knn_pred=knn_model.predict(X_test) #Predict on dev dataset \n",
    "    knn_model_f1=metrics.f1_score(y_test,knn_pred,average=\"weighted\") #Get f1-score based on the dev labels and predicted values\n",
    "    knn_stats['F1-Score'] = round(knn_model_f1,4) #Make it pretty\n",
    "    df_k_stats_1 = df_k_stats_1.append(knn_stats, ignore_index=True) #place the values in dataframe\n",
    "print('Show K1 and F1-Score for KNN Model','\\n',df_k_stats_1.to_string(index=False,justify='center'))"
   ]
  },
  {
   "cell_type": "markdown",
   "metadata": {},
   "source": [
    "<h2>Modeling with Bigram words</h2>"
   ]
  },
  {
   "cell_type": "code",
   "execution_count": 96,
   "metadata": {},
   "outputs": [],
   "source": [
    "corpus_train = train['clean_text']\n",
    "corpus_dev = dev['clean_text']\n",
    "corpus_test = test['clean_text']\n",
    "y_train = train['label_bin']\n",
    "y_dev = dev['label_bin']\n",
    "y_test = test['label_bin']\n",
    "additional_words=['reuters','washington']\n",
    "stop_words = text.ENGLISH_STOP_WORDS.union(additional_words)\n",
    "\n",
    "cv_2=CountVectorizer(ngram_range=(2,2),stop_words=stop_words)\n",
    "X_train=cv_2.fit_transform(corpus_train)\n",
    "X_test=cv_2.transform(corpus_test)"
   ]
  },
  {
   "cell_type": "markdown",
   "metadata": {},
   "source": [
    "<h4> Logistic Model </h4>"
   ]
  },
  {
   "cell_type": "code",
   "execution_count": 97,
   "metadata": {},
   "outputs": [
    {
     "name": "stdout",
     "output_type": "stream",
     "text": [
      "Logistic Bigram F1-Score 0.97122\n"
     ]
    }
   ],
   "source": [
    "model_lr_2=LogisticRegression(solver=\"liblinear\", multi_class=\"auto\")\n",
    "model_lr_2.fit(X_train,y_train)\n",
    "y_pred=model_lr_2.predict(X_test)\n",
    "f1_score_2=round(metrics.f1_score(y_test,y_pred,average=\"weighted\"),5)\n",
    "print('Logistic Bigram F1-Score',f1_score_2)"
   ]
  },
  {
   "cell_type": "markdown",
   "metadata": {},
   "source": [
    "<h4> Naive Bayes Model </h4>"
   ]
  },
  {
   "cell_type": "code",
   "execution_count": 98,
   "metadata": {},
   "outputs": [
    {
     "name": "stdout",
     "output_type": "stream",
     "text": [
      "\n",
      "Show Alpha and F1-Score for Naive-Bayes Model \n",
      "    Model     Alpha  F1-Score\n",
      "Naive-Bayes  0.001   0.9649 \n",
      "Naive-Bayes  0.010   0.9664 \n",
      "Naive-Bayes  0.100   0.9688 \n",
      "Naive-Bayes  1.000   0.9720 \n",
      "Naive-Bayes  2.000   0.9703 \n",
      "Naive-Bayes  5.000   0.9685 \n",
      "Naive-Bayes 10.000   0.9661 \n",
      "0\n"
     ]
    },
    {
     "data": {
      "text/html": [
       "<div>\n",
       "<style scoped>\n",
       "    .dataframe tbody tr th:only-of-type {\n",
       "        vertical-align: middle;\n",
       "    }\n",
       "\n",
       "    .dataframe tbody tr th {\n",
       "        vertical-align: top;\n",
       "    }\n",
       "\n",
       "    .dataframe thead th {\n",
       "        text-align: right;\n",
       "    }\n",
       "</style>\n",
       "<table border=\"1\" class=\"dataframe\">\n",
       "  <thead>\n",
       "    <tr style=\"text-align: right;\">\n",
       "      <th></th>\n",
       "      <th>words</th>\n",
       "      <th>true</th>\n",
       "    </tr>\n",
       "  </thead>\n",
       "  <tbody>\n",
       "    <tr>\n",
       "      <th>0</th>\n",
       "      <td>islamic state</td>\n",
       "      <td>-9.527698</td>\n",
       "    </tr>\n",
       "    <tr>\n",
       "      <th>1</th>\n",
       "      <td>trump said</td>\n",
       "      <td>-9.501354</td>\n",
       "    </tr>\n",
       "    <tr>\n",
       "      <th>2</th>\n",
       "      <td>said statement</td>\n",
       "      <td>-9.405680</td>\n",
       "    </tr>\n",
       "    <tr>\n",
       "      <th>3</th>\n",
       "      <td>prime minister</td>\n",
       "      <td>-9.357080</td>\n",
       "    </tr>\n",
       "    <tr>\n",
       "      <th>4</th>\n",
       "      <td>new york</td>\n",
       "      <td>-9.281736</td>\n",
       "    </tr>\n",
       "    <tr>\n",
       "      <th>5</th>\n",
       "      <td>north korea</td>\n",
       "      <td>-9.057437</td>\n",
       "    </tr>\n",
       "    <tr>\n",
       "      <th>6</th>\n",
       "      <td>president donald</td>\n",
       "      <td>-9.013265</td>\n",
       "    </tr>\n",
       "    <tr>\n",
       "      <th>7</th>\n",
       "      <td>white house</td>\n",
       "      <td>-8.648131</td>\n",
       "    </tr>\n",
       "    <tr>\n",
       "      <th>8</th>\n",
       "      <td>donald trump</td>\n",
       "      <td>-8.462208</td>\n",
       "    </tr>\n",
       "    <tr>\n",
       "      <th>9</th>\n",
       "      <td>united states</td>\n",
       "      <td>-8.272298</td>\n",
       "    </tr>\n",
       "  </tbody>\n",
       "</table>\n",
       "</div>"
      ],
      "text/plain": [
       "              words      true\n",
       "0     islamic state -9.527698\n",
       "1        trump said -9.501354\n",
       "2    said statement -9.405680\n",
       "3    prime minister -9.357080\n",
       "4          new york -9.281736\n",
       "5       north korea -9.057437\n",
       "6  president donald -9.013265\n",
       "7       white house -8.648131\n",
       "8      donald trump -8.462208\n",
       "9     united states -8.272298"
      ]
     },
     "metadata": {},
     "output_type": "display_data"
    }
   ],
   "source": [
    "df_alpha_stats_2=pd.DataFrame() #Create dataframe to hold alpha stats\n",
    "alpha=[.001,.01,.1,1,2,5,10] #alpha-values for testing for Naive-Bayes model\n",
    "for i in alpha:\n",
    "    nb_stats={'Model':'Naive-Bayes','Alpha':None,'F1-Score':None} \n",
    "    nb_stats['Alpha']=i \n",
    "    nb_model=MultinomialNB(alpha=i) \n",
    "    nb_model.fit(X_train,y_train) \n",
    "    nb_pred=nb_model.predict(X_test) #Predict on dev dataset\n",
    "    nb_model_f1=metrics.f1_score(y_test,nb_pred,average=\"weighted\") #Get f1-score based on the dev labels and predicted values\n",
    "    nb_stats['F1-Score']=round(nb_model_f1,4) #Make it pretty\n",
    "    df_alpha_stats_2=df_alpha_stats_2.append(nb_stats,ignore_index=True)  #place the values in dataframe\n",
    "print('\\nShow Alpha and F1-Score for Naive-Bayes Model','\\n',df_alpha_stats_2.to_string(index=False,justify='center'))\n",
    "\n",
    "weights=nb_model.coef_ #Get the weights of the logistic regression\n",
    "sorted_weights=np.argsort(weights)[:,-10:].flatten() #sort them in order to get the top 5 weights per topic\n",
    "topic_words=cv_2.get_feature_names_out()[sorted_weights] #Grab the words from the top 5 weights \n",
    "categories=['true','fake']\n",
    "topics=categories#set the topics to place in the dataframe\n",
    "df_topics_nb_2=pd.DataFrame() #create dataframe\n",
    "df_topics_nb_2['words']=pd.DataFrame(topic_words) #create the column of words for the top 20 words in each category\n",
    "for i in range(1): #create for loop to go through the topics\n",
    "    print(i)\n",
    "    specific_weight=weights[i][sorted_weights] #Get the specific weight for that word\n",
    "    df_topics_nb_2[topics[i]]=pd.DataFrame(specific_weight,columns=[topics[i]]) #Place the word and topics in the row\n",
    "display(df_topics_nb_2) #showcase the topics and the words for the feature"
   ]
  },
  {
   "cell_type": "markdown",
   "metadata": {},
   "source": [
    "<h4> KNN Model </h4>"
   ]
  },
  {
   "cell_type": "code",
   "execution_count": 99,
   "metadata": {},
   "outputs": [
    {
     "name": "stdout",
     "output_type": "stream",
     "text": [
      "Show K1 and F1-Score for KNN Model \n",
      " Model  K-value  F1-Score\n",
      " KNN    1.0     0.50637 \n",
      " KNN    3.0     0.42563 \n",
      " KNN    5.0     0.40525 \n",
      " KNN    7.0     0.39125 \n",
      " KNN    9.0     0.38755 \n"
     ]
    }
   ],
   "source": [
    "knn_values=[1,3,5,7,9]\n",
    "df_k_stats_2=pd.DataFrame()\n",
    "knn_stats={'Model':'KNN','K-value':None,'F1-Score':None} #Create dictionary to hold KNN stats to append with dataframe\n",
    "for i in knn_values:\n",
    "    knn_stats['K-value'] = i \n",
    "    knn_model = KNeighborsClassifier(n_neighbors = i) \n",
    "    knn_model.fit(X_train,y_train) \n",
    "    knn_pred=knn_model.predict(X_test) #Predict on dev dataset \n",
    "    knn_model_f1=metrics.f1_score(y_test,knn_pred,average=\"weighted\") #Get f1-score based on the dev labels and predicted values\n",
    "    knn_stats['F1-Score'] = round(knn_model_f1,5) #Make it pretty\n",
    "    df_k_stats_2 = df_k_stats_2.append(knn_stats, ignore_index=True) #place the values in dataframe\n",
    "print('Show K1 and F1-Score for KNN Model','\\n',df_k_stats_2.to_string(index=False,justify='center'))"
   ]
  },
  {
   "cell_type": "markdown",
   "metadata": {},
   "source": [
    "<h2> Modeling with Trigram words </h2>"
   ]
  },
  {
   "cell_type": "code",
   "execution_count": 100,
   "metadata": {},
   "outputs": [],
   "source": [
    "corpus_train = train['clean_text']\n",
    "corpus_dev = dev['clean_text']\n",
    "corpus_test = test['clean_text']\n",
    "y_train = train['label_bin']\n",
    "y_dev = dev['label_bin']\n",
    "y_test = test['label_bin']\n",
    "additional_words=['reuters','washington']\n",
    "stop_words = text.ENGLISH_STOP_WORDS.union(additional_words)\n",
    "cv_3=CountVectorizer(ngram_range=(3,3),stop_words=stop_words)\n",
    "X_train=cv_3.fit_transform(corpus_train)\n",
    "X_test=cv_3.transform(corpus_test)"
   ]
  },
  {
   "cell_type": "markdown",
   "metadata": {},
   "source": [
    "<h4> Logistic Model </h4>"
   ]
  },
  {
   "cell_type": "code",
   "execution_count": 101,
   "metadata": {},
   "outputs": [
    {
     "name": "stdout",
     "output_type": "stream",
     "text": [
      "Logistic Trigram Word F1-Score 0.91292\n"
     ]
    }
   ],
   "source": [
    "model_lr_3=LogisticRegression(solver=\"liblinear\", multi_class=\"auto\")\n",
    "model_lr_3.fit(X_train,y_train)\n",
    "y_pred=model_lr_3.predict(X_test)\n",
    "f1_score_3=round(metrics.f1_score(y_test,y_pred,average=\"weighted\"),5)\n",
    "print('Logistic Trigram Word F1-Score',f1_score_3)"
   ]
  },
  {
   "cell_type": "markdown",
   "metadata": {},
   "source": [
    "<h4> Naive-Bayes Model </h4>"
   ]
  },
  {
   "cell_type": "code",
   "execution_count": 102,
   "metadata": {},
   "outputs": [
    {
     "name": "stdout",
     "output_type": "stream",
     "text": [
      "\n",
      "Show Alpha and F1-Score for Naive-Bayes Model \n",
      "    Model     Alpha  F1-Score\n",
      "Naive-Bayes  0.001   0.9554 \n",
      "Naive-Bayes  0.010   0.9571 \n",
      "Naive-Bayes  0.100   0.9586 \n",
      "Naive-Bayes  1.000   0.9586 \n",
      "Naive-Bayes  2.000   0.9590 \n",
      "Naive-Bayes  5.000   0.9558 \n",
      "Naive-Bayes 10.000   0.9528 \n",
      "0\n"
     ]
    },
    {
     "data": {
      "text/html": [
       "<div>\n",
       "<style scoped>\n",
       "    .dataframe tbody tr th:only-of-type {\n",
       "        vertical-align: middle;\n",
       "    }\n",
       "\n",
       "    .dataframe tbody tr th {\n",
       "        vertical-align: top;\n",
       "    }\n",
       "\n",
       "    .dataframe thead th {\n",
       "        text-align: right;\n",
       "    }\n",
       "</style>\n",
       "<table border=\"1\" class=\"dataframe\">\n",
       "  <thead>\n",
       "    <tr style=\"text-align: right;\">\n",
       "      <th></th>\n",
       "      <th>words</th>\n",
       "      <th>true</th>\n",
       "    </tr>\n",
       "  </thead>\n",
       "  <tbody>\n",
       "    <tr>\n",
       "      <th>0</th>\n",
       "      <td>national security adviser</td>\n",
       "      <td>-11.722006</td>\n",
       "    </tr>\n",
       "    <tr>\n",
       "      <th>1</th>\n",
       "      <td>speaker paul ryan</td>\n",
       "      <td>-11.705670</td>\n",
       "    </tr>\n",
       "    <tr>\n",
       "      <th>2</th>\n",
       "      <td>russian president vladimir</td>\n",
       "      <td>-11.703358</td>\n",
       "    </tr>\n",
       "    <tr>\n",
       "      <th>3</th>\n",
       "      <td>secretary state rex</td>\n",
       "      <td>-11.598228</td>\n",
       "    </tr>\n",
       "    <tr>\n",
       "      <th>4</th>\n",
       "      <td>state rex tillerson</td>\n",
       "      <td>-11.594079</td>\n",
       "    </tr>\n",
       "    <tr>\n",
       "      <th>5</th>\n",
       "      <td>president vladimir putin</td>\n",
       "      <td>-11.446158</td>\n",
       "    </tr>\n",
       "    <tr>\n",
       "      <th>6</th>\n",
       "      <td>presidentelect donald trump</td>\n",
       "      <td>-11.368867</td>\n",
       "    </tr>\n",
       "    <tr>\n",
       "      <th>7</th>\n",
       "      <td>white house said</td>\n",
       "      <td>-11.215897</td>\n",
       "    </tr>\n",
       "    <tr>\n",
       "      <th>8</th>\n",
       "      <td>president barack obama</td>\n",
       "      <td>-10.132531</td>\n",
       "    </tr>\n",
       "    <tr>\n",
       "      <th>9</th>\n",
       "      <td>president donald trump</td>\n",
       "      <td>-9.471086</td>\n",
       "    </tr>\n",
       "  </tbody>\n",
       "</table>\n",
       "</div>"
      ],
      "text/plain": [
       "                         words       true\n",
       "0    national security adviser -11.722006\n",
       "1            speaker paul ryan -11.705670\n",
       "2   russian president vladimir -11.703358\n",
       "3          secretary state rex -11.598228\n",
       "4          state rex tillerson -11.594079\n",
       "5     president vladimir putin -11.446158\n",
       "6  presidentelect donald trump -11.368867\n",
       "7             white house said -11.215897\n",
       "8       president barack obama -10.132531\n",
       "9       president donald trump  -9.471086"
      ]
     },
     "metadata": {},
     "output_type": "display_data"
    }
   ],
   "source": [
    "df_alpha_stats_3=pd.DataFrame() #Create dataframe to hold alpha stats\n",
    "alpha=[.001,.01,.1,1,2,5,10] #alpha-values for testing for Naive-Bayes model\n",
    "for i in alpha:\n",
    "    nb_stats={'Model':'Naive-Bayes','Alpha':None,'F1-Score':None} \n",
    "    nb_stats['Alpha']=i \n",
    "    nb_model=MultinomialNB(alpha=i) \n",
    "    nb_model.fit(X_train,y_train) \n",
    "    nb_pred=nb_model.predict(X_test) #Predict on dev dataset\n",
    "    nb_model_f1=metrics.f1_score(y_test,nb_pred,average=\"weighted\") #Get f1-score based on the dev labels and predicted values\n",
    "    nb_stats['F1-Score']=round(nb_model_f1,4) #Make it pretty\n",
    "    df_alpha_stats_3=df_alpha_stats_3.append(nb_stats,ignore_index=True)  #place the values in dataframe\n",
    "print('\\nShow Alpha and F1-Score for Naive-Bayes Model','\\n',df_alpha_stats_3.to_string(index=False,justify='center'))\n",
    "\n",
    "weights=nb_model.coef_ \n",
    "sorted_weights=np.argsort(weights)[:,-10:].flatten() \n",
    "topic_words=cv_3.get_feature_names_out()[sorted_weights] \n",
    "categories=['true','fake']\n",
    "topics=categories#set the topics to place in the dataframe\n",
    "df_topics_nb_3=pd.DataFrame() #create dataframe\n",
    "df_topics_nb_3['words']=pd.DataFrame(topic_words) #create the column of words for the top 20 words in each category\n",
    "for i in range(1): #create for loop to go through the topics\n",
    "    print(i)\n",
    "    specific_weight=weights[i][sorted_weights] #Get the specific weight for that word\n",
    "    df_topics_nb_3[topics[i]]=pd.DataFrame(specific_weight,columns=[topics[i]]) #Place the word and topics in the row\n",
    "display(df_topics_nb_3) "
   ]
  },
  {
   "cell_type": "markdown",
   "metadata": {},
   "source": [
    "<h4> KNN Model </h4>"
   ]
  },
  {
   "cell_type": "code",
   "execution_count": 103,
   "metadata": {},
   "outputs": [
    {
     "name": "stdout",
     "output_type": "stream",
     "text": [
      "Show K1 and F1-Score for KNN Model \n",
      " Model  K-value  F1-Score\n",
      " KNN    1.0      0.4091 \n",
      " KNN    3.0      0.3593 \n",
      " KNN    5.0      0.3524 \n",
      " KNN    7.0      0.3487 \n",
      " KNN    9.0      0.3481 \n"
     ]
    }
   ],
   "source": [
    "knn_values=[1,3,5,7,9]\n",
    "df_k_stats_3=pd.DataFrame()\n",
    "knn_stats={'Model':'KNN','K-value':None,'F1-Score':None} #Create dictionary to hold KNN stats to append with dataframe\n",
    "for i in knn_values:\n",
    "    knn_stats['K-value'] = i \n",
    "    knn_model = KNeighborsClassifier(n_neighbors = i) \n",
    "    knn_model.fit(X_train,y_train) \n",
    "    knn_pred=knn_model.predict(X_test) #Predict on dev dataset \n",
    "    knn_model_f1=metrics.f1_score(y_test,knn_pred,average=\"weighted\") #Get f1-score based on the dev labels and predicted values\n",
    "    knn_stats['F1-Score'] = round(knn_model_f1,4) #Make it pretty\n",
    "    df_k_stats_3 = df_k_stats_3.append(knn_stats, ignore_index=True) #place the values in dataframe\n",
    "print('Show K1 and F1-Score for KNN Model','\\n',df_k_stats_3.to_string(index=False,justify='center'))"
   ]
  },
  {
   "cell_type": "markdown",
   "metadata": {},
   "source": [
    "<h2> Model Analysis based on Max Features - Dataset 1 </h2>"
   ]
  },
  {
   "cell_type": "code",
   "execution_count": 104,
   "metadata": {},
   "outputs": [
    {
     "name": "stdout",
     "output_type": "stream",
     "text": [
      "10 5.185238838195801 0.77309\n",
      "100 5.2990148067474365 0.91369\n",
      "1000 7.230772972106934 0.96641\n",
      "10000 8.302148818969727 0.98208\n",
      "100000 9.469773054122925 0.98403\n"
     ]
    }
   ],
   "source": [
    "corpus_train = train['clean_text']\n",
    "corpus_dev = dev['clean_text']\n",
    "corpus_test = test['clean_text']\n",
    "y_train = train['label_bin']\n",
    "y_dev = dev['label_bin']\n",
    "y_test = test['label_bin']\n",
    "additional_words=['reuters','washington']\n",
    "stop_words = text.ENGLISH_STOP_WORDS.union(additional_words)\n",
    "\n",
    "max_features=[10,100,1000,10000,100000]\n",
    "df_lr_performance=pd.DataFrame()\n",
    "lr_perf={'Model':'Logistic Regression','Features Count':None,'F1-Score':None,'Performance Time':None}\n",
    "for i in max_features:\n",
    "    lr_perf['Features Count']=i\n",
    "    start = time.time()\n",
    "    cv=CountVectorizer(ngram_range=(1,1),stop_words=stop_words,max_features=i)\n",
    "    X_train=cv.fit_transform(corpus_train)\n",
    "    X_test=cv.transform(corpus_test)\n",
    "    model_lr=LogisticRegression(solver=\"liblinear\", multi_class=\"auto\")\n",
    "    model_lr.fit(X_train,y_train)\n",
    "    y_pred=model_lr.predict(X_test)\n",
    "    duration=time.time()-start\n",
    "    f1_score=round(metrics.f1_score(y_test,y_pred,average=\"weighted\"),5)\n",
    "    lr_perf['F1-Score']=f1_score\n",
    "    lr_perf['Performance Time']=duration\n",
    "    df_lr_performance = df_lr_performance.append(lr_perf, ignore_index=True)\n",
    "    print(i,duration,f1_score)\n",
    "\n",
    "#Adding the final performance after 100K features have been added\n",
    "lr_perf={'Model':'Logistic Regression','Features Count':None,'F1-Score':None,'Performance Time':None}\n",
    "start = time.time()\n",
    "cv=CountVectorizer(ngram_range=(1,1),stop_words=stop_words)\n",
    "X_train=cv.fit_transform(corpus_train)\n",
    "X_test=cv.transform(corpus_test)\n",
    "model_lr=LogisticRegression(solver=\"liblinear\", multi_class=\"auto\")\n",
    "model_lr.fit(X_train,y_train)\n",
    "y_pred=model_lr.predict(X_test)\n",
    "duration=time.time()-start\n",
    "f1_score=round(metrics.f1_score(y_test,y_pred,average=\"weighted\"),5)\n",
    "lr_perf['F1-Score']=f1_score\n",
    "lr_perf['Performance Time']=duration\n",
    "lr_perf['Features Count']=len(cv.get_feature_names_out())\n",
    "df_lr_performance = df_lr_performance.append(lr_perf, ignore_index=True)\n",
    "df_lr_performance['Features Count']=df_lr_performance['Features Count'].astype(int)\n"
   ]
  },
  {
   "cell_type": "code",
   "execution_count": 105,
   "metadata": {},
   "outputs": [
    {
     "data": {
      "text/html": [
       "<div>\n",
       "<style scoped>\n",
       "    .dataframe tbody tr th:only-of-type {\n",
       "        vertical-align: middle;\n",
       "    }\n",
       "\n",
       "    .dataframe tbody tr th {\n",
       "        vertical-align: top;\n",
       "    }\n",
       "\n",
       "    .dataframe thead th {\n",
       "        text-align: right;\n",
       "    }\n",
       "</style>\n",
       "<table border=\"1\" class=\"dataframe\">\n",
       "  <thead>\n",
       "    <tr style=\"text-align: right;\">\n",
       "      <th></th>\n",
       "      <th>Model</th>\n",
       "      <th>Features Count</th>\n",
       "      <th>F1-Score</th>\n",
       "      <th>Performance Time</th>\n",
       "    </tr>\n",
       "  </thead>\n",
       "  <tbody>\n",
       "    <tr>\n",
       "      <th>0</th>\n",
       "      <td>Logistic Regression</td>\n",
       "      <td>10</td>\n",
       "      <td>0.77309</td>\n",
       "      <td>5.185239</td>\n",
       "    </tr>\n",
       "    <tr>\n",
       "      <th>1</th>\n",
       "      <td>Logistic Regression</td>\n",
       "      <td>100</td>\n",
       "      <td>0.91369</td>\n",
       "      <td>5.299015</td>\n",
       "    </tr>\n",
       "    <tr>\n",
       "      <th>2</th>\n",
       "      <td>Logistic Regression</td>\n",
       "      <td>1000</td>\n",
       "      <td>0.96641</td>\n",
       "      <td>7.230773</td>\n",
       "    </tr>\n",
       "    <tr>\n",
       "      <th>3</th>\n",
       "      <td>Logistic Regression</td>\n",
       "      <td>10000</td>\n",
       "      <td>0.98208</td>\n",
       "      <td>8.302149</td>\n",
       "    </tr>\n",
       "    <tr>\n",
       "      <th>4</th>\n",
       "      <td>Logistic Regression</td>\n",
       "      <td>100000</td>\n",
       "      <td>0.98403</td>\n",
       "      <td>9.469773</td>\n",
       "    </tr>\n",
       "    <tr>\n",
       "      <th>5</th>\n",
       "      <td>Logistic Regression</td>\n",
       "      <td>192684</td>\n",
       "      <td>0.98418</td>\n",
       "      <td>9.754984</td>\n",
       "    </tr>\n",
       "  </tbody>\n",
       "</table>\n",
       "</div>"
      ],
      "text/plain": [
       "                 Model  Features Count  F1-Score  Performance Time\n",
       "0  Logistic Regression              10   0.77309          5.185239\n",
       "1  Logistic Regression             100   0.91369          5.299015\n",
       "2  Logistic Regression            1000   0.96641          7.230773\n",
       "3  Logistic Regression           10000   0.98208          8.302149\n",
       "4  Logistic Regression          100000   0.98403          9.469773\n",
       "5  Logistic Regression          192684   0.98418          9.754984"
      ]
     },
     "metadata": {},
     "output_type": "display_data"
    },
    {
     "data": {
      "image/png": "[encoded data removed]",
      "text/plain": [
       "<Figure size 432x288 with 1 Axes>"
      ]
     },
     "metadata": {
      "needs_background": "light"
     },
     "output_type": "display_data"
    },
    {
     "data": {
      "image/png": "[encoded data removed]",
      "text/plain": [
       "<Figure size 432x288 with 1 Axes>"
      ]
     },
     "metadata": {
      "needs_background": "light"
     },
     "output_type": "display_data"
    }
   ],
   "source": [
    "#Graphing and Display Performance with Feature Size\n",
    "\n",
    "df_lr_performance.plot.line(x='Features Count',y='F1-Score',ylabel='Model F1-Score',title='Performance based on Vocabulary Size',logx=True,color='purple') #Create plot with purple because purple is cool.  \n",
    "df_lr_performance.plot.line(x='Performance Time',y='F1-Score',ylabel='Model F1-Score',title='Performance based on Duration',logx=False,color='purple') #Create plot with purple because purple is cool.  \n",
    "display(df_lr_performance)"
   ]
  },
  {
   "cell_type": "markdown",
   "metadata": {},
   "source": [
    "<h2>F1 Score Analysis with all Models - Dataset 1 </h2>"
   ]
  },
  {
   "cell_type": "code",
   "execution_count": 106,
   "metadata": {},
   "outputs": [
    {
     "data": {
      "text/html": [
       "<div>\n",
       "<style scoped>\n",
       "    .dataframe tbody tr th:only-of-type {\n",
       "        vertical-align: middle;\n",
       "    }\n",
       "\n",
       "    .dataframe tbody tr th {\n",
       "        vertical-align: top;\n",
       "    }\n",
       "\n",
       "    .dataframe thead th {\n",
       "        text-align: right;\n",
       "    }\n",
       "</style>\n",
       "<table border=\"1\" class=\"dataframe\">\n",
       "  <thead>\n",
       "    <tr style=\"text-align: right;\">\n",
       "      <th></th>\n",
       "      <th>Model</th>\n",
       "      <th>Special Characteristic</th>\n",
       "      <th>F1-Score</th>\n",
       "    </tr>\n",
       "  </thead>\n",
       "  <tbody>\n",
       "    <tr>\n",
       "      <th>0</th>\n",
       "      <td>Logistic Model Unigram</td>\n",
       "      <td>NaN</td>\n",
       "      <td>0.98418</td>\n",
       "    </tr>\n",
       "    <tr>\n",
       "      <th>1</th>\n",
       "      <td>Logistic Model Bigram</td>\n",
       "      <td>NaN</td>\n",
       "      <td>0.97122</td>\n",
       "    </tr>\n",
       "    <tr>\n",
       "      <th>2</th>\n",
       "      <td>Logistic Model Trigram</td>\n",
       "      <td>NaN</td>\n",
       "      <td>0.91292</td>\n",
       "    </tr>\n",
       "    <tr>\n",
       "      <th>3</th>\n",
       "      <td>Naive-Bayes Unigram</td>\n",
       "      <td>0.001</td>\n",
       "      <td>0.95600</td>\n",
       "    </tr>\n",
       "    <tr>\n",
       "      <th>4</th>\n",
       "      <td>Naive-Bayes Bigram</td>\n",
       "      <td>1.0</td>\n",
       "      <td>0.97200</td>\n",
       "    </tr>\n",
       "    <tr>\n",
       "      <th>5</th>\n",
       "      <td>Naive-Bayes Trigram</td>\n",
       "      <td>2.0</td>\n",
       "      <td>0.95900</td>\n",
       "    </tr>\n",
       "    <tr>\n",
       "      <th>6</th>\n",
       "      <td>KNN Unigram</td>\n",
       "      <td>1.0</td>\n",
       "      <td>0.80250</td>\n",
       "    </tr>\n",
       "    <tr>\n",
       "      <th>7</th>\n",
       "      <td>KNN Bigram</td>\n",
       "      <td>1.0</td>\n",
       "      <td>0.50637</td>\n",
       "    </tr>\n",
       "    <tr>\n",
       "      <th>8</th>\n",
       "      <td>KNN Trigram</td>\n",
       "      <td>1.0</td>\n",
       "      <td>0.40910</td>\n",
       "    </tr>\n",
       "  </tbody>\n",
       "</table>\n",
       "</div>"
      ],
      "text/plain": [
       "                    Model Special Characteristic  F1-Score\n",
       "0  Logistic Model Unigram                    NaN   0.98418\n",
       "1   Logistic Model Bigram                    NaN   0.97122\n",
       "2  Logistic Model Trigram                    NaN   0.91292\n",
       "3     Naive-Bayes Unigram                  0.001   0.95600\n",
       "4      Naive-Bayes Bigram                    1.0   0.97200\n",
       "5     Naive-Bayes Trigram                    2.0   0.95900\n",
       "6             KNN Unigram                    1.0   0.80250\n",
       "7              KNN Bigram                    1.0   0.50637\n",
       "8             KNN Trigram                    1.0   0.40910"
      ]
     },
     "metadata": {},
     "output_type": "display_data"
    }
   ],
   "source": [
    "df_all_models=pd.DataFrame()\n",
    "logistic_models={'Model':None,'Special Characteristic':None,'F1-Score':None}\n",
    "log_models={'Logistic Model Unigram':f1_score_1,'Logistic Model Bigram':f1_score_2,'Logistic Model Trigram':f1_score_3}\n",
    "knn_models=[df_k_stats_1,df_k_stats_2,df_k_stats_3]\n",
    "for i in log_models:\n",
    "    logistic_models['Model']=i\n",
    "    logistic_models['F1-Score']=log_models[i]\n",
    "    df_all_models=df_all_models.append(logistic_models, ignore_index=True)\n",
    "nb_models=[df_alpha_stats_1,df_alpha_stats_2,df_alpha_stats_3]\n",
    "count=0\n",
    "for i in nb_models:\n",
    "    max_value_1=i.loc[i['F1-Score'].idxmax()]\n",
    "    if count==0:\n",
    "        max_value_1=max_value_1.replace(to_replace='Naive-Bayes',value='Naive-Bayes Unigram')\n",
    "        count+=1\n",
    "        df_all_models=df_all_models.append(max_value_1,ignore_index=True)\n",
    "        continue\n",
    "    if count==1:\n",
    "        max_value_1=max_value_1.replace(to_replace='Naive-Bayes',value='Naive-Bayes Bigram')\n",
    "        count+=1\n",
    "        df_all_models=df_all_models.append(max_value_1,ignore_index=True)\n",
    "\n",
    "        continue\n",
    "    if count==2:\n",
    "        max_value_1=max_value_1.replace(to_replace='Naive-Bayes',value='Naive-Bayes Trigram')\n",
    "        df_all_models=df_all_models.append(max_value_1,ignore_index=True)\n",
    "        continue\n",
    "count=0\n",
    "for i in knn_models:\n",
    "    max_value_1=i.loc[i['F1-Score'].idxmax()]\n",
    "    if count==0:\n",
    "        max_value_1=max_value_1.replace(to_replace='KNN',value='KNN Unigram')\n",
    "        count+=1\n",
    "        df_all_models=df_all_models.append(max_value_1,ignore_index=True)\n",
    "        continue\n",
    "    if count==1:\n",
    "        max_value_1=max_value_1.replace(to_replace='KNN',value='KNN Bigram')\n",
    "        count+=1\n",
    "        df_all_models=df_all_models.append(max_value_1,ignore_index=True)\n",
    "\n",
    "        continue\n",
    "    if count==2:\n",
    "        max_value_1=max_value_1.replace(to_replace='KNN',value='KNN Trigram')\n",
    "        df_all_models=df_all_models.append(max_value_1,ignore_index=True)\n",
    "        continue\n",
    "\n",
    "df_all_models['Special Characteristic']=df_all_models['Special Characteristic'].combine_first(df_all_models['Alpha'])\n",
    "df_all_models['Special Characteristic']=df_all_models['Special Characteristic'].combine_first(df_all_models['K-value'])\n",
    "df_all_models=df_all_models.drop(columns=['Alpha', 'K-value'])\n",
    "display(df_all_models)\n"
   ]
  },
  {
   "cell_type": "code",
   "execution_count": 107,
   "metadata": {},
   "outputs": [
    {
     "data": {
      "text/plain": [
       "<AxesSubplot:title={'center':'F1-Score All Models'}, xlabel='Model'>"
      ]
     },
     "execution_count": 107,
     "metadata": {},
     "output_type": "execute_result"
    },
    {
     "data": {
      "image/png": "[encoded data removed]",
      "text/plain": [
       "<Figure size 432x288 with 1 Axes>"
      ]
     },
     "metadata": {
      "needs_background": "light"
     },
     "output_type": "display_data"
    }
   ],
   "source": [
    "# Plot F1 score of all models.\n",
    "df_all_models.plot.bar(x='Model',y='F1-Score',color=['purple','green','orange'],title='F1-Score All Models',legend=False)\n"
   ]
  },
  {
   "cell_type": "code",
   "execution_count": 108,
   "metadata": {},
   "outputs": [
    {
     "name": "stdout",
     "output_type": "stream",
     "text": [
      "The total time it takes for all of modeling to finish is 9.803922533988953 minutes\n"
     ]
    }
   ],
   "source": [
    "# Print time it takes to run all models.\n",
    "end_1=time.time()\n",
    "duration=((start_1-end_1)*-1)/60\n",
    "print(f'The total time it takes for all of modeling to finish is {duration} minutes')"
   ]
  },
  {
   "cell_type": "markdown",
   "metadata": {},
   "source": [
    "# Evaluate Models based on Dataset 2"
   ]
  },
  {
   "cell_type": "markdown",
   "metadata": {},
   "source": [
    "## Evaluation with Unigram words"
   ]
  },
  {
   "cell_type": "code",
   "execution_count": 109,
   "metadata": {},
   "outputs": [],
   "source": [
    "## Need to re-import because we overwrite text variable in a previous preprocessing function\n",
    "from sklearn.feature_extraction import text\n",
    "\n",
    "corpus_train = train['clean_text']\n",
    "corpus_test = df_test2_filtered['clean_text']\n",
    "y_train = train['label_bin']\n",
    "y_test = df_test2_filtered['label_bin']\n",
    "\n",
    "additional_words=['reuters','washington']\n",
    "stop_words = text.ENGLISH_STOP_WORDS.union(additional_words)\n",
    "\n",
    "cv=CountVectorizer(ngram_range=(1,1),stop_words=stop_words)\n",
    "X_train=cv.fit_transform(corpus_train)\n",
    "X_test=cv.transform(corpus_test)\n",
    "\n",
    "model_lr=LogisticRegression(solver=\"liblinear\", multi_class=\"auto\")\n",
    "model_lr.fit(X_train,y_train)\n",
    "y_pred=model_lr.predict(X_test)"
   ]
  },
  {
   "cell_type": "markdown",
   "metadata": {},
   "source": [
    "#### Logistic Regression"
   ]
  },
  {
   "cell_type": "code",
   "execution_count": 110,
   "metadata": {},
   "outputs": [
    {
     "name": "stdout",
     "output_type": "stream",
     "text": [
      "Logistic Unigram F1-score: 0.52416\n"
     ]
    }
   ],
   "source": [
    "f1_score_1=round(metrics.f1_score(y_test,y_pred,average=\"weighted\"),5)\n",
    "print('Logistic Unigram F1-score:',f1_score_1)"
   ]
  },
  {
   "cell_type": "markdown",
   "metadata": {},
   "source": [
    "#### Naive Bayes"
   ]
  },
  {
   "cell_type": "code",
   "execution_count": 111,
   "metadata": {},
   "outputs": [
    {
     "name": "stdout",
     "output_type": "stream",
     "text": [
      "\n",
      "Show Alpha and F1-Score for Naive-Bayes Model \n",
      "    Model     Alpha  F1-Score\n",
      "Naive-Bayes  0.001   0.5350 \n",
      "Naive-Bayes  0.010   0.5354 \n",
      "Naive-Bayes  0.100   0.5357 \n",
      "Naive-Bayes  1.000   0.5387 \n",
      "Naive-Bayes  2.000   0.5377 \n",
      "Naive-Bayes  5.000   0.5331 \n",
      "Naive-Bayes 10.000   0.5285 \n"
     ]
    }
   ],
   "source": [
    "df_alpha_stats_1=pd.DataFrame() #Create dataframe to hold alpha stats\n",
    "alpha=[.001,.01,.1,1,2,5,10] #alpha-values for testing for Naive-Bayes model\n",
    "for i in alpha:\n",
    "    nb_stats={'Model':'Naive-Bayes','Alpha':None,'F1-Score':None} \n",
    "    nb_stats['Alpha']=i \n",
    "    nb_model=MultinomialNB(alpha=i) \n",
    "    nb_model.fit(X_train,y_train) \n",
    "    nb_pred=nb_model.predict(X_test) #Predict on dev dataset\n",
    "    nb_model_f1=metrics.f1_score(y_test,nb_pred,average=\"weighted\") #Get f1-score based on the dev labels and predicted values\n",
    "    nb_stats['F1-Score']=round(nb_model_f1,4) #Make it pretty\n",
    "    df_alpha_stats_1=df_alpha_stats_1.append(nb_stats,ignore_index=True)  #place the values in dataframe\n",
    "print('\\nShow Alpha and F1-Score for Naive-Bayes Model','\\n',df_alpha_stats_1.to_string(index=False,justify='center'))"
   ]
  },
  {
   "cell_type": "markdown",
   "metadata": {},
   "source": [
    "#### KNN"
   ]
  },
  {
   "cell_type": "code",
   "execution_count": 112,
   "metadata": {},
   "outputs": [
    {
     "name": "stdout",
     "output_type": "stream",
     "text": [
      "Show K1 and F1-Score for KNN Model \n",
      " Model  K-value  F1-Score\n",
      " KNN    1.0      0.6209 \n",
      " KNN    3.0      0.6230 \n",
      " KNN    5.0      0.6361 \n",
      " KNN    7.0      0.6361 \n",
      " KNN    9.0      0.6398 \n"
     ]
    }
   ],
   "source": [
    "knn_values=[1,3,5,7,9]\n",
    "df_k_stats_1=pd.DataFrame()\n",
    "knn_stats={'Model':'KNN','K-value':None,'F1-Score':None} #Create dictionary to hold KNN stats to append with dataframe\n",
    "for i in knn_values:\n",
    "    knn_stats['K-value'] = i \n",
    "    knn_model = KNeighborsClassifier(n_neighbors = i) \n",
    "    knn_model.fit(X_train,y_train) \n",
    "    knn_pred=knn_model.predict(X_test) #Predict on dev dataset \n",
    "    knn_model_f1=metrics.f1_score(y_test,knn_pred,average=\"weighted\") #Get f1-score based on the dev labels and predicted values\n",
    "    knn_stats['F1-Score'] = round(knn_model_f1,4) #Make it pretty\n",
    "    df_k_stats_1 = df_k_stats_1.append(knn_stats, ignore_index=True) #place the values in dataframe\n",
    "print('Show K1 and F1-Score for KNN Model','\\n',df_k_stats_1.to_string(index=False,justify='center'))"
   ]
  },
  {
   "cell_type": "markdown",
   "metadata": {},
   "source": [
    "## Evaluation with Bigram words"
   ]
  },
  {
   "cell_type": "code",
   "execution_count": 113,
   "metadata": {},
   "outputs": [],
   "source": [
    "corpus_train = train['clean_text']\n",
    "corpus_test = df_test2_filtered['clean_text']\n",
    "y_train = train['label_bin']\n",
    "y_test = df_test2_filtered['label_bin']\n",
    "additional_words=['reuters','washington']\n",
    "stop_words = text.ENGLISH_STOP_WORDS.union(additional_words)\n",
    "\n",
    "cv_2=CountVectorizer(ngram_range=(2,2),stop_words=stop_words)\n",
    "X_train=cv_2.fit_transform(corpus_train)\n",
    "X_test=cv_2.transform(corpus_test)"
   ]
  },
  {
   "cell_type": "markdown",
   "metadata": {},
   "source": [
    "#### Logistic Regression"
   ]
  },
  {
   "cell_type": "code",
   "execution_count": 114,
   "metadata": {},
   "outputs": [
    {
     "name": "stdout",
     "output_type": "stream",
     "text": [
      "Logistic Bigram F1-Score 0.56845\n"
     ]
    }
   ],
   "source": [
    "model_lr_2=LogisticRegression(solver=\"liblinear\", multi_class=\"auto\")\n",
    "model_lr_2.fit(X_train,y_train)\n",
    "y_pred=model_lr_2.predict(X_test)\n",
    "f1_score_2=round(metrics.f1_score(y_test,y_pred,average=\"weighted\"),5)\n",
    "print('Logistic Bigram F1-Score',f1_score_2)"
   ]
  },
  {
   "cell_type": "markdown",
   "metadata": {},
   "source": [
    "#### Naive Bayes"
   ]
  },
  {
   "cell_type": "code",
   "execution_count": 115,
   "metadata": {},
   "outputs": [
    {
     "name": "stdout",
     "output_type": "stream",
     "text": [
      "\n",
      "Show Alpha and F1-Score for Naive-Bayes Model \n",
      "    Model     Alpha  F1-Score\n",
      "Naive-Bayes  0.001   0.5728 \n",
      "Naive-Bayes  0.010   0.5753 \n",
      "Naive-Bayes  0.100   0.5806 \n",
      "Naive-Bayes  1.000   0.5820 \n",
      "Naive-Bayes  2.000   0.5806 \n",
      "Naive-Bayes  5.000   0.5822 \n",
      "Naive-Bayes 10.000   0.5837 \n"
     ]
    }
   ],
   "source": [
    "df_alpha_stats_2=pd.DataFrame() #Create dataframe to hold alpha stats\n",
    "alpha=[.001,.01,.1,1,2,5,10] #alpha-values for testing for Naive-Bayes model\n",
    "for i in alpha:\n",
    "    nb_stats={'Model':'Naive-Bayes','Alpha':None,'F1-Score':None} \n",
    "    nb_stats['Alpha']=i \n",
    "    nb_model=MultinomialNB(alpha=i) \n",
    "    nb_model.fit(X_train,y_train) \n",
    "    nb_pred=nb_model.predict(X_test) #Predict on dev dataset\n",
    "    nb_model_f1=metrics.f1_score(y_test,nb_pred,average=\"weighted\") #Get f1-score based on the dev labels and predicted values\n",
    "    nb_stats['F1-Score']=round(nb_model_f1,4) #Make it pretty\n",
    "    df_alpha_stats_2=df_alpha_stats_2.append(nb_stats,ignore_index=True)  #place the values in dataframe\n",
    "print('\\nShow Alpha and F1-Score for Naive-Bayes Model','\\n',df_alpha_stats_2.to_string(index=False,justify='center'))"
   ]
  },
  {
   "cell_type": "markdown",
   "metadata": {},
   "source": [
    "#### KNN"
   ]
  },
  {
   "cell_type": "code",
   "execution_count": 116,
   "metadata": {},
   "outputs": [
    {
     "name": "stdout",
     "output_type": "stream",
     "text": [
      "Show K1 and F1-Score for KNN Model \n",
      " Model  K-value  F1-Score\n",
      " KNN    1.0     0.38926 \n",
      " KNN    3.0     0.37464 \n",
      " KNN    5.0     0.36777 \n",
      " KNN    7.0     0.36312 \n",
      " KNN    9.0     0.36013 \n"
     ]
    }
   ],
   "source": [
    "knn_values=[1,3,5,7,9]\n",
    "df_k_stats_2=pd.DataFrame()\n",
    "knn_stats={'Model':'KNN','K-value':None,'F1-Score':None} #Create dictionary to hold KNN stats to append with dataframe\n",
    "for i in knn_values:\n",
    "    knn_stats['K-value'] = i \n",
    "    knn_model = KNeighborsClassifier(n_neighbors = i) \n",
    "    knn_model.fit(X_train,y_train) \n",
    "    knn_pred=knn_model.predict(X_test) #Predict on dev dataset \n",
    "    knn_model_f1=metrics.f1_score(y_test,knn_pred,average=\"weighted\") #Get f1-score based on the dev labels and predicted values\n",
    "    knn_stats['F1-Score'] = round(knn_model_f1,5) #Make it pretty\n",
    "    df_k_stats_2 = df_k_stats_2.append(knn_stats, ignore_index=True) #place the values in dataframe\n",
    "print('Show K1 and F1-Score for KNN Model','\\n',df_k_stats_2.to_string(index=False,justify='center'))"
   ]
  },
  {
   "cell_type": "markdown",
   "metadata": {},
   "source": [
    "## Evaluation with Trigram words"
   ]
  },
  {
   "cell_type": "code",
   "execution_count": 117,
   "metadata": {},
   "outputs": [],
   "source": [
    "corpus_train = train['clean_text']\n",
    "corpus_test = df_test2_filtered['clean_text']\n",
    "y_train = train['label_bin']\n",
    "y_test = df_test2_filtered['label_bin']\n",
    "\n",
    "additional_words=['reuters','washington']\n",
    "stop_words = text.ENGLISH_STOP_WORDS.union(additional_words)\n",
    "cv_3=CountVectorizer(ngram_range=(3,3),stop_words=stop_words)\n",
    "X_train=cv_3.fit_transform(corpus_train)\n",
    "X_test=cv_3.transform(corpus_test)"
   ]
  },
  {
   "cell_type": "markdown",
   "metadata": {},
   "source": [
    "#### Logistic Regression"
   ]
  },
  {
   "cell_type": "code",
   "execution_count": 118,
   "metadata": {},
   "outputs": [
    {
     "name": "stdout",
     "output_type": "stream",
     "text": [
      "Logistic Trigram Word F1-Score 0.53931\n"
     ]
    }
   ],
   "source": [
    "model_lr_3=LogisticRegression(solver=\"liblinear\", multi_class=\"auto\")\n",
    "model_lr_3.fit(X_train,y_train)\n",
    "y_pred=model_lr_3.predict(X_test)\n",
    "f1_score_3=round(metrics.f1_score(y_test,y_pred,average=\"weighted\"),5)\n",
    "print('Logistic Trigram Word F1-Score',f1_score_3)"
   ]
  },
  {
   "cell_type": "markdown",
   "metadata": {},
   "source": [
    "#### Naive Bayes"
   ]
  },
  {
   "cell_type": "code",
   "execution_count": 119,
   "metadata": {},
   "outputs": [
    {
     "name": "stdout",
     "output_type": "stream",
     "text": [
      "\n",
      "Show Alpha and F1-Score for Naive-Bayes Model \n",
      "    Model     Alpha  F1-Score\n",
      "Naive-Bayes  0.001   0.6027 \n",
      "Naive-Bayes  0.010   0.6055 \n",
      "Naive-Bayes  0.100   0.6072 \n",
      "Naive-Bayes  1.000   0.6100 \n",
      "Naive-Bayes  2.000   0.6136 \n",
      "Naive-Bayes  5.000   0.6189 \n",
      "Naive-Bayes 10.000   0.6229 \n"
     ]
    }
   ],
   "source": [
    "df_alpha_stats_3=pd.DataFrame() #Create dataframe to hold alpha stats\n",
    "alpha=[.001,.01,.1,1,2,5,10] #alpha-values for testing for Naive-Bayes model\n",
    "for i in alpha:\n",
    "    nb_stats={'Model':'Naive-Bayes','Alpha':None,'F1-Score':None} \n",
    "    nb_stats['Alpha']=i \n",
    "    nb_model=MultinomialNB(alpha=i) \n",
    "    nb_model.fit(X_train,y_train) \n",
    "    nb_pred=nb_model.predict(X_test) #Predict on dev dataset\n",
    "    nb_model_f1=metrics.f1_score(y_test,nb_pred,average=\"weighted\") #Get f1-score based on the dev labels and predicted values\n",
    "    nb_stats['F1-Score']=round(nb_model_f1,4) #Make it pretty\n",
    "    df_alpha_stats_3=df_alpha_stats_3.append(nb_stats,ignore_index=True)  #place the values in dataframe\n",
    "print('\\nShow Alpha and F1-Score for Naive-Bayes Model','\\n',df_alpha_stats_3.to_string(index=False,justify='center'))"
   ]
  },
  {
   "cell_type": "markdown",
   "metadata": {},
   "source": [
    "#### KNN"
   ]
  },
  {
   "cell_type": "code",
   "execution_count": 120,
   "metadata": {},
   "outputs": [
    {
     "name": "stdout",
     "output_type": "stream",
     "text": [
      "Show K1 and F1-Score for KNN Model \n",
      " Model  K-value  F1-Score\n",
      " KNN    1.0      0.3126 \n",
      " KNN    3.0      0.3118 \n",
      " KNN    5.0      0.3118 \n",
      " KNN    7.0      0.3116 \n",
      " KNN    9.0      0.3115 \n"
     ]
    }
   ],
   "source": [
    "knn_values=[1,3,5,7,9]\n",
    "df_k_stats_3=pd.DataFrame()\n",
    "knn_stats={'Model':'KNN','K-value':None,'F1-Score':None} #Create dictionary to hold KNN stats to append with dataframe\n",
    "for i in knn_values:\n",
    "    knn_stats['K-value'] = i \n",
    "    knn_model = KNeighborsClassifier(n_neighbors = i) \n",
    "    knn_model.fit(X_train,y_train) \n",
    "    knn_pred=knn_model.predict(X_test) #Predict on dev dataset \n",
    "    knn_model_f1=metrics.f1_score(y_test,knn_pred,average=\"weighted\") #Get f1-score based on the dev labels and predicted values\n",
    "    knn_stats['F1-Score'] = round(knn_model_f1,4) #Make it pretty\n",
    "    df_k_stats_3 = df_k_stats_3.append(knn_stats, ignore_index=True) #place the values in dataframe\n",
    "print('Show K1 and F1-Score for KNN Model','\\n',df_k_stats_3.to_string(index=False,justify='center'))"
   ]
  },
  {
   "cell_type": "markdown",
   "metadata": {},
   "source": [
    "<h2>F1 Score Analysis with all Models - Dataset 2 </h2>"
   ]
  },
  {
   "cell_type": "code",
   "execution_count": 121,
   "metadata": {},
   "outputs": [
    {
     "data": {
      "text/html": [
       "<div>\n",
       "<style scoped>\n",
       "    .dataframe tbody tr th:only-of-type {\n",
       "        vertical-align: middle;\n",
       "    }\n",
       "\n",
       "    .dataframe tbody tr th {\n",
       "        vertical-align: top;\n",
       "    }\n",
       "\n",
       "    .dataframe thead th {\n",
       "        text-align: right;\n",
       "    }\n",
       "</style>\n",
       "<table border=\"1\" class=\"dataframe\">\n",
       "  <thead>\n",
       "    <tr style=\"text-align: right;\">\n",
       "      <th></th>\n",
       "      <th>Model</th>\n",
       "      <th>Special Characteristic</th>\n",
       "      <th>F1-Score</th>\n",
       "    </tr>\n",
       "  </thead>\n",
       "  <tbody>\n",
       "    <tr>\n",
       "      <th>0</th>\n",
       "      <td>Logistic Model Unigram</td>\n",
       "      <td>NaN</td>\n",
       "      <td>0.52416</td>\n",
       "    </tr>\n",
       "    <tr>\n",
       "      <th>1</th>\n",
       "      <td>Logistic Model Bigram</td>\n",
       "      <td>NaN</td>\n",
       "      <td>0.56845</td>\n",
       "    </tr>\n",
       "    <tr>\n",
       "      <th>2</th>\n",
       "      <td>Logistic Model Trigram</td>\n",
       "      <td>NaN</td>\n",
       "      <td>0.53931</td>\n",
       "    </tr>\n",
       "    <tr>\n",
       "      <th>3</th>\n",
       "      <td>Naive-Bayes Unigram</td>\n",
       "      <td>1.0</td>\n",
       "      <td>0.53870</td>\n",
       "    </tr>\n",
       "    <tr>\n",
       "      <th>4</th>\n",
       "      <td>Naive-Bayes Bigram</td>\n",
       "      <td>10.0</td>\n",
       "      <td>0.58370</td>\n",
       "    </tr>\n",
       "    <tr>\n",
       "      <th>5</th>\n",
       "      <td>Naive-Bayes Trigram</td>\n",
       "      <td>10.0</td>\n",
       "      <td>0.62290</td>\n",
       "    </tr>\n",
       "    <tr>\n",
       "      <th>6</th>\n",
       "      <td>KNN Unigram</td>\n",
       "      <td>9.0</td>\n",
       "      <td>0.63980</td>\n",
       "    </tr>\n",
       "    <tr>\n",
       "      <th>7</th>\n",
       "      <td>KNN Bigram</td>\n",
       "      <td>1.0</td>\n",
       "      <td>0.38926</td>\n",
       "    </tr>\n",
       "    <tr>\n",
       "      <th>8</th>\n",
       "      <td>KNN Trigram</td>\n",
       "      <td>1.0</td>\n",
       "      <td>0.31260</td>\n",
       "    </tr>\n",
       "  </tbody>\n",
       "</table>\n",
       "</div>"
      ],
      "text/plain": [
       "                    Model Special Characteristic  F1-Score\n",
       "0  Logistic Model Unigram                    NaN   0.52416\n",
       "1   Logistic Model Bigram                    NaN   0.56845\n",
       "2  Logistic Model Trigram                    NaN   0.53931\n",
       "3     Naive-Bayes Unigram                    1.0   0.53870\n",
       "4      Naive-Bayes Bigram                   10.0   0.58370\n",
       "5     Naive-Bayes Trigram                   10.0   0.62290\n",
       "6             KNN Unigram                    9.0   0.63980\n",
       "7              KNN Bigram                    1.0   0.38926\n",
       "8             KNN Trigram                    1.0   0.31260"
      ]
     },
     "metadata": {},
     "output_type": "display_data"
    }
   ],
   "source": [
    "df_all_models=pd.DataFrame()\n",
    "logistic_models={'Model':None,'Special Characteristic':None,'F1-Score':None}\n",
    "log_models={'Logistic Model Unigram':f1_score_1,'Logistic Model Bigram':f1_score_2,'Logistic Model Trigram':f1_score_3}\n",
    "knn_models=[df_k_stats_1,df_k_stats_2,df_k_stats_3]\n",
    "for i in log_models:\n",
    "    logistic_models['Model']=i\n",
    "    logistic_models['F1-Score']=log_models[i]\n",
    "    df_all_models=df_all_models.append(logistic_models, ignore_index=True)\n",
    "nb_models=[df_alpha_stats_1,df_alpha_stats_2,df_alpha_stats_3]\n",
    "count=0\n",
    "for i in nb_models:\n",
    "    max_value_1=i.loc[i['F1-Score'].idxmax()]\n",
    "    if count==0:\n",
    "        max_value_1=max_value_1.replace(to_replace='Naive-Bayes',value='Naive-Bayes Unigram')\n",
    "        count+=1\n",
    "        df_all_models=df_all_models.append(max_value_1,ignore_index=True)\n",
    "        continue\n",
    "    if count==1:\n",
    "        max_value_1=max_value_1.replace(to_replace='Naive-Bayes',value='Naive-Bayes Bigram')\n",
    "        count+=1\n",
    "        df_all_models=df_all_models.append(max_value_1,ignore_index=True)\n",
    "\n",
    "        continue\n",
    "    if count==2:\n",
    "        max_value_1=max_value_1.replace(to_replace='Naive-Bayes',value='Naive-Bayes Trigram')\n",
    "        df_all_models=df_all_models.append(max_value_1,ignore_index=True)\n",
    "        continue\n",
    "count=0\n",
    "for i in knn_models:\n",
    "    max_value_1=i.loc[i['F1-Score'].idxmax()]\n",
    "    if count==0:\n",
    "        max_value_1=max_value_1.replace(to_replace='KNN',value='KNN Unigram')\n",
    "        count+=1\n",
    "        df_all_models=df_all_models.append(max_value_1,ignore_index=True)\n",
    "        continue\n",
    "    if count==1:\n",
    "        max_value_1=max_value_1.replace(to_replace='KNN',value='KNN Bigram')\n",
    "        count+=1\n",
    "        df_all_models=df_all_models.append(max_value_1,ignore_index=True)\n",
    "\n",
    "        continue\n",
    "    if count==2:\n",
    "        max_value_1=max_value_1.replace(to_replace='KNN',value='KNN Trigram')\n",
    "        df_all_models=df_all_models.append(max_value_1,ignore_index=True)\n",
    "        continue\n",
    "\n",
    "df_all_models['Special Characteristic']=df_all_models['Special Characteristic'].combine_first(df_all_models['Alpha'])\n",
    "df_all_models['Special Characteristic']=df_all_models['Special Characteristic'].combine_first(df_all_models['K-value'])\n",
    "df_all_models=df_all_models.drop(columns=['Alpha', 'K-value'])\n",
    "display(df_all_models)"
   ]
  },
  {
   "cell_type": "code",
   "execution_count": 122,
   "metadata": {},
   "outputs": [
    {
     "data": {
      "text/plain": [
       "<AxesSubplot:title={'center':'F1-Score All Models'}, xlabel='Model'>"
      ]
     },
     "execution_count": 122,
     "metadata": {},
     "output_type": "execute_result"
    },
    {
     "data": {
      "image/png": "[encoded data removed]",
      "text/plain": [
       "<Figure size 432x288 with 1 Axes>"
      ]
     },
     "metadata": {
      "needs_background": "light"
     },
     "output_type": "display_data"
    }
   ],
   "source": [
    "# Plot F1 score of all models.\n",
    "df_all_models.plot.bar(x='Model',y='F1-Score',color=['purple','green','orange'],title='F1-Score All Models',legend=False)"
   ]
  },
  {
   "cell_type": "markdown",
   "metadata": {},
   "source": [
    "# Results Summary"
   ]
  },
  {
   "cell_type": "markdown",
   "metadata": {},
   "source": [
    "By training and testing the model on Dataset 1, then also evaluating performance on Dataset 2, we were able to explore overfitting and generalizability. As we see in the above graph and table, the F1 scores when evaluating on Dataset 2 were much lower than the F1 scores when evaluating on Dataset 1. When training and testing on Dataset 1, the models with the highest accuracy were Logistic Unigram (98.4%) and, Naive-Bayes Bigram (97.2%), and Logistic Bigram (97.1%). When training on Dataset 1 and testing on Dataset 2, the models with the highest accuracy were KNN Unigram (64.0%), Naive Bayes Trigram (62.3%), and Naive Bayes Bigram (58.4%). "
   ]
  },
  {
   "cell_type": "markdown",
   "metadata": {},
   "source": [
    "# Limitations and Biases"
   ]
  },
  {
   "cell_type": "markdown",
   "metadata": {},
   "source": [
    "Training-serving skew is a key limitation of this work. We see that our training dataset is heavily biased with one or two works yielding high accuracy. This bias became very clear when we evaluated these models on Dataset 2. Interestingly the Bigram and Trigrams in KNN are more performant with the Naive-Bayes Trigram. In other words, a more generalized model seemed to work better when testing with a second dataset.\n",
    "\n",
    "Another limitation of this work is the quality of the data. For Dataset 1, the dataset was comprised as follows: \"This dataset was collected from real-world sources; the truthful articles were obtained by crawling articles from Reuters.com (News website). As for the fake news articles, they were collected from different sources. The fake news articles were collected from unreliable websites that were flagged by Politifact (a fact-checking organization in the USA) and Wikipedia\". The fact that the fake and real news articles are coming from separate sources is a limitation of this dataset. Further, the subjects were different between the fake and real news articles, and the real news articles primarily contained the words \"washington reuters\" (the source) in the text string, which is why we chose to not use the subjects and chose to add these words to the list of stop words."
   ]
  },
  {
   "cell_type": "markdown",
   "metadata": {},
   "source": [
    "# Next Steps"
   ]
  },
  {
   "cell_type": "markdown",
   "metadata": {},
   "source": [
    "Further modeling could involve training models on a more diverse dataset to achieve less overfitting. It would also be interesting to explore other models like Tensorflow and CNN with word embeddings, and compare the performance of these models to the performance of Logisitic Regression, Naive Bayes, and KNN."
   ]
  }
 ],
 "metadata": {
  "colab": {
   "collapsed_sections": [],
   "name": "w027_baseline_submission.ipynb",
   "provenance": []
  },
  "kernelspec": {
   "display_name": "Python 3 (ipykernel)",
   "language": "python",
   "name": "python3"
  },
  "language_info": {
   "codemirror_mode": {
    "name": "ipython",
    "version": 3
   },
   "file_extension": ".py",
   "mimetype": "text/x-python",
   "name": "python",
   "nbconvert_exporter": "python",
   "pygments_lexer": "ipython3",
   "version": "3.7.11"
  }
 },
 "nbformat": 4,
 "nbformat_minor": 4
}
