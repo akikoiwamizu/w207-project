{
 "cells": [
  {
   "cell_type": "markdown",
   "id": "f54fb14b",
   "metadata": {},
   "source": [
    "# Fake and Real News Dataset\n",
    "\n",
    "https://www.kaggle.com/clmentbisaillon/fake-and-real-news-dataset"
   ]
  },
  {
   "cell_type": "code",
   "execution_count": 51,
   "id": "4b4b9013",
   "metadata": {},
   "outputs": [],
   "source": [
    "import re\n",
    "import pandas as pd\n",
    "import numpy as np\n",
    "\n",
    "# SK-learn libraries for learning.\n",
    "from sklearn.pipeline import Pipeline\n",
    "from sklearn.neighbors import KNeighborsClassifier\n",
    "from sklearn.linear_model import LogisticRegression\n",
    "from sklearn.naive_bayes import BernoulliNB\n",
    "from sklearn.naive_bayes import MultinomialNB\n",
    "from sklearn.model_selection import train_test_split\n",
    "\n",
    "# SK-learn libraries for evaluation.\n",
    "from sklearn.metrics import confusion_matrix\n",
    "from sklearn import metrics\n",
    "from sklearn.metrics import classification_report\n",
    "\n",
    "# NLP libraries\n",
    "from sklearn.feature_extraction.text import CountVectorizer, TfidfVectorizer\n",
    "import nltk\n"
   ]
  },
  {
   "cell_type": "code",
   "execution_count": 24,
   "id": "336e06e2",
   "metadata": {},
   "outputs": [],
   "source": [
    "np.random.seed(42)"
   ]
  },
  {
   "cell_type": "code",
   "execution_count": 25,
   "id": "73e1cda9",
   "metadata": {},
   "outputs": [],
   "source": [
    "fake_data=pd.read_csv('../w207-data/Fake.csv')\n",
    "true_data=pd.read_csv('../w207-data/True.csv')\n",
    "fake_data['label']=0\n",
    "true_data['label']=1\n",
    "fake_corpus=fake_data[['text','label']]\n",
    "true_corpus=true_data[['text','label']]\n",
    "frames=[fake_corpus,true_corpus]\n",
    "\n",
    "data=pd.concat(frames)\n",
    "shuffle = np.random.permutation(np.arange(data.shape[0]))\n",
    "data = data.iloc[shuffle]\n",
    "\n",
    "train, test = train_test_split(data, test_size=0.2)"
   ]
  },
  {
   "cell_type": "code",
   "execution_count": 38,
   "id": "a7a6ac7a",
   "metadata": {},
   "outputs": [
    {
     "data": {
      "text/html": [
       "<div>\n",
       "<style scoped>\n",
       "    .dataframe tbody tr th:only-of-type {\n",
       "        vertical-align: middle;\n",
       "    }\n",
       "\n",
       "    .dataframe tbody tr th {\n",
       "        vertical-align: top;\n",
       "    }\n",
       "\n",
       "    .dataframe thead th {\n",
       "        text-align: right;\n",
       "    }\n",
       "</style>\n",
       "<table border=\"1\" class=\"dataframe\">\n",
       "  <thead>\n",
       "    <tr style=\"text-align: right;\">\n",
       "      <th></th>\n",
       "      <th>title</th>\n",
       "      <th>text</th>\n",
       "      <th>subject</th>\n",
       "      <th>date</th>\n",
       "      <th>label</th>\n",
       "    </tr>\n",
       "  </thead>\n",
       "  <tbody>\n",
       "    <tr>\n",
       "      <th>0</th>\n",
       "      <td>Donald Trump Sends Out Embarrassing New Year’...</td>\n",
       "      <td>Donald Trump just couldn t wish all Americans ...</td>\n",
       "      <td>News</td>\n",
       "      <td>December 31, 2017</td>\n",
       "      <td>0</td>\n",
       "    </tr>\n",
       "    <tr>\n",
       "      <th>1</th>\n",
       "      <td>Drunk Bragging Trump Staffer Started Russian ...</td>\n",
       "      <td>House Intelligence Committee Chairman Devin Nu...</td>\n",
       "      <td>News</td>\n",
       "      <td>December 31, 2017</td>\n",
       "      <td>0</td>\n",
       "    </tr>\n",
       "    <tr>\n",
       "      <th>2</th>\n",
       "      <td>Sheriff David Clarke Becomes An Internet Joke...</td>\n",
       "      <td>On Friday, it was revealed that former Milwauk...</td>\n",
       "      <td>News</td>\n",
       "      <td>December 30, 2017</td>\n",
       "      <td>0</td>\n",
       "    </tr>\n",
       "    <tr>\n",
       "      <th>3</th>\n",
       "      <td>Trump Is So Obsessed He Even Has Obama’s Name...</td>\n",
       "      <td>On Christmas day, Donald Trump announced that ...</td>\n",
       "      <td>News</td>\n",
       "      <td>December 29, 2017</td>\n",
       "      <td>0</td>\n",
       "    </tr>\n",
       "    <tr>\n",
       "      <th>4</th>\n",
       "      <td>Pope Francis Just Called Out Donald Trump Dur...</td>\n",
       "      <td>Pope Francis used his annual Christmas Day mes...</td>\n",
       "      <td>News</td>\n",
       "      <td>December 25, 2017</td>\n",
       "      <td>0</td>\n",
       "    </tr>\n",
       "  </tbody>\n",
       "</table>\n",
       "</div>"
      ],
      "text/plain": [
       "                                               title  \\\n",
       "0   Donald Trump Sends Out Embarrassing New Year’...   \n",
       "1   Drunk Bragging Trump Staffer Started Russian ...   \n",
       "2   Sheriff David Clarke Becomes An Internet Joke...   \n",
       "3   Trump Is So Obsessed He Even Has Obama’s Name...   \n",
       "4   Pope Francis Just Called Out Donald Trump Dur...   \n",
       "\n",
       "                                                text subject  \\\n",
       "0  Donald Trump just couldn t wish all Americans ...    News   \n",
       "1  House Intelligence Committee Chairman Devin Nu...    News   \n",
       "2  On Friday, it was revealed that former Milwauk...    News   \n",
       "3  On Christmas day, Donald Trump announced that ...    News   \n",
       "4  Pope Francis used his annual Christmas Day mes...    News   \n",
       "\n",
       "                date  label  \n",
       "0  December 31, 2017      0  \n",
       "1  December 31, 2017      0  \n",
       "2  December 30, 2017      0  \n",
       "3  December 29, 2017      0  \n",
       "4  December 25, 2017      0  "
      ]
     },
     "execution_count": 38,
     "metadata": {},
     "output_type": "execute_result"
    }
   ],
   "source": [
    "fake_data.head()"
   ]
  },
  {
   "cell_type": "code",
   "execution_count": 26,
   "id": "4b23abe2",
   "metadata": {},
   "outputs": [
    {
     "data": {
      "text/html": [
       "<div>\n",
       "<style scoped>\n",
       "    .dataframe tbody tr th:only-of-type {\n",
       "        vertical-align: middle;\n",
       "    }\n",
       "\n",
       "    .dataframe tbody tr th {\n",
       "        vertical-align: top;\n",
       "    }\n",
       "\n",
       "    .dataframe thead th {\n",
       "        text-align: right;\n",
       "    }\n",
       "</style>\n",
       "<table border=\"1\" class=\"dataframe\">\n",
       "  <thead>\n",
       "    <tr style=\"text-align: right;\">\n",
       "      <th></th>\n",
       "      <th>text</th>\n",
       "      <th>label</th>\n",
       "    </tr>\n",
       "  </thead>\n",
       "  <tbody>\n",
       "    <tr>\n",
       "      <th>22216</th>\n",
       "      <td>21st Century Wire says Ben Stein, reputable pr...</td>\n",
       "      <td>0</td>\n",
       "    </tr>\n",
       "    <tr>\n",
       "      <th>4436</th>\n",
       "      <td>WASHINGTON (Reuters) - U.S. President Donald T...</td>\n",
       "      <td>1</td>\n",
       "    </tr>\n",
       "    <tr>\n",
       "      <th>1526</th>\n",
       "      <td>(Reuters) - Puerto Rico Governor Ricardo Rosse...</td>\n",
       "      <td>1</td>\n",
       "    </tr>\n",
       "    <tr>\n",
       "      <th>1377</th>\n",
       "      <td>On Monday, Donald Trump once again embarrassed...</td>\n",
       "      <td>0</td>\n",
       "    </tr>\n",
       "    <tr>\n",
       "      <th>8995</th>\n",
       "      <td>GLASGOW, Scotland (Reuters) - Most U.S. presid...</td>\n",
       "      <td>1</td>\n",
       "    </tr>\n",
       "  </tbody>\n",
       "</table>\n",
       "</div>"
      ],
      "text/plain": [
       "                                                    text  label\n",
       "22216  21st Century Wire says Ben Stein, reputable pr...      0\n",
       "4436   WASHINGTON (Reuters) - U.S. President Donald T...      1\n",
       "1526   (Reuters) - Puerto Rico Governor Ricardo Rosse...      1\n",
       "1377   On Monday, Donald Trump once again embarrassed...      0\n",
       "8995   GLASGOW, Scotland (Reuters) - Most U.S. presid...      1"
      ]
     },
     "execution_count": 26,
     "metadata": {},
     "output_type": "execute_result"
    }
   ],
   "source": [
    "data.head()"
   ]
  },
  {
   "cell_type": "code",
   "execution_count": 31,
   "id": "7fcd7f5f",
   "metadata": {},
   "outputs": [],
   "source": [
    "corpus_train = train['text']\n",
    "cv = CountVectorizer(lowercase=True, stop_words='english', ngram_range=(1,1))\n",
    "X_train = cv.fit_transform(corpus_train)\n",
    "length_vocab = len(cv.vocabulary_)"
   ]
  },
  {
   "cell_type": "code",
   "execution_count": 32,
   "id": "db6005bf",
   "metadata": {},
   "outputs": [
    {
     "data": {
      "text/plain": [
       "111476"
      ]
     },
     "execution_count": 32,
     "metadata": {},
     "output_type": "execute_result"
    }
   ],
   "source": [
    "length_vocab"
   ]
  },
  {
   "cell_type": "code",
   "execution_count": 35,
   "id": "7edbdba3",
   "metadata": {},
   "outputs": [],
   "source": [
    "tfidf = TfidfVectorizer(lowercase=True, stop_words=\"english\")\n",
    "X_train = tfidf.fit_transform(corpus_train)"
   ]
  },
  {
   "cell_type": "code",
   "execution_count": 37,
   "id": "fb7b106b",
   "metadata": {},
   "outputs": [
    {
     "data": {
      "text/plain": [
       "array([[0.        , 0.        , 0.        , ..., 0.        , 0.        ,\n",
       "        0.        ],\n",
       "       [0.        , 0.12040841, 0.        , ..., 0.        , 0.        ,\n",
       "        0.        ],\n",
       "       [0.        , 0.        , 0.        , ..., 0.        , 0.        ,\n",
       "        0.        ],\n",
       "       [0.        , 0.        , 0.        , ..., 0.        , 0.        ,\n",
       "        0.        ],\n",
       "       [0.        , 0.        , 0.        , ..., 0.        , 0.        ,\n",
       "        0.        ]])"
      ]
     },
     "execution_count": 37,
     "metadata": {},
     "output_type": "execute_result"
    }
   ],
   "source": [
    "X_train[0:5].toarray()"
   ]
  },
  {
   "cell_type": "markdown",
   "id": "1df34db7",
   "metadata": {},
   "source": [
    "https://towardsdatascience.com/end-to-end-topic-modeling-in-python-latent-dirichlet-allocation-lda-35ce4ed6b3e0"
   ]
  },
  {
   "cell_type": "code",
   "execution_count": 40,
   "id": "4203a1ce",
   "metadata": {},
   "outputs": [
    {
     "data": {
      "text/plain": [
       "23070    21st century wire says incredibly on the same ...\n",
       "13728    what a role model for women and young girls a ...\n",
       "4712     washington (reuters) - a member of the house r...\n",
       "519      ron paul who s a retired doctor not an economi...\n",
       "4407     washington (reuters) - the chairman of the us ...\n",
       "Name: text_p, dtype: object"
      ]
     },
     "execution_count": 40,
     "metadata": {},
     "output_type": "execute_result"
    }
   ],
   "source": [
    "# Remove punctuation\n",
    "train['text_p'] = train['text'].map(lambda x: re.sub('[,\\.!?]', '', x))\n",
    "# Convert the titles to lowercase\n",
    "train['text_p'] = train['text_p'].map(lambda x: x.lower())\n",
    "# Print out the first rows of papers\n",
    "train['text_p'].head()"
   ]
  },
  {
   "cell_type": "code",
   "execution_count": 41,
   "id": "ab8831e1",
   "metadata": {},
   "outputs": [
    {
     "data": {
      "image/png": "[encoded data removed]",
      "text/plain": [
       "<PIL.Image.Image image mode=RGB size=400x200 at 0x7FECBB2E9430>"
      ]
     },
     "execution_count": 41,
     "metadata": {},
     "output_type": "execute_result"
    }
   ],
   "source": [
    "# Import the wordcloud library\n",
    "from wordcloud import WordCloud\n",
    "# Join the different processed titles together.\n",
    "long_string = ','.join(list(train['text_p'].values))\n",
    "# Create a WordCloud object\n",
    "wordcloud = WordCloud(background_color=\"white\", max_words=1000, contour_width=3, contour_color='steelblue')\n",
    "# Generate a word cloud\n",
    "wordcloud.generate(long_string)\n",
    "# Visualize the word cloud\n",
    "wordcloud.to_image()"
   ]
  },
  {
   "cell_type": "code",
   "execution_count": 43,
   "id": "9bf7d413",
   "metadata": {},
   "outputs": [
    {
     "name": "stderr",
     "output_type": "stream",
     "text": [
      "[nltk_data] Downloading package stopwords to\n",
      "[nltk_data]     /Users/jasonyang/nltk_data...\n",
      "[nltk_data]   Package stopwords is already up-to-date!\n"
     ]
    },
    {
     "name": "stdout",
     "output_type": "stream",
     "text": [
      "['st', 'century', 'wire', 'says', 'incredibly', 'day', 'us', 'intelligence', 'officials', 'due', 'meet', 'president', 'elect', 'donald', 'trump', 'alleged', 'russian', 'hack', 'report', 'like', 'clockwork', 'another', 'active', 'shooter', 'event', 'springs', 'time', 'fort', 'lauderdale', 'international']\n"
     ]
    }
   ],
   "source": [
    "import gensim\n",
    "from gensim.utils import simple_preprocess\n",
    "import nltk\n",
    "nltk.download('stopwords')\n",
    "from nltk.corpus import stopwords\n",
    "\n",
    "stop_words = stopwords.words('english')\n",
    "# stop_words.extend(['from', 'subject', 're', 'edu', 'use'])\n",
    "\n",
    "def sent_to_words(sentences):\n",
    "    for sentence in sentences:\n",
    "        # deacc=True removes punctuations\n",
    "        yield(gensim.utils.simple_preprocess(str(sentence), deacc=True))\n",
    "def remove_stopwords(texts):\n",
    "    return [[word for word in simple_preprocess(str(doc)) \n",
    "             if word not in stop_words] for doc in texts]\n",
    "\n",
    "data = train.text_p.values.tolist()\n",
    "data_words = list(sent_to_words(data))\n",
    "# remove stop words\n",
    "data_words = remove_stopwords(data_words)\n",
    "print(data_words[:1][0][:30])"
   ]
  },
  {
   "cell_type": "code",
   "execution_count": 46,
   "id": "4a0db7e0",
   "metadata": {},
   "outputs": [
    {
     "name": "stdout",
     "output_type": "stream",
     "text": [
      "[(0, 1), (1, 1), (2, 1), (3, 1), (4, 1), (5, 1), (6, 5), (7, 1), (8, 4), (9, 1), (10, 1), (11, 1), (12, 3), (13, 1), (14, 1), (15, 1), (16, 2), (17, 1), (18, 2), (19, 1), (20, 1), (21, 1), (22, 1), (23, 1), (24, 3), (25, 1), (26, 2), (27, 1), (28, 1), (29, 1)]\n"
     ]
    }
   ],
   "source": [
    "import gensim.corpora as corpora\n",
    "# Create Dictionary\n",
    "id2word = corpora.Dictionary(data_words)\n",
    "# Create Corpus\n",
    "texts = data_words\n",
    "# Term Document Frequency\n",
    "corpus = [id2word.doc2bow(text) for text in texts]\n",
    "# View\n",
    "print(corpus[:1][0][:30])"
   ]
  },
  {
   "cell_type": "code",
   "execution_count": 47,
   "id": "3f7f4ddb",
   "metadata": {},
   "outputs": [
    {
     "name": "stdout",
     "output_type": "stream",
     "text": [
      "[(0,\n",
      "  '0.013*\"trump\" + 0.009*\"said\" + 0.007*\"us\" + 0.006*\"president\" + '\n",
      "  '0.005*\"would\" + 0.004*\"one\" + 0.003*\"house\" + 0.003*\"reuters\" + '\n",
      "  '0.003*\"people\" + 0.003*\"also\"'),\n",
      " (1,\n",
      "  '0.011*\"said\" + 0.007*\"trump\" + 0.006*\"us\" + 0.006*\"state\" + '\n",
      "  '0.005*\"president\" + 0.004*\"one\" + 0.004*\"would\" + 0.004*\"people\" + '\n",
      "  '0.004*\"obama\" + 0.004*\"new\"'),\n",
      " (2,\n",
      "  '0.014*\"said\" + 0.008*\"trump\" + 0.007*\"would\" + 0.007*\"us\" + 0.005*\"people\" '\n",
      "  '+ 0.004*\"president\" + 0.003*\"house\" + 0.003*\"new\" + 0.003*\"state\" + '\n",
      "  '0.003*\"states\"'),\n",
      " (3,\n",
      "  '0.017*\"trump\" + 0.011*\"said\" + 0.006*\"president\" + 0.006*\"us\" + '\n",
      "  '0.005*\"would\" + 0.005*\"people\" + 0.003*\"donald\" + 0.003*\"one\" + '\n",
      "  '0.003*\"could\" + 0.003*\"state\"'),\n",
      " (4,\n",
      "  '0.016*\"trump\" + 0.009*\"said\" + 0.007*\"would\" + 0.005*\"us\" + '\n",
      "  '0.005*\"president\" + 0.004*\"one\" + 0.003*\"state\" + 0.003*\"people\" + '\n",
      "  '0.003*\"white\" + 0.003*\"also\"'),\n",
      " (5,\n",
      "  '0.012*\"trump\" + 0.011*\"said\" + 0.005*\"one\" + 0.005*\"president\" + 0.004*\"us\" '\n",
      "  '+ 0.004*\"would\" + 0.003*\"new\" + 0.003*\"also\" + 0.003*\"news\" + '\n",
      "  '0.003*\"people\"'),\n",
      " (6,\n",
      "  '0.024*\"said\" + 0.007*\"us\" + 0.006*\"trump\" + 0.004*\"reuters\" + '\n",
      "  '0.004*\"president\" + 0.004*\"state\" + 0.004*\"would\" + 0.003*\"people\" + '\n",
      "  '0.003*\"clinton\" + 0.003*\"one\"'),\n",
      " (7,\n",
      "  '0.013*\"said\" + 0.012*\"trump\" + 0.008*\"us\" + 0.007*\"would\" + '\n",
      "  '0.006*\"president\" + 0.005*\"people\" + 0.004*\"government\" + 0.004*\"also\" + '\n",
      "  '0.004*\"new\" + 0.003*\"state\"'),\n",
      " (8,\n",
      "  '0.010*\"said\" + 0.008*\"trump\" + 0.005*\"one\" + 0.005*\"us\" + 0.004*\"people\" + '\n",
      "  '0.004*\"president\" + 0.004*\"would\" + 0.003*\"could\" + 0.003*\"year\" + '\n",
      "  '0.003*\"new\"'),\n",
      " (9,\n",
      "  '0.026*\"trump\" + 0.010*\"said\" + 0.007*\"us\" + 0.006*\"president\" + '\n",
      "  '0.005*\"donald\" + 0.005*\"clinton\" + 0.004*\"would\" + 0.003*\"one\" + '\n",
      "  '0.003*\"republican\" + 0.003*\"also\"')]\n"
     ]
    }
   ],
   "source": [
    "from pprint import pprint\n",
    "# number of topics\n",
    "num_topics = 10\n",
    "# Build LDA model\n",
    "lda_model = gensim.models.LdaMulticore(corpus=corpus,\n",
    "                                       id2word=id2word,\n",
    "                                       num_topics=num_topics)\n",
    "# Print the Keyword in the 10 topics\n",
    "pprint(lda_model.print_topics())\n",
    "doc_lda = lda_model[corpus]"
   ]
  },
  {
   "cell_type": "code",
   "execution_count": null,
   "id": "87a0c10c",
   "metadata": {},
   "outputs": [],
   "source": []
  },
  {
   "cell_type": "code",
   "execution_count": 48,
   "id": "34456be4",
   "metadata": {},
   "outputs": [
    {
     "name": "stdout",
     "output_type": "stream",
     "text": [
      "0    18796\n",
      "1    17122\n",
      "Name: label, dtype: int64 \n",
      " Shape of Data is  (35918, 3)\n"
     ]
    }
   ],
   "source": [
    "print(train['label'].value_counts(),'\\n Shape of Data is ',train.shape)\n",
    "corpus=train['text']\n",
    "labels=train['label']\n",
    "test_corpus=test['text']\n",
    "test_labels=test['label']\n",
    "cv=CountVectorizer(ngram_range=(1,1))\n",
    "train_cv=cv.fit_transform(corpus)\n",
    "test_cv=cv.transform(test_corpus)"
   ]
  },
  {
   "cell_type": "code",
   "execution_count": 49,
   "id": "1837edab",
   "metadata": {},
   "outputs": [],
   "source": [
    "log_model=LogisticRegression(solver=\"liblinear\", multi_class=\"auto\")\n",
    "log_model.fit(train_cv,labels)\n",
    "pred_labels=log_model.predict(test_cv)"
   ]
  },
  {
   "cell_type": "code",
   "execution_count": 52,
   "id": "e6eda0fa",
   "metadata": {},
   "outputs": [
    {
     "name": "stdout",
     "output_type": "stream",
     "text": [
      "[[-4.95766988e-02 -8.08288083e-03  1.46726949e-02 ... -6.20069710e-06\n",
      "   1.43306080e-06 -4.49755776e-08]]\n"
     ]
    }
   ],
   "source": [
    "f1_score=round(metrics.f1_score(test_labels,pred_labels,average=\"weighted\"),5)\n",
    "weights=log_model.coef_\n",
    "print(weights)"
   ]
  },
  {
   "cell_type": "code",
   "execution_count": 53,
   "id": "fbc93bd6",
   "metadata": {},
   "outputs": [
    {
     "data": {
      "text/plain": [
       "0.99666"
      ]
     },
     "execution_count": 53,
     "metadata": {},
     "output_type": "execute_result"
    }
   ],
   "source": [
    "f1_score"
   ]
  },
  {
   "cell_type": "markdown",
   "id": "3718657b",
   "metadata": {},
   "source": [
    "https://www.kaggle.com/josutk/only-one-word-99-2\n",
    "\n",
    "The dataset has many features that point to bias towards fake news, apparently a poorly structured dataset that does not allow you to raise more consistent information in relation to real characteristics that fake news can present\n",
    "\n",
    "The fact that fake news is mixed with twitters points out a lack of care for the data, generating a dataset that is extremely simple to be able to accept high results without much engineering.\n",
    "\n",
    "Resulting in the end the use of a single word can allow almost 100% what is true or false news"
   ]
  },
  {
   "cell_type": "code",
   "execution_count": null,
   "id": "6b91ea87",
   "metadata": {},
   "outputs": [],
   "source": []
  },
  {
   "cell_type": "code",
   "execution_count": null,
   "id": "58de733a",
   "metadata": {},
   "outputs": [],
   "source": []
  }
 ],
 "metadata": {
  "kernelspec": {
   "display_name": "Python 3 (ipykernel)",
   "language": "python",
   "name": "python3"
  },
  "language_info": {
   "codemirror_mode": {
    "name": "ipython",
    "version": 3
   },
   "file_extension": ".py",
   "mimetype": "text/x-python",
   "name": "python",
   "nbconvert_exporter": "python",
   "pygments_lexer": "ipython3",
   "version": "3.9.7"
  }
 },
 "nbformat": 4,
 "nbformat_minor": 5
}
